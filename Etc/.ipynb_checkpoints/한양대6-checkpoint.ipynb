{
 "cells": [
  {
   "cell_type": "code",
   "execution_count": 7,
   "metadata": {},
   "outputs": [
    {
     "name": "stdout",
     "output_type": "stream",
     "text": [
      "5 100 3\n",
      "20 60\n",
      "30 70\n",
      "10 50\n",
      "10\n",
      "50\n",
      "40\n",
      "20\n",
      "80\n",
      "3\n",
      "2\n",
      "4\n"
     ]
    }
   ],
   "source": [
    "N,M,K=map(int,input().split())\n",
    "ranges=[list(map(int, input().split())) for _ in range(K)]\n",
    "numbers=sorted([int(input()) for _ in range(N)])\n",
    "result=[]\n",
    "\n",
    "for i in range(K):\n",
    "    cnt, _min, _max = 0, ranges[i][0], ranges[i][1]\n",
    "    for j in numbers:\n",
    "        if j > _max: break\n",
    "        if _min <= j: cnt+=1\n",
    "    result.append(cnt)\n",
    "\n",
    "for i in result: print(i)"
   ]
  },
  {
   "cell_type": "code",
   "execution_count": null,
   "metadata": {},
   "outputs": [],
   "source": []
  }
 ],
 "metadata": {
  "hide_input": false,
  "kernelspec": {
   "display_name": "Python 3",
   "language": "python",
   "name": "python3"
  },
  "language_info": {
   "codemirror_mode": {
    "name": "ipython",
    "version": 3
   },
   "file_extension": ".py",
   "mimetype": "text/x-python",
   "name": "python",
   "nbconvert_exporter": "python",
   "pygments_lexer": "ipython3",
   "version": "3.7.6"
  }
 },
 "nbformat": 4,
 "nbformat_minor": 4
}
