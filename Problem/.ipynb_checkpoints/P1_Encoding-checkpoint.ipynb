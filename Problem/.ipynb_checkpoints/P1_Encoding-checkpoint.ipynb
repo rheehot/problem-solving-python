{
 "cells": [
  {
   "cell_type": "markdown",
   "metadata": {},
   "source": [
    "```python\n",
    "섬으로 향하라!\n",
    "\n",
    "'   + -- + - + -   '\n",
    "'   + --- + - +   '\n",
    "'   + -- + - + -   '\n",
    "'   + - + - + - +   '\n",
    "\n",
    "해(**1**)와 달(**0**),\n",
    "Code의 세상 안으로!(**En-Coding**)\n",
    "```"
   ]
  },
  {
   "cell_type": "code",
   "execution_count": 10,
   "metadata": {},
   "outputs": [
    {
     "name": "stdout",
     "output_type": "stream",
     "text": [
      "J\n",
      "E\n",
      "J\n",
      "U\n"
     ]
    }
   ],
   "source": [
    "# ord : 문자 -> 숫자\n",
    "# chr : 숫자 -> 문자\n",
    "\n",
    "text = ['   + -- + - + -   ',\n",
    "        '   + --- + - +   ',\n",
    "        '   + -- + - + -   ',\n",
    "        '   + - + - + - +   ']\n",
    "\n",
    "for i in text:\n",
    "    print(chr(int(i.strip().replace(' ','').replace('+','1').replace('-','0'),2)))"
   ]
  },
  {
   "cell_type": "code",
   "execution_count": 11,
   "metadata": {},
   "outputs": [
    {
     "data": {
      "text/plain": [
       "'JEJU'"
      ]
     },
     "execution_count": 11,
     "metadata": {},
     "output_type": "execute_result"
    }
   ],
   "source": [
    "''.join(chr(int(i.strip().replace(' ','').replace('+','1').replace('-','0'),2)) for i in text)"
   ]
  },
  {
   "cell_type": "code",
   "execution_count": 16,
   "metadata": {},
   "outputs": [
    {
     "data": {
      "text/plain": [
       "'JEJU'"
      ]
     },
     "execution_count": 16,
     "metadata": {},
     "output_type": "execute_result"
    }
   ],
   "source": [
    "sorted_text = [i.strip().replace(' ','').replace('+','1').replace('-','0') for i in text]\n",
    "''.join((map(lambda x : chr(int(x,2)),sorted_text)))"
   ]
  },
  {
   "cell_type": "code",
   "execution_count": 17,
   "metadata": {},
   "outputs": [
    {
     "data": {
      "text/plain": [
       "'JEJU'"
      ]
     },
     "execution_count": 17,
     "metadata": {},
     "output_type": "execute_result"
    }
   ],
   "source": [
    "def f(x):\n",
    "    return chr(int(x,2))\n",
    "''.join(list(map(f,sorted_text)))"
   ]
  },
  {
   "cell_type": "code",
   "execution_count": null,
   "metadata": {},
   "outputs": [],
   "source": []
  }
 ],
 "metadata": {
  "hide_input": false,
  "kernelspec": {
   "display_name": "Python 3",
   "language": "python",
   "name": "python3"
  },
  "language_info": {
   "codemirror_mode": {
    "name": "ipython",
    "version": 3
   },
   "file_extension": ".py",
   "mimetype": "text/x-python",
   "name": "python",
   "nbconvert_exporter": "python",
   "pygments_lexer": "ipython3",
   "version": "3.7.6"
  }
 },
 "nbformat": 4,
 "nbformat_minor": 4
}
