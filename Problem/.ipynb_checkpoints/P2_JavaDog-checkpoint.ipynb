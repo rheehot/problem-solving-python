{
 "cells": [
  {
   "cell_type": "markdown",
   "metadata": {},
   "source": [
    "```python\n",
    "**입력**\n",
    "돌의내구도 = [1, 2, 1, 4]\n",
    "독 = [{\n",
    "    \"이름\" : \"루비독\",\n",
    "    \"나이\" : \"95년생\",\n",
    "    \"점프력\" : \"3\",\n",
    "    \"몸무게\" : \"4\",\n",
    "    },{\n",
    "    \"이름\" : \"피치독\",\n",
    "    \"나이\" : \"95년생\",\n",
    "    \"점프력\" : \"3\",\n",
    "    \"몸무게\" : \"3\",\n",
    "    },{\n",
    "    \"이름\" : \"씨-독\",\n",
    "    \"나이\" : \"72년생\",\n",
    "    \"점프력\" : \"2\",\n",
    "    \"몸무게\" : \"1\",\n",
    "    },{\n",
    "    \"이름\" : \"코볼독\",\n",
    "    \"나이\" : \"59년생\",\n",
    "    \"점프력\" : \"1\",\n",
    "    \"몸무게\" : \"1\",\n",
    "    },\n",
    "]\n",
    "\n",
    "**출력**\n",
    "생존자 : ['씨-독']\n",
    "\n",
    "**입력**\n",
    "돌의내구도 = [5, 3, 4, 1, 3, 8, 3]\n",
    "독 = [{\n",
    "    \"이름\" : \"루비독\",\n",
    "    \"나이\" : \"95년생\",\n",
    "    \"점프력\" : \"3\",\n",
    "    \"몸무게\" : \"4\",\n",
    "    },{\n",
    "    \"이름\" : \"피치독\",\n",
    "    \"나이\" : \"95년생\",\n",
    "    \"점프력\" : \"3\",\n",
    "    \"몸무게\" : \"3\",\n",
    "    },{\n",
    "    \"이름\" : \"씨-독\",\n",
    "    \"나이\" : \"72년생\",\n",
    "    \"점프력\" : \"2\",\n",
    "    \"몸무게\" : \"1\",\n",
    "    },{\n",
    "    \"이름\" : \"코볼독\",\n",
    "    \"나이\" : \"59년생\",\n",
    "    \"점프력\" : \"1\",\n",
    "    \"몸무게\" : \"1\",\n",
    "    },\n",
    "]\n",
    "\n",
    "**출력**\n",
    "생존자 : ['루비독', '씨-독']\n",
    "```"
   ]
  },
  {
   "cell_type": "code",
   "execution_count": 1,
   "metadata": {},
   "outputs": [],
   "source": [
    "돌의내구도 = [1, 2, 1, 4]\n",
    "독 = [{\n",
    "    \"이름\" : \"루비독\",\n",
    "    \"나이\" : \"95년생\",\n",
    "    \"점프력\" : \"3\",\n",
    "    \"몸무게\" : \"4\",\n",
    "    },{\n",
    "    \"이름\" : \"피치독\",\n",
    "    \"나이\" : \"95년생\",\n",
    "    \"점프력\" : \"3\",\n",
    "    \"몸무게\" : \"3\",\n",
    "    },{\n",
    "    \"이름\" : \"씨-독\",\n",
    "    \"나이\" : \"72년생\",\n",
    "    \"점프력\" : \"2\",\n",
    "    \"몸무게\" : \"1\",\n",
    "    },{\n",
    "    \"이름\" : \"코볼독\",\n",
    "    \"나이\" : \"59년생\",\n",
    "    \"점프력\" : \"1\",\n",
    "    \"몸무게\" : \"1\",\n",
    "    },\n",
    "]"
   ]
  },
  {
   "cell_type": "code",
   "execution_count": 6,
   "metadata": {},
   "outputs": [
    {
     "name": "stdout",
     "output_type": "stream",
     "text": [
      "['씨-독']\n"
     ]
    }
   ],
   "source": [
    "def solution(돌의내구도, 독):\n",
    "    answer = [i['이름'] for i in 독]\n",
    "    for i in 독:\n",
    "        독의위치 = 0\n",
    "        while 독의위치 < len(돌의내구도) - 1:\n",
    "            독의위치 += int(i['점프력'])\n",
    "            돌의내구도[독의위치 - 1] -= int(i['몸무게'])\n",
    "            if(돌의내구도[독의위치 - 1] < 0):\n",
    "                del answer[answer.index(i['이름'])] #del: O(1), remove: O(n)\n",
    "                break\n",
    "    return answer\n",
    "\n",
    "print(solution(돌의내구도.copy(), 독.copy()))"
   ]
  },
  {
   "cell_type": "code",
   "execution_count": 13,
   "metadata": {},
   "outputs": [
    {
     "data": {
      "text/plain": [
       "{'이름': '루비독', '나이': '95년생', '점프력': '3', '몸무게': '4'}"
      ]
     },
     "execution_count": 13,
     "metadata": {},
     "output_type": "execute_result"
    }
   ],
   "source": [
    "import json\n",
    "\n",
    "JSON독 = json.dumps(독, ensure_ascii=False)\n",
    "\n",
    "JSON독 = json.loads(JSON독)\n",
    "JSON독[0]"
   ]
  }
 ],
 "metadata": {
  "hide_input": false,
  "kernelspec": {
   "display_name": "Python 3",
   "language": "python",
   "name": "python3"
  },
  "language_info": {
   "codemirror_mode": {
    "name": "ipython",
    "version": 3
   },
   "file_extension": ".py",
   "mimetype": "text/x-python",
   "name": "python",
   "nbconvert_exporter": "python",
   "pygments_lexer": "ipython3",
   "version": "3.7.6"
  }
 },
 "nbformat": 4,
 "nbformat_minor": 4
}
