{
 "cells": [
  {
   "cell_type": "markdown",
   "metadata": {},
   "source": [
    "## 피보나치 수열 - DP(재귀)"
   ]
  },
  {
   "cell_type": "code",
   "execution_count": 4,
   "metadata": {},
   "outputs": [],
   "source": [
    "d=[0]*101\n",
    "def fibo(x):\n",
    "    if x in [1,2]: return 1\n",
    "    if d[x]!=0: return d[x]\n",
    "    else:\n",
    "        d[x]=fibo(x-1)+fibo(x-2)\n",
    "        return d[x]"
   ]
  },
  {
   "cell_type": "code",
   "execution_count": 5,
   "metadata": {},
   "outputs": [
    {
     "name": "stdout",
     "output_type": "stream",
     "text": [
      "354224848179261915075\n"
     ]
    }
   ],
   "source": [
    "print(fibo(100))"
   ]
  },
  {
   "cell_type": "markdown",
   "metadata": {},
   "source": [
    "## 피보나치 수열 - DP(반복문)"
   ]
  },
  {
   "cell_type": "code",
   "execution_count": 17,
   "metadata": {},
   "outputs": [],
   "source": [
    "d=[0,1,1]+[0]*98\n",
    "def fibo(x):\n",
    "    for i in range(3,x+1):\n",
    "        d[i]=d[i-1]+d[i-2]\n",
    "    return d[x]"
   ]
  },
  {
   "cell_type": "code",
   "execution_count": 19,
   "metadata": {},
   "outputs": [
    {
     "name": "stdout",
     "output_type": "stream",
     "text": [
      "354224848179261915075\n"
     ]
    }
   ],
   "source": [
    "print(fibo(100))"
   ]
  },
  {
   "cell_type": "markdown",
   "metadata": {},
   "source": [
    "-> 위 DP는 바텀업 - 대표적인 DP 테이블 방식"
   ]
  },
  {
   "cell_type": "markdown",
   "metadata": {},
   "source": [
    "## 1로 만들기"
   ]
  },
  {
   "cell_type": "code",
   "execution_count": 21,
   "metadata": {},
   "outputs": [
    {
     "name": "stdout",
     "output_type": "stream",
     "text": [
      "26\n",
      "3\n"
     ]
    }
   ],
   "source": [
    "x=int(input())\n",
    "d=[0]*30001\n",
    "\n",
    "for i in range(2, x+1):\n",
    "    d[i] = d[i-1]+1\n",
    "    if i%2==0: d[i]=min(d[i],d[i//2]+1)\n",
    "    if i%3==0: d[i]=min(d[i],d[i//3]+1)\n",
    "    if i%5==0: d[i]=min(d[i],d[i//5]+1)\n",
    "\n",
    "print(d[x])"
   ]
  },
  {
   "cell_type": "markdown",
   "metadata": {},
   "source": [
    "## 개미 전사"
   ]
  },
  {
   "cell_type": "code",
   "execution_count": 24,
   "metadata": {},
   "outputs": [
    {
     "name": "stdout",
     "output_type": "stream",
     "text": [
      "4\n",
      "1 3 1 5\n",
      "0\n"
     ]
    }
   ],
   "source": [
    "n=int(input())\n",
    "k=list(map(int,input().split()))\n",
    "d_1=[k[0]]+[0]*100\n",
    "d_2=[k[1]]+[0]*100\n",
    "\n",
    "for i in range(2,n):\n",
    "    d_1[i]=d_1[i-2]+k[i]\n",
    "    d_2[i]=d_2[i-2]+k[i]\n",
    "\n",
    "print(min(d_1[n],d_2[n]))"
   ]
  },
  {
   "cell_type": "code",
   "execution_count": null,
   "metadata": {},
   "outputs": [],
   "source": []
  }
 ],
 "metadata": {
  "hide_input": false,
  "kernelspec": {
   "display_name": "Python 3",
   "language": "python",
   "name": "python3"
  },
  "language_info": {
   "codemirror_mode": {
    "name": "ipython",
    "version": 3
   },
   "file_extension": ".py",
   "mimetype": "text/x-python",
   "name": "python",
   "nbconvert_exporter": "python",
   "pygments_lexer": "ipython3",
   "version": "3.7.6"
  }
 },
 "nbformat": 4,
 "nbformat_minor": 4
}
