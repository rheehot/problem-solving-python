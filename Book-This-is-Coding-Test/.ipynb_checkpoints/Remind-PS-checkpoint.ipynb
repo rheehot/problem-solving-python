{
 "cells": [
  {
   "cell_type": "markdown",
   "metadata": {},
   "source": [
    "# Greedy"
   ]
  },
  {
   "cell_type": "markdown",
   "metadata": {},
   "source": [
    "## Q01. 모험가 길드"
   ]
  },
  {
   "cell_type": "code",
   "execution_count": 1,
   "metadata": {},
   "outputs": [
    {
     "name": "stdout",
     "output_type": "stream",
     "text": [
      "5\n",
      "2 3 1 2 2\n",
      "2\n"
     ]
    }
   ],
   "source": [
    "n = int(input())\n",
    "people = list(map(int,input().split()))\n",
    "people.sort()\n",
    "\n",
    "each_group_cnt=0\n",
    "total_group_cnt=0\n",
    "\n",
    "for scared in people:\n",
    "    each_group_cnt+=1\n",
    "    if each_group_cnt >= scared:\n",
    "        each_group_cnt=0\n",
    "        total_group_cnt+=1\n",
    "        \n",
    "print(total_group_cnt)"
   ]
  },
  {
   "cell_type": "markdown",
   "metadata": {},
   "source": [
    "## Q02.곱하기 혹은 더하기"
   ]
  },
  {
   "cell_type": "code",
   "execution_count": 5,
   "metadata": {},
   "outputs": [
    {
     "name": "stdout",
     "output_type": "stream",
     "text": [
      "02984\n",
      "576\n"
     ]
    }
   ],
   "source": [
    "num=list(map(int,list(input())))\n",
    "total=0\n",
    "for i in num:\n",
    "    if total==0 or i in [0,1]: total+=i\n",
    "    else: total*=i\n",
    "print(total)"
   ]
  },
  {
   "cell_type": "markdown",
   "metadata": {},
   "source": [
    "## Q03. 문자열 뒤집기"
   ]
  },
  {
   "cell_type": "code",
   "execution_count": 6,
   "metadata": {},
   "outputs": [
    {
     "name": "stdout",
     "output_type": "stream",
     "text": [
      "0001100\n",
      "1\n"
     ]
    }
   ],
   "source": [
    "s=list(map(int,list(input())))\n",
    "seq=[0]*2\n",
    "cur=s[0]\n",
    "seq[cur]+=1\n",
    "for i in s:\n",
    "    if i != cur:\n",
    "        cur=i\n",
    "        seq[i]+=1\n",
    "print(min(seq))"
   ]
  },
  {
   "cell_type": "markdown",
   "metadata": {},
   "source": [
    "## Q04. 만들 수 없는 금액"
   ]
  },
  {
   "cell_type": "code",
   "execution_count": 9,
   "metadata": {},
   "outputs": [
    {
     "name": "stdout",
     "output_type": "stream",
     "text": [
      "5\n",
      "3 2 1 1 9\n",
      "8\n"
     ]
    }
   ],
   "source": [
    "n=int(input())\n",
    "coin=sorted(list(map(int,input().split())))\n",
    "\n",
    "acc_coin=coin[0]\n",
    "\n",
    "for i in coin[1:]:\n",
    "    if acc_coin>=i:\n",
    "        acc_coin+=i\n",
    "    else:\n",
    "        print(acc_coin+1)\n",
    "        break"
   ]
  },
  {
   "cell_type": "code",
   "execution_count": null,
   "metadata": {},
   "outputs": [],
   "source": []
  }
 ],
 "metadata": {
  "hide_input": false,
  "kernelspec": {
   "display_name": "Python 3",
   "language": "python",
   "name": "python3"
  },
  "language_info": {
   "codemirror_mode": {
    "name": "ipython",
    "version": 3
   },
   "file_extension": ".py",
   "mimetype": "text/x-python",
   "name": "python",
   "nbconvert_exporter": "python",
   "pygments_lexer": "ipython3",
   "version": "3.7.6"
  }
 },
 "nbformat": 4,
 "nbformat_minor": 4
}
