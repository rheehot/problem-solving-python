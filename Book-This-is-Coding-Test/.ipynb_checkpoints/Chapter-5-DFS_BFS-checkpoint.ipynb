{
 "cells": [
  {
   "cell_type": "code",
   "execution_count": 2,
   "metadata": {},
   "outputs": [
    {
     "name": "stdout",
     "output_type": "stream",
     "text": [
      "1 2 7 6 8 3 4 5 "
     ]
    }
   ],
   "source": [
    "def dfs(graph, v, visited):\n",
    "    visited[v]=True\n",
    "    print(v, end=' ')\n",
    "    for i in graph[v]:\n",
    "        if not visited[i]:\n",
    "            dfs(graph, i, visited)\n",
    "            \n",
    "graph = [\n",
    "    [],\n",
    "    [2,3,8],\n",
    "    [1,7],\n",
    "    [1,4,5],\n",
    "    [3,5],\n",
    "    [3,4],\n",
    "    [7],\n",
    "    [2,6,8],\n",
    "    [1,7]\n",
    "]\n",
    "visited = [False]*len(graph)\n",
    "dfs(graph, 1, visited)"
   ]
  },
  {
   "cell_type": "markdown",
   "metadata": {},
   "source": [
    "## BFS"
   ]
  },
  {
   "cell_type": "code",
   "execution_count": 10,
   "metadata": {},
   "outputs": [
    {
     "name": "stdout",
     "output_type": "stream",
     "text": [
      "1 2 3 8 7 4 5 6 "
     ]
    }
   ],
   "source": [
    "from collections import deque\n",
    "\n",
    "def bfs(graph, start, visited):\n",
    "    q=deque([start])\n",
    "    visited[start]=True\n",
    "    \n",
    "    while q:\n",
    "        v=q.popleft()\n",
    "        print(v, end=' ')\n",
    "        for i in graph[v]:\n",
    "            if not visited[i]:\n",
    "                q.append(i)\n",
    "                visited[i]=True\n",
    "    \n",
    "graph = [\n",
    "    [],\n",
    "    [2,3,8],\n",
    "    [1,7],\n",
    "    [1,4,5],\n",
    "    [3,5],\n",
    "    [3,4],\n",
    "    [7],\n",
    "    [2,6,8],\n",
    "    [1,7]\n",
    "]\n",
    "visited = [False]*len(graph)\n",
    "bfs(graph, 1, visited)"
   ]
  },
  {
   "cell_type": "markdown",
   "metadata": {},
   "source": [
    "## 음료수 얼려 먹기"
   ]
  },
  {
   "cell_type": "code",
   "execution_count": 23,
   "metadata": {},
   "outputs": [
    {
     "name": "stdout",
     "output_type": "stream",
     "text": [
      "4 5\n",
      "00110\n",
      "00011\n",
      "11111\n",
      "00000\n",
      "3\n"
     ]
    }
   ],
   "source": [
    "dx=[1,0,-1,0]\n",
    "dy=[0,1,0,-1]\n",
    "\n",
    "def dfs(x,y):\n",
    "    if x<=-1 or x>=n or y<=-1 or y>=m: return False\n",
    "    if graph[x][y]==0:\n",
    "        graph[x][y]=1\n",
    "        for i in range(4):\n",
    "            dfs(x+dx[i],y+dy[i])\n",
    "        return True\n",
    "    return False\n",
    "                \n",
    "n,m=map(int, input().split())\n",
    "graph = [list(map(int,input())) for i in range(n)]\n",
    "\n",
    "result=0\n",
    "for i in range(n):\n",
    "    for j in range(m):\n",
    "        if dfs(i,j) == True:\n",
    "            result+=1\n",
    "\n",
    "print(result)"
   ]
  },
  {
   "cell_type": "markdown",
   "metadata": {},
   "source": [
    "## 미로 탈출"
   ]
  },
  {
   "cell_type": "code",
   "execution_count": 28,
   "metadata": {},
   "outputs": [
    {
     "name": "stdout",
     "output_type": "stream",
     "text": [
      "5 6\n",
      "101010\n",
      "111111\n",
      "000001\n",
      "111111\n",
      "111111\n",
      "10\n"
     ]
    }
   ],
   "source": [
    "from collections import deque\n",
    "\n",
    "dx=[-1,1,0,0]\n",
    "dy=[0,0,1,-1]\n",
    "\n",
    "def bfs(x,y):\n",
    "    q=deque()\n",
    "    q.append((x,y))\n",
    "    \n",
    "    while q:\n",
    "        x,y=q.popleft()\n",
    "        for i in range(4):\n",
    "            nx, ny=x+dx[i], y+dy[i]\n",
    "            if nx<0 or ny<0 or nx>=n or ny>=m or graph[nx][ny]==0: continue\n",
    "            if graph[nx][ny]==1:\n",
    "                graph[nx][ny]=graph[x][y]+1\n",
    "                q.append((nx,ny))\n",
    "    return graph[n-1][m-1]\n",
    "\n",
    "n,m=map(int, input().split())\n",
    "graph = [list(map(int,input())) for i in range(n)]\n",
    "\n",
    "print(bfs(0,0))"
   ]
  },
  {
   "cell_type": "markdown",
   "metadata": {},
   "source": [
    "## 특정 거리의 도시 찾기"
   ]
  },
  {
   "cell_type": "code",
   "execution_count": 5,
   "metadata": {},
   "outputs": [
    {
     "name": "stdout",
     "output_type": "stream",
     "text": [
      "4 4 2 1\n",
      "1 2\n",
      "1 3\n",
      "2 3\n",
      "2 4\n",
      "4\n",
      "-1\n"
     ]
    }
   ],
   "source": [
    "from collections import deque\n",
    "\n",
    "n,m,k,x=map(int, input().split())\n",
    "graph = [[] for _ in range(n+1)]\n",
    "\n",
    "for _ in range(m):\n",
    "    a,b=map(int,input().split())\n",
    "    graph[a].append(b)\n",
    "\n",
    "distance=[-1]*(n+1)\n",
    "distance[x]=0 #출발 도시까지 거리는 0으로\n",
    "\n",
    "q=deque([x])\n",
    "\n",
    "while q:\n",
    "    now=q.popleft()\n",
    "    for next_node in graph[now]:\n",
    "        if distance[next_node]==-1:\n",
    "            distance[next_node]=distance[now]+1\n",
    "            q.append(next_node)\n",
    "\n",
    "hasResult=False\n",
    "for i in range(1,n+1):\n",
    "    if distance[i]==k:\n",
    "        print(i)\n",
    "        hasResult=True\n",
    "if hasResult==False:\n",
    "    print(-1)"
   ]
  },
  {
   "cell_type": "code",
   "execution_count": null,
   "metadata": {},
   "outputs": [],
   "source": [
    ",ㅡ,ㅡ,ㅡ,ㅡㅢㅑㅏㅏㅍㅊㅍㅊ퓨츞퓿ㅊ퓨ㅡㅍ,ㅡㅊ퓨ㅜㅊ퓨ㅡㅜ,츞ㅊㅍ,ㅡㅜㄴㄹ이ㅏㅑㄹ이ㅏㅓㅇ라ㅣㄹㅇㅎㅇㄹ허ㅏㅇㄹ히ㅏㅓㄹㅇ하ㅓㅣㅣㅏㅓㅏㅓㅣ"
   ]
  }
 ],
 "metadata": {
  "hide_input": false,
  "kernelspec": {
   "display_name": "Python 3",
   "language": "python",
   "name": "python3"
  },
  "language_info": {
   "codemirror_mode": {
    "name": "ipython",
    "version": 3
   },
   "file_extension": ".py",
   "mimetype": "text/x-python",
   "name": "python",
   "nbconvert_exporter": "python",
   "pygments_lexer": "ipython3",
   "version": "3.7.6"
  }
 },
 "nbformat": 4,
 "nbformat_minor": 4
}
