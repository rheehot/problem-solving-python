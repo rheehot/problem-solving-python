{
 "cells": [
  {
   "cell_type": "markdown",
   "metadata": {},
   "source": [
    "## 선택정렬"
   ]
  },
  {
   "cell_type": "code",
   "execution_count": 1,
   "metadata": {},
   "outputs": [
    {
     "name": "stdout",
     "output_type": "stream",
     "text": [
      "[0, 1, 2, 3, 4, 5, 6, 7, 8, 9]\n"
     ]
    }
   ],
   "source": [
    "array = [7,5,9,0,3,1,6,2,4,8]\n",
    "\n",
    "for i in range(len(array)):\n",
    "    min_index=i\n",
    "    for j in range(i+1,len(array)):\n",
    "        if array[j]<array[min_index]:\n",
    "            min_index=j\n",
    "    array[i], array[min_index] = array[min_index], array[i]\n",
    "\n",
    "print(array)"
   ]
  },
  {
   "cell_type": "code",
   "execution_count": 3,
   "metadata": {},
   "outputs": [
    {
     "name": "stdout",
     "output_type": "stream",
     "text": [
      "[0, 1, 2, 3, 4, 5, 6, 7, 8, 9]\n"
     ]
    }
   ],
   "source": [
    "array = [7,5,9,0,3,1,6,2,4,8]\n",
    "\n",
    "for i in range(len(array)):\n",
    "    for j in range(i+1,len(array)):\n",
    "        if array[i]>array[j]:\n",
    "            array[i], array[j] = array[j], array[i]\n",
    "    \n",
    "print(array)"
   ]
  },
  {
   "cell_type": "markdown",
   "metadata": {},
   "source": [
    "## 삽입정렬"
   ]
  },
  {
   "cell_type": "code",
   "execution_count": 4,
   "metadata": {},
   "outputs": [
    {
     "name": "stdout",
     "output_type": "stream",
     "text": [
      "[0, 1, 2, 3, 4, 5, 6, 7, 8, 9]\n"
     ]
    }
   ],
   "source": [
    "array = [7,5,9,0,3,1,6,2,4,8]\n",
    "\n",
    "for i in range(1,len(array)):\n",
    "    for j in range(i,0,-1):\n",
    "        if array[j] < array[j-1]:\n",
    "            array[j], array[j-1]=array[j-1], array[j]\n",
    "        else: break\n",
    "\n",
    "print(array)"
   ]
  },
  {
   "cell_type": "markdown",
   "metadata": {},
   "source": [
    "## 퀵정렬"
   ]
  },
  {
   "cell_type": "code",
   "execution_count": 1,
   "metadata": {},
   "outputs": [
    {
     "name": "stdout",
     "output_type": "stream",
     "text": [
      "[0, 1, 2, 3, 4, 5, 6, 7, 8, 9]\n"
     ]
    }
   ],
   "source": [
    "array = [7,5,9,0,3,1,6,2,4,8]\n",
    "\n",
    "def quick_sort(array, start, end):\n",
    "    if start>=end: return\n",
    "    pivot=start\n",
    "    left=start+1\n",
    "    right=end\n",
    "    while left<=right:\n",
    "        while left<=end and array[left]<=array[pivot]: left+=1\n",
    "        while right>start and array[right]>=array[pivot]: right-=1\n",
    "        if left>right: array[right],array[pivot]=array[pivot],array[right]\n",
    "        else: array[left],array[right]=array[right],array[left]\n",
    "    quick_sort(array,start,right-1)\n",
    "    quick_sort(array,right+1,end)\n",
    "\n",
    "quick_sort(array,0,len(array)-1)\n",
    "print(array)"
   ]
  },
  {
   "cell_type": "code",
   "execution_count": 4,
   "metadata": {},
   "outputs": [
    {
     "name": "stdout",
     "output_type": "stream",
     "text": [
      "[0, 1, 2, 3, 4, 5, 6, 7, 8, 9]\n"
     ]
    }
   ],
   "source": [
    "array = [7,5,9,0,3,1,6,2,4,8]\n",
    "\n",
    "def quick_sort2(array):\n",
    "    if len(array)<=1: return array\n",
    "    pivot=array[0]\n",
    "    tail=array[1:] # list excludes the pivot\n",
    "    left_=[x for x in tail if x<=pivot] # left divided part\n",
    "    right_=[x for x in tail if x>pivot] # right divided part\n",
    "    return quick_sort2(left_)+[pivot]+quick_sort2(right_)\n",
    "\n",
    "print(quick_sort2(array))"
   ]
  },
  {
   "cell_type": "markdown",
   "metadata": {},
   "source": [
    "## 계수정렬"
   ]
  },
  {
   "cell_type": "code",
   "execution_count": 7,
   "metadata": {},
   "outputs": [
    {
     "name": "stdout",
     "output_type": "stream",
     "text": [
      "0 0 1 1 2 2 3 4 5 5 6 7 8 9 9 "
     ]
    }
   ],
   "source": [
    "array = [7,5,9,0,3,1,6,2,9,1,4,8,0,5,2]\n",
    "count=[0]*(max(array)+1)\n",
    "for i in array:\n",
    "    count[i]+=1\n",
    "for i in range(len(count)):\n",
    "    for j in range(count[i]):\n",
    "        print(i, end=' ')"
   ]
  },
  {
   "cell_type": "markdown",
   "metadata": {},
   "source": [
    "## Python sort()"
   ]
  },
  {
   "cell_type": "code",
   "execution_count": 8,
   "metadata": {},
   "outputs": [
    {
     "name": "stdout",
     "output_type": "stream",
     "text": [
      "[(0, 1), (1, 2), (3, 0), (5, 1), (5, 2)]\n",
      "[(0, 1), (1, 2), (3, 0), (5, 1), (5, 2)]\n",
      "[(3, 0), (0, 1), (5, 1), (1, 2), (5, 2)]\n",
      "[(0, 1), (1, 2), (3, 0), (5, 1), (5, 2)]\n"
     ]
    }
   ],
   "source": [
    "a = [(1, 2), (0, 1), (5, 1), (5, 2), (3, 0)]\n",
    "\n",
    "b=sorted(a)\n",
    "print(b)\n",
    "\n",
    "c=sorted(a, key=lambda x:x[0])\n",
    "print(c)\n",
    "\n",
    "d=sorted(a, key=lambda x:x[1])\n",
    "print(d)\n",
    "\n",
    "e=sorted(a, key=lambda x:(x[0],x[1]))\n",
    "print(e)"
   ]
  },
  {
   "cell_type": "markdown",
   "metadata": {},
   "source": [
    "## 위에서 아래로"
   ]
  },
  {
   "cell_type": "code",
   "execution_count": 12,
   "metadata": {},
   "outputs": [
    {
     "name": "stdout",
     "output_type": "stream",
     "text": [
      "3\n",
      "15\n",
      "27\n",
      "12\n",
      "27 15 12 "
     ]
    }
   ],
   "source": [
    "n=int(input())\n",
    "array=[int(input()) for _ in range(n)]\n",
    "array.sort(reverse=True)\n",
    "for i in array:\n",
    "    print(i,end=' ')"
   ]
  },
  {
   "cell_type": "markdown",
   "metadata": {},
   "source": [
    "## 성적이 낮은 순서대로 학생 출력하기"
   ]
  },
  {
   "cell_type": "code",
   "execution_count": 18,
   "metadata": {},
   "outputs": [
    {
     "name": "stdout",
     "output_type": "stream",
     "text": [
      "2\n",
      "홍길동 95\n",
      "이순신 77\n",
      "이순신 홍길동 "
     ]
    }
   ],
   "source": [
    "n=int(input())\n",
    "student=[]\n",
    "for _ in range(n):\n",
    "    name,score=input().split()\n",
    "    student.append((name,int(score)))\n",
    "student.sort(key=lambda x:x[1])\n",
    "for i in student:\n",
    "    print(i[0],end=' ')"
   ]
  },
  {
   "cell_type": "markdown",
   "metadata": {},
   "source": [
    "## 두 배열의 원소 교체"
   ]
  },
  {
   "cell_type": "code",
   "execution_count": 19,
   "metadata": {},
   "outputs": [
    {
     "name": "stdout",
     "output_type": "stream",
     "text": [
      "5 3\n",
      "1 2 5 4 3\n",
      "5 5 6 6 5\n",
      "26\n"
     ]
    }
   ],
   "source": [
    "n,k=map(int,input().split())\n",
    "a=sorted(list(map(int,input().split())))\n",
    "b=sorted(list(map(int,input().split())),reverse=True)\n",
    "for i in range(k):\n",
    "    if a[i]<b[i]: a[i]=b[i]\n",
    "    else: break\n",
    "print(sum(a))"
   ]
  },
  {
   "cell_type": "markdown",
   "metadata": {},
   "source": [
    "## 국영수"
   ]
  },
  {
   "cell_type": "code",
   "execution_count": 2,
   "metadata": {},
   "outputs": [
    {
     "name": "stdout",
     "output_type": "stream",
     "text": [
      "3\n",
      "Junkyu 50 60 100\n",
      "Sankeun 80 60 50\n",
      "Sunyoung 80 70 100\n",
      "Sankeun\n",
      "Sunyoung\n",
      "Junkyu\n"
     ]
    }
   ],
   "source": [
    "n=int(input())\n",
    "score=[]\n",
    "for _ in range(n):\n",
    "    name,k,e,m=input().split()\n",
    "    score.append((name, int(k), int(e), int(m)))\n",
    "score.sort(key=lambda x:(-x[1],x[2],-x[3],x[0]))\n",
    "for i in score:\n",
    "    print(i[0])"
   ]
  },
  {
   "cell_type": "markdown",
   "metadata": {},
   "source": [
    "## 안테나"
   ]
  },
  {
   "cell_type": "code",
   "execution_count": 5,
   "metadata": {},
   "outputs": [
    {
     "name": "stdout",
     "output_type": "stream",
     "text": [
      "4\n",
      "5 1 7 9\n",
      "10\n"
     ]
    }
   ],
   "source": [
    "n=int(input())\n",
    "house=sorted(list(map(int, input().split())))\n",
    "min_=200001\n",
    "loc=0\n",
    "for i in range(1,n):\n",
    "    dist=sum(map(lambda x:x-i,house))\n",
    "    if dist<min_:\n",
    "        min_=dist\n",
    "        loc=i\n",
    "print(loc)"
   ]
  },
  {
   "cell_type": "markdown",
   "metadata": {},
   "source": [
    "-> 시간초과, 정렬 후 특정 기준만 잡자\n",
    "\n",
    "문제를 다시 보니 집에 설치하는 거였음.. 배열의 중간요소만 출력하면 끝"
   ]
  },
  {
   "cell_type": "code",
   "execution_count": 6,
   "metadata": {},
   "outputs": [
    {
     "name": "stdout",
     "output_type": "stream",
     "text": [
      "4\n",
      "5 1 7 9\n",
      "5\n"
     ]
    }
   ],
   "source": [
    "n=int(input())\n",
    "house=sorted(list(map(int, input().split())))\n",
    "print(house[(n-1)//2]) # n-1인 이유는 짝수일때 중간값은 2개인데 작은 값을 출력하라고 했기때문"
   ]
  },
  {
   "cell_type": "markdown",
   "metadata": {},
   "source": [
    "-> 결론: 문제 똑바로 읽자"
   ]
  },
  {
   "cell_type": "markdown",
   "metadata": {},
   "source": [
    "## 실패율"
   ]
  },
  {
   "cell_type": "code",
   "execution_count": 7,
   "metadata": {},
   "outputs": [],
   "source": [
    "def solution(N, stages):\n",
    "    a=[]\n",
    "    cur=len(stages)\n",
    "    for i in range(N):\n",
    "        if cur!=0:\n",
    "            a.append(stages.count(i+1)/cur)\n",
    "            cur-=stages.count(i+1)\n",
    "        else:\n",
    "            a.append(0)\n",
    "    return list(map(lambda x:x+1,sorted(range(len(a)),key=a.__getitem__, reverse=True)))"
   ]
  },
  {
   "cell_type": "markdown",
   "metadata": {},
   "source": [
    "-> 예전에 푼건데 효율 별로인듯 다시풀자"
   ]
  },
  {
   "cell_type": "code",
   "execution_count": 23,
   "metadata": {},
   "outputs": [
    {
     "name": "stdout",
     "output_type": "stream",
     "text": [
      "[3, 4, 2, 1, 5]\n"
     ]
    }
   ],
   "source": [
    "def solution(N, stages):\n",
    "    fail=[]\n",
    "    remain=len(stages)\n",
    "    for i in range(N):\n",
    "        if remain!=0:\n",
    "            p=stages.count(i+1)\n",
    "            fail.append((i+1,p/remain))\n",
    "            remain-=p\n",
    "        else:\n",
    "            fail.append((i+1,0))\n",
    "    return list(map(lambda x:x[0],sorted(fail,reverse=True,key=lambda x:x[1])))\n",
    "\n",
    "print(solution(5, [2, 1, 2, 6, 2, 4, 3, 3]))"
   ]
  },
  {
   "cell_type": "markdown",
   "metadata": {},
   "source": [
    "## 카드 정렬하기"
   ]
  },
  {
   "cell_type": "code",
   "execution_count": 33,
   "metadata": {},
   "outputs": [
    {
     "name": "stdout",
     "output_type": "stream",
     "text": [
      "4\n",
      "3\n",
      "4\n",
      "5\n",
      "6\n",
      "25\n"
     ]
    }
   ],
   "source": [
    "n=int(input())\n",
    "card=sorted([int(input()) for _ in range(n)])\n",
    "isSet=False\n",
    "comp_sum=0\n",
    "comp=0\n",
    "for idx,i in enumerate(card):\n",
    "    if isSet==True:\n",
    "        comp_sum+=(comp_sum+prev+i)\n",
    "        isSet=False\n",
    "    else:\n",
    "        if idx==n-1: comp_sum+=(comp_sum+i)\n",
    "        prev=i\n",
    "        isSet=True\n",
    "print(comp_sum)"
   ]
  },
  {
   "cell_type": "markdown",
   "metadata": {},
   "source": [
    "-> 우선순위 큐를 이용해야함"
   ]
  },
  {
   "cell_type": "code",
   "execution_count": 43,
   "metadata": {},
   "outputs": [
    {
     "ename": "SyntaxError",
     "evalue": "invalid syntax (<ipython-input-43-d285eeb60d3f>, line 9)",
     "output_type": "error",
     "traceback": [
      "\u001b[1;36m  File \u001b[1;32m\"<ipython-input-43-d285eeb60d3f>\"\u001b[1;36m, line \u001b[1;32m9\u001b[0m\n\u001b[1;33m    if True:\u001b[0m\n\u001b[1;37m           ^\u001b[0m\n\u001b[1;31mSyntaxError\u001b[0m\u001b[1;31m:\u001b[0m invalid syntax\n"
     ]
    }
   ],
   "source": [
    "import heapq\n",
    "import sys\n",
    "#input()=sys.stdin.readline()\n",
    "N = int(input())\n",
    "card_deck = []\n",
    "for _ in range(N):\n",
    "    heapq.heappush(card_deck, int(input())\n",
    "\n",
    "if len(card_deck)==1:\n",
    "    print(0)\n",
    "else:\n",
    "    answer=0\n",
    "    while len(card_deck) > 1:\n",
    "        k=heapq.heappop(card_deck)+heapq.heappop(card_deck)\n",
    "        answer+=k\n",
    "        heapq.heappush(card_deck,k)\n",
    "    print(answer)"
   ]
  },
  {
   "cell_type": "code",
   "execution_count": null,
   "metadata": {},
   "outputs": [],
   "source": []
  }
 ],
 "metadata": {
  "hide_input": false,
  "kernelspec": {
   "display_name": "Python 3",
   "language": "python",
   "name": "python3"
  },
  "language_info": {
   "codemirror_mode": {
    "name": "ipython",
    "version": 3
   },
   "file_extension": ".py",
   "mimetype": "text/x-python",
   "name": "python",
   "nbconvert_exporter": "python",
   "pygments_lexer": "ipython3",
   "version": "3.7.6"
  }
 },
 "nbformat": 4,
 "nbformat_minor": 4
}
