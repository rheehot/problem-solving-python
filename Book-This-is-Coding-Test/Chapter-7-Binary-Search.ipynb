{
 "cells": [
  {
   "cell_type": "markdown",
   "metadata": {},
   "source": [
    "## 이진탐색 (재귀)"
   ]
  },
  {
   "cell_type": "code",
   "execution_count": 5,
   "metadata": {},
   "outputs": [],
   "source": [
    "def bisearch(array,target,start,end):\n",
    "    if start>end: return None\n",
    "    mid = (start+end)//2\n",
    "    if array[mid]==target: return mid\n",
    "    elif array[mid]>target: return bisearch(array,target,start,mid-1)\n",
    "    else: return bisearch(array,target,mid+1,end)"
   ]
  },
  {
   "cell_type": "code",
   "execution_count": 6,
   "metadata": {},
   "outputs": [
    {
     "name": "stdout",
     "output_type": "stream",
     "text": [
      "4 3\n",
      "1 2 3 4\n",
      "2\n"
     ]
    }
   ],
   "source": [
    "n, target = list(map(int,input().split()))\n",
    "array = list(map(int, input().split()))\n",
    "result = bisearch(array,target,0,n-1)\n",
    "print(result if result else '원소가 존재하지 않음')"
   ]
  },
  {
   "cell_type": "markdown",
   "metadata": {},
   "source": [
    "## 이진탐색 (반복문)"
   ]
  },
  {
   "cell_type": "code",
   "execution_count": 11,
   "metadata": {},
   "outputs": [],
   "source": [
    "def bisearch(array,target,start,end):\n",
    "    while start<=end:\n",
    "        mid=(start+end)//2\n",
    "        if array[mid]==target: return mid\n",
    "        elif array[mid]>target: end=mid-1\n",
    "        else: start=mid+1\n",
    "    return None"
   ]
  },
  {
   "cell_type": "code",
   "execution_count": 12,
   "metadata": {},
   "outputs": [
    {
     "name": "stdout",
     "output_type": "stream",
     "text": [
      "10 7\n",
      "1 3 5 7 9 11 13 15 17 19\n",
      "3\n"
     ]
    }
   ],
   "source": [
    "n, target = list(map(int,input().split()))\n",
    "array = list(map(int, input().split()))\n",
    "result = bisearch(array,target,0,n-1)\n",
    "print(result if result else '원소가 존재하지 않음')"
   ]
  },
  {
   "cell_type": "markdown",
   "metadata": {},
   "source": [
    "## 부품 찾기(책)"
   ]
  },
  {
   "cell_type": "code",
   "execution_count": 22,
   "metadata": {},
   "outputs": [
    {
     "name": "stdout",
     "output_type": "stream",
     "text": [
      "5\n",
      "8 3 7 9 2\n",
      "3\n",
      "5 7 9\n",
      "no yes yes\n"
     ]
    }
   ],
   "source": [
    "def binary_search(array,target,start,end):\n",
    "    while start<=end:\n",
    "        mid=(start+end)//2\n",
    "        if array[mid]==target: return 'yes'\n",
    "        elif array[mid]>target: end=mid-1\n",
    "        else: start=mid+1\n",
    "    return 'no'\n",
    "\n",
    "n=int(input())\n",
    "t=sorted(list(map(int,input().split())))\n",
    "m=int(input())\n",
    "r=list(map(int,input().split()))\n",
    "\n",
    "print(' '.join(list(map(lambda x:binary_search(t,x,0,n),r))))"
   ]
  },
  {
   "cell_type": "markdown",
   "metadata": {},
   "source": [
    "## 떡볶이 떡 만들기(책)"
   ]
  },
  {
   "cell_type": "code",
   "execution_count": 26,
   "metadata": {},
   "outputs": [
    {
     "name": "stdout",
     "output_type": "stream",
     "text": [
      "4 6\n",
      "19 15 10 17\n",
      "15\n"
     ]
    }
   ],
   "source": [
    "def binary_search(array,target,start,end):\n",
    "    result=0\n",
    "    while start<=end:\n",
    "        tot=0\n",
    "        mid=(start+end)//2\n",
    "        for i in array:\n",
    "            if i>mid: tot+=i-mid\n",
    "        if tot<m: end=mid-1\n",
    "        else:\n",
    "            start=mid+1\n",
    "            result=mid\n",
    "    return result\n",
    "\n",
    "n,m=map(int,input().split())\n",
    "r=sorted(list(map(int,input().split())))\n",
    "print(binary_search(r,m,min(r),max(r)))"
   ]
  },
  {
   "cell_type": "markdown",
   "metadata": {},
   "source": [
    "## 정렬된 배열에서 특정 수의 개수 구하기"
   ]
  },
  {
   "cell_type": "markdown",
   "metadata": {},
   "source": [
    "시간복잡도 logN으로"
   ]
  },
  {
   "cell_type": "code",
   "execution_count": 35,
   "metadata": {},
   "outputs": [
    {
     "name": "stdout",
     "output_type": "stream",
     "text": [
      "7 2\n",
      "1 1 2 2 2 2 3\n",
      "4\n"
     ]
    }
   ],
   "source": [
    "import bisect\n",
    "\n",
    "import heapq\n",
    "n,x=map(int,input().split())\n",
    "num = sorted(list(map(int, input().split())))\n",
    "count=bisect.bisect(num,x+1)-bisect.bisect(num,x-1)-1\n",
    "if count<0: print(-1)\n",
    "else: print(count)"
   ]
  },
  {
   "cell_type": "markdown",
   "metadata": {},
   "source": [
    "## 고정점 찾기"
   ]
  },
  {
   "cell_type": "code",
   "execution_count": 39,
   "metadata": {},
   "outputs": [
    {
     "name": "stdout",
     "output_type": "stream",
     "text": [
      "5\n",
      "-15 -6 1 3 7\n",
      "3\n"
     ]
    }
   ],
   "source": [
    "def search(array,start,end):\n",
    "    while start<=end:\n",
    "        mid = (start+end)//2\n",
    "        if array[mid]==mid: return mid\n",
    "        elif array[mid]>mid: end=mid-1\n",
    "        else: start=mid+1\n",
    "    return -1\n",
    "\n",
    "n=int(input())\n",
    "num=list(map(int,input().split()))\n",
    "print(search(num,0,n-1))"
   ]
  },
  {
   "cell_type": "markdown",
   "metadata": {},
   "source": [
    "## 공유기 설치"
   ]
  },
  {
   "cell_type": "code",
   "execution_count": null,
   "metadata": {},
   "outputs": [],
   "source": [
    "n,c=map(int,input().split())\n",
    "house=sorted([int(input) for _ in range(n)])\n"
   ]
  }
 ],
 "metadata": {
  "hide_input": false,
  "kernelspec": {
   "display_name": "Python 3",
   "language": "python",
   "name": "python3"
  },
  "language_info": {
   "codemirror_mode": {
    "name": "ipython",
    "version": 3
   },
   "file_extension": ".py",
   "mimetype": "text/x-python",
   "name": "python",
   "nbconvert_exporter": "python",
   "pygments_lexer": "ipython3",
   "version": "3.7.6"
  }
 },
 "nbformat": 4,
 "nbformat_minor": 4
}
