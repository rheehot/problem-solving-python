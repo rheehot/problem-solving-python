{
 "cells": [
  {
   "cell_type": "markdown",
   "metadata": {},
   "source": [
    "# Greedy"
   ]
  },
  {
   "cell_type": "markdown",
   "metadata": {},
   "source": [
    "## Q01. 모험가 길드"
   ]
  },
  {
   "cell_type": "code",
   "execution_count": 1,
   "metadata": {},
   "outputs": [
    {
     "name": "stdout",
     "output_type": "stream",
     "text": [
      "5\n",
      "2 3 1 2 2\n",
      "2\n"
     ]
    }
   ],
   "source": [
    "n = int(input())\n",
    "people = list(map(int,input().split()))\n",
    "people.sort()\n",
    "\n",
    "each_group_cnt=0\n",
    "total_group_cnt=0\n",
    "\n",
    "for scared in people:\n",
    "    each_group_cnt+=1\n",
    "    if each_group_cnt >= scared:\n",
    "        each_group_cnt=0\n",
    "        total_group_cnt+=1\n",
    "        \n",
    "print(total_group_cnt)"
   ]
  },
  {
   "cell_type": "markdown",
   "metadata": {},
   "source": [
    "## Q02.곱하기 혹은 더하기"
   ]
  },
  {
   "cell_type": "code",
   "execution_count": 5,
   "metadata": {},
   "outputs": [
    {
     "name": "stdout",
     "output_type": "stream",
     "text": [
      "02984\n",
      "576\n"
     ]
    }
   ],
   "source": [
    "num=list(map(int,list(input())))\n",
    "total=0\n",
    "for i in num:\n",
    "    if total==0 or i in [0,1]: total+=i\n",
    "    else: total*=i\n",
    "print(total)"
   ]
  },
  {
   "cell_type": "markdown",
   "metadata": {},
   "source": [
    "## Q03. 문자열 뒤집기"
   ]
  },
  {
   "cell_type": "code",
   "execution_count": 6,
   "metadata": {},
   "outputs": [
    {
     "name": "stdout",
     "output_type": "stream",
     "text": [
      "0001100\n",
      "1\n"
     ]
    }
   ],
   "source": [
    "s=list(map(int,list(input())))\n",
    "seq=[0]*2\n",
    "cur=s[0]\n",
    "seq[cur]+=1\n",
    "for i in s:\n",
    "    if i != cur:\n",
    "        cur=i\n",
    "        seq[i]+=1\n",
    "print(min(seq))"
   ]
  },
  {
   "cell_type": "markdown",
   "metadata": {},
   "source": [
    "## Q04. 만들 수 없는 금액"
   ]
  },
  {
   "cell_type": "code",
   "execution_count": 9,
   "metadata": {},
   "outputs": [
    {
     "name": "stdout",
     "output_type": "stream",
     "text": [
      "5\n",
      "3 2 1 1 9\n",
      "8\n"
     ]
    }
   ],
   "source": [
    "n=int(input())\n",
    "coin=sorted(list(map(int,input().split())))\n",
    "\n",
    "acc_coin=coin[0]\n",
    "\n",
    "for i in coin[1:]:\n",
    "    if acc_coin>=i:\n",
    "        acc_coin+=i\n",
    "    else:\n",
    "        print(acc_coin+1)\n",
    "        break"
   ]
  },
  {
   "cell_type": "markdown",
   "metadata": {},
   "source": [
    "## Q05. 볼링공 고르기"
   ]
  },
  {
   "cell_type": "code",
   "execution_count": 11,
   "metadata": {},
   "outputs": [
    {
     "name": "stdout",
     "output_type": "stream",
     "text": [
      "8 5\n",
      "1 5 4 3 2 4 5 2\n",
      "25\n"
     ]
    }
   ],
   "source": [
    "n,m=map(int,input().split())\n",
    "ball=list(map(int,input().split()))\n",
    "\n",
    "cnt=0\n",
    "for i in range(n):\n",
    "    for j in range(i+1,n):\n",
    "        if ball[i] != ball[j]:\n",
    "            cnt+=1\n",
    "            \n",
    "print(cnt)"
   ]
  },
  {
   "cell_type": "markdown",
   "metadata": {},
   "source": [
    "## Q06. 무지의 먹방라이브 - Check"
   ]
  },
  {
   "cell_type": "code",
   "execution_count": null,
   "metadata": {},
   "outputs": [],
   "source": [
    "import heapq\n",
    "def solution(food_times, k):\n",
    "    if(sum(food_times)<=k): return -1\n",
    "    \n",
    "    queue=[]\n",
    "    for i, f in enumerate(food_times):\n",
    "        heapq.heappush(queue, (f, i+1))\n",
    "    \n",
    "    "
   ]
  },
  {
   "cell_type": "markdown",
   "metadata": {},
   "source": [
    "# Implementation"
   ]
  },
  {
   "cell_type": "markdown",
   "metadata": {},
   "source": [
    "## Q07. 럭키 스트레이트"
   ]
  },
  {
   "cell_type": "code",
   "execution_count": 19,
   "metadata": {},
   "outputs": [
    {
     "name": "stdout",
     "output_type": "stream",
     "text": [
      "123402\n",
      "LUCKY\n"
     ]
    }
   ],
   "source": [
    "n=list(map(int,list(input())))\n",
    "mid=len(n)//2\n",
    "if sum(n[:mid]) == sum(n[mid:]): print('LUCKY')\n",
    "else: print('READY')"
   ]
  },
  {
   "cell_type": "markdown",
   "metadata": {},
   "source": [
    "## Q08. 문자열 재정렬"
   ]
  },
  {
   "cell_type": "code",
   "execution_count": 27,
   "metadata": {},
   "outputs": [
    {
     "name": "stdout",
     "output_type": "stream",
     "text": [
      "K1KA5CB7\n",
      "ABCKK13\n"
     ]
    }
   ],
   "source": [
    "s=input()\n",
    "alpha=[]\n",
    "num=[]\n",
    "for i in s:\n",
    "    if i.isalpha(): alpha.append(i)\n",
    "    else: num.append(int(i))\n",
    "\n",
    "alpha.sort()\n",
    "\n",
    "print(f'{\"\".join(alpha)}{sum(num)}')"
   ]
  },
  {
   "cell_type": "markdown",
   "metadata": {},
   "source": [
    "## Q09. 문자열 압축"
   ]
  },
  {
   "cell_type": "code",
   "execution_count": 28,
   "metadata": {},
   "outputs": [],
   "source": [
    "def solution(s):\n",
    "    length = []\n",
    "    result = \"\"\n",
    "    \n",
    "    if len(s) == 1:\n",
    "        return 1\n",
    "    \n",
    "    for cut in range(1, len(s) // 2 + 1): \n",
    "        count = 1\n",
    "        tempStr = s[:cut] \n",
    "        for i in range(cut, len(s), cut):\n",
    "            if s[i:i+cut] == tempStr:\n",
    "                count += 1\n",
    "            else:\n",
    "                if count == 1:\n",
    "                    count = \"\"\n",
    "                result += str(count) + tempStr\n",
    "                tempStr = s[i:i+cut]\n",
    "                count = 1\n",
    "\n",
    "        if count == 1:\n",
    "            count = \"\"\n",
    "        result += str(count) + tempStr\n",
    "        length.append(len(result))\n",
    "        result = \"\"\n",
    "    \n",
    "    return min(length)"
   ]
  },
  {
   "cell_type": "markdown",
   "metadata": {},
   "source": [
    "## Q10. 자물쇠와 열쇠"
   ]
  },
  {
   "cell_type": "code",
   "execution_count": 30,
   "metadata": {},
   "outputs": [],
   "source": [
    "def check(lock):\n",
    "    l_=len(lock)//3\n",
    "    for i in range(l_, l_*2):\n",
    "        for j in range(l_, l_*2):\n",
    "            if lock[i][j] != 1: return False\n",
    "    return True\n",
    "\n",
    "def rotate_90(m):\n",
    "    N = len(m)\n",
    "    ret = [[0] * N for _ in range(N)]\n",
    "    for r in range(N):\n",
    "        for c in range(N):\n",
    "            ret[c][N-1-r] = m[r][c]\n",
    "    return ret\n",
    "\n",
    "def solution(key, lock):\n",
    "    m=len(key)\n",
    "    n=len(lock)\n",
    "    \n",
    "    big_lock=[[0]*n*3 for _ in range(n*3)]\n",
    "    for i in range(n):\n",
    "        for j in range(n):\n",
    "            big_lock[i+n][j+n]=lock[i][j]\n",
    "    for rotate in range(4):\n",
    "        key = rotate_90(key)\n",
    "        for x in range(n*2):\n",
    "            for y in range(n*2):\n",
    "                for i in range(m):\n",
    "                    for j in range(m):\n",
    "                        big_lock[x+i][y+j] += key[i][j]\n",
    "\n",
    "                if check(big_lock) == True: return True\n",
    "                for i in range(m):\n",
    "                    for j in range(m):\n",
    "                        big_lock[x+i][y+j] -= key[i][j]\n",
    "    \n",
    "    return False"
   ]
  },
  {
   "cell_type": "code",
   "execution_count": 32,
   "metadata": {},
   "outputs": [
    {
     "name": "stdout",
     "output_type": "stream",
     "text": [
      "True\n"
     ]
    }
   ],
   "source": [
    "print(solution([[0,0,0],[1,0,0],[0,1,1]],[[1,1,1],[1,1,0],[1,0,1]]))"
   ]
  },
  {
   "cell_type": "markdown",
   "metadata": {},
   "source": [
    "# DFS/BFS"
   ]
  },
  {
   "cell_type": "markdown",
   "metadata": {},
   "source": [
    "## Q15. 특정 거리의 도시 찾기"
   ]
  },
  {
   "cell_type": "markdown",
   "metadata": {},
   "source": [
    "모든 도로의 거리는 1 -> 모든 간선의 비용이 동일할 때는 BFS(Queue)"
   ]
  },
  {
   "cell_type": "code",
   "execution_count": 4,
   "metadata": {},
   "outputs": [
    {
     "name": "stdout",
     "output_type": "stream",
     "text": [
      "4 4 2 1\n",
      "1 2\n",
      "1 3\n",
      "2 3\n",
      "2 4\n",
      "4\n"
     ]
    }
   ],
   "source": [
    "from collections import deque\n",
    "\n",
    "n,m,k,x=map(int,input().split())\n",
    "node=[[] for _ in range(n+1)]\n",
    "\n",
    "for _ in range(m):\n",
    "    a,b=map(int,input().split())\n",
    "    node[a].append(b)\n",
    "\n",
    "dist=[-1]*(n+1)\n",
    "dist[x]=0\n",
    "\n",
    "q=deque([x])\n",
    "\n",
    "while q:\n",
    "    now=q.popleft()\n",
    "    for i in node[now]:\n",
    "        if dist[i] == -1:\n",
    "            dist[i]=dist[now]+1\n",
    "            q.append(i)\n",
    "\n",
    "for idx,d in enumerate(dist):\n",
    "    if d == k:\n",
    "        print(idx)\n",
    "        break\n",
    "else:\n",
    "    print(-1)"
   ]
  },
  {
   "cell_type": "markdown",
   "metadata": {},
   "source": [
    "# DFS, BFS 챕터 개념문제 복습부터 하자"
   ]
  },
  {
   "cell_type": "markdown",
   "metadata": {},
   "source": [
    "## 3. 음료수 얼려묵기"
   ]
  },
  {
   "cell_type": "code",
   "execution_count": 11,
   "metadata": {},
   "outputs": [
    {
     "name": "stdout",
     "output_type": "stream",
     "text": [
      "4 5\n",
      "00110\n",
      "00011\n",
      "11111\n",
      "00000\n",
      "3\n"
     ]
    }
   ],
   "source": [
    "n,m=map(int,input().split())\n",
    "graph = [list(map(int,input())) for i in range(n)]\n",
    "dx=[1,0,-1,0]\n",
    "dy=[0,1,0,-1]\n",
    "\n",
    "def dfs(x,y):\n",
    "    if x<=-1 or x>=n or y<=-1 or y>=m: return False\n",
    "    if graph[x][y]==0:\n",
    "        graph[x][y]=1\n",
    "        for i in range(4):\n",
    "            dfs(x+dx[i],y+dy[i])\n",
    "        return True\n",
    "    return False\n",
    "\n",
    "result=0\n",
    "for i in range(n):\n",
    "    for j in range(m):\n",
    "        if dfs(i,j) == True:\n",
    "            result+=1\n",
    "\n",
    "print(result)"
   ]
  },
  {
   "cell_type": "markdown",
   "metadata": {},
   "source": [
    "## 4. 미로 탈출"
   ]
  },
  {
   "cell_type": "code",
   "execution_count": 16,
   "metadata": {},
   "outputs": [
    {
     "name": "stdout",
     "output_type": "stream",
     "text": [
      "5 6\n",
      "101010\n",
      "111111\n",
      "000001\n",
      "111111\n",
      "111111\n",
      "10\n"
     ]
    }
   ],
   "source": [
    "from collections import deque\n",
    "\n",
    "n,m=map(int,input().split())\n",
    "graph = [list(map(int,input())) for i in range(n)]\n",
    "dx=[1,0,-1,0]\n",
    "dy=[0,1,0,-1]\n",
    "\n",
    "def bfs(x,y):\n",
    "    q=deque()\n",
    "    q.append((x,y))\n",
    "    while q:\n",
    "        x,y=q.popleft()\n",
    "        for i in range(4):\n",
    "            nx,ny=x+dx[i],y+dy[i]\n",
    "            if nx<0 or ny<0 or nx>=n or ny>=m or graph[nx][ny]==0: continue\n",
    "            if graph[nx][ny]==1:\n",
    "                graph[nx][ny]=graph[x][y]+1\n",
    "                q.append((nx,ny))\n",
    "    return graph[n-1][m-1]\n",
    "\n",
    "print(bfs(0,0))"
   ]
  },
  {
   "cell_type": "code",
   "execution_count": null,
   "metadata": {},
   "outputs": [],
   "source": []
  }
 ],
 "metadata": {
  "hide_input": false,
  "kernelspec": {
   "display_name": "Python 3",
   "language": "python",
   "name": "python3"
  },
  "language_info": {
   "codemirror_mode": {
    "name": "ipython",
    "version": 3
   },
   "file_extension": ".py",
   "mimetype": "text/x-python",
   "name": "python",
   "nbconvert_exporter": "python",
   "pygments_lexer": "ipython3",
   "version": "3.7.6"
  }
 },
 "nbformat": 4,
 "nbformat_minor": 4
}
