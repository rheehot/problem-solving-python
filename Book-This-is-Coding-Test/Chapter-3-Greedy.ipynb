{
 "cells": [
  {
   "cell_type": "markdown",
   "metadata": {},
   "source": [
    "## 거스름돈"
   ]
  },
  {
   "cell_type": "code",
   "execution_count": 3,
   "metadata": {},
   "outputs": [
    {
     "name": "stdout",
     "output_type": "stream",
     "text": [
      "1260\n",
      "6\n"
     ]
    }
   ],
   "source": [
    "money = int(input())\n",
    "cash=[500, 100, 50, 10]\n",
    "count=0\n",
    "for coin in cash:\n",
    "    count += money // coin\n",
    "    money %= coin\n",
    "print(count)"
   ]
  },
  {
   "cell_type": "markdown",
   "metadata": {},
   "source": [
    "- 그리디로 해결할 수 있는 이유: 큰 단위가 항상 작은 단위의 배수 -> 작은 단위의 동전들을 종합해 다른 해가 나올 수 없기 때문"
   ]
  },
  {
   "cell_type": "markdown",
   "metadata": {},
   "source": [
    "## 큰 수의 법칙"
   ]
  },
  {
   "cell_type": "code",
   "execution_count": 14,
   "metadata": {},
   "outputs": [
    {
     "name": "stdout",
     "output_type": "stream",
     "text": [
      "5 8 3\n",
      "2 4 5 4 6\n",
      "46\n"
     ]
    }
   ],
   "source": [
    "n,m,k=map(int,input().split())\n",
    "numbers=list(map(int,input().split()))\n",
    "numbers.sort()\n",
    "\n",
    "result=0\n",
    "\n",
    "n_1=numbers[-1]\n",
    "n_2=numbers[-2]\n",
    "\n",
    "while 1:\n",
    "    for j in range(k):\n",
    "        if m==0: break\n",
    "        result+=n_1\n",
    "        m-=1\n",
    "    if m==0: break\n",
    "    result+=n_2\n",
    "    m-=1\n",
    "\n",
    "print(result)"
   ]
  },
  {
   "cell_type": "markdown",
   "metadata": {},
   "source": [
    "- 효율적으로 (반복되는 수열에 대해서 파악)"
   ]
  },
  {
   "cell_type": "code",
   "execution_count": 15,
   "metadata": {},
   "outputs": [
    {
     "name": "stdout",
     "output_type": "stream",
     "text": [
      "5 8 3\n",
      "2 4 5 4 6\n",
      "46\n"
     ]
    }
   ],
   "source": [
    "n,m,k=map(int,input().split())\n",
    "numbers=list(map(int,input().split()))\n",
    "numbers.sort()\n",
    "\n",
    "n_1=numbers[-1]\n",
    "n_2=numbers[-2]\n",
    "\n",
    "#나누어 떨어지는 경우, 나누어 떨어지지 않는 경우 (나누어 떨어지지 않는 경우는 무조건 가장 큰 수를 더하는 경우임)\n",
    "count=int(m/(k+1))*k + m%(k+1)\n",
    "result=count*n_1 + (m-count)*n_2\n",
    "print(result)"
   ]
  },
  {
   "cell_type": "markdown",
   "metadata": {},
   "source": [
    "## 숫자 카드 게임"
   ]
  },
  {
   "cell_type": "code",
   "execution_count": 18,
   "metadata": {},
   "outputs": [
    {
     "name": "stdout",
     "output_type": "stream",
     "text": [
      "2 4\n",
      "7 3 1 8\n",
      "3 3 3 4\n",
      "3\n"
     ]
    }
   ],
   "source": [
    "N,M=map(int,input().split())\n",
    "num=[]\n",
    "for _ in range(N):\n",
    "    num.append(min(map(int,input().split())))\n",
    "print(max(num))"
   ]
  },
  {
   "cell_type": "markdown",
   "metadata": {},
   "source": [
    "## 1이 될 때까지"
   ]
  },
  {
   "cell_type": "code",
   "execution_count": 23,
   "metadata": {},
   "outputs": [
    {
     "name": "stdout",
     "output_type": "stream",
     "text": [
      "17 4\n",
      "3\n"
     ]
    }
   ],
   "source": [
    "n,k=map(int,input().split())\n",
    "count=0\n",
    "while 1:\n",
    "    if n==1: break\n",
    "    if n%k==0:\n",
    "        count+=1\n",
    "        n=n//k\n",
    "    else:\n",
    "        count+=1\n",
    "        n-=1\n",
    "print(count)"
   ]
  },
  {
   "cell_type": "markdown",
   "metadata": {},
   "source": [
    "- 효율적으로\n",
    "    - N이 K의 배수가 될 때까지 1씩 빼기\n",
    "    - N을 K로 나누기\n",
    "    - 빠르게: N이 K의 배수가 되도록 한번에 빼기"
   ]
  },
  {
   "cell_type": "code",
   "execution_count": 24,
   "metadata": {},
   "outputs": [
    {
     "name": "stdout",
     "output_type": "stream",
     "text": [
      "17 4\n",
      "3\n"
     ]
    }
   ],
   "source": [
    "n,k=map(int,input().split())\n",
    "count=0\n",
    "while 1:\n",
    "    target=(n//k)*k # N이 K의 배수가 되도록 만들기\n",
    "    count+=(n-target) # n-target: 1을 몇번 뺐는지\n",
    "    n=target # 결국 n은 k의 배수\n",
    "    \n",
    "    if n<k: break # 더 이상 나눌 수 없을 때\n",
    "    # n을 k로 나누기\n",
    "    count+=1\n",
    "    n//=k\n",
    "\n",
    "count+=(n-1)\n",
    "print(count)"
   ]
  },
  {
   "cell_type": "code",
   "execution_count": null,
   "metadata": {},
   "outputs": [],
   "source": []
  }
 ],
 "metadata": {
  "hide_input": false,
  "kernelspec": {
   "display_name": "Python 3",
   "language": "python",
   "name": "python3"
  },
  "language_info": {
   "codemirror_mode": {
    "name": "ipython",
    "version": 3
   },
   "file_extension": ".py",
   "mimetype": "text/x-python",
   "name": "python",
   "nbconvert_exporter": "python",
   "pygments_lexer": "ipython3",
   "version": "3.7.6"
  }
 },
 "nbformat": 4,
 "nbformat_minor": 4
}
