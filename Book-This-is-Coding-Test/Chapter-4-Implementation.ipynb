{
 "cells": [
  {
   "cell_type": "markdown",
   "metadata": {},
   "source": [
    "## 상하좌우"
   ]
  },
  {
   "cell_type": "code",
   "execution_count": 2,
   "metadata": {},
   "outputs": [
    {
     "name": "stdout",
     "output_type": "stream",
     "text": [
      "5\n",
      "R R R U D D\n",
      "R 1 1 1\n",
      "R 1 1 2\n",
      "R 1 1 3\n",
      "U -1 1 4\n",
      "D 1 1 4\n",
      "D 1 2 4\n",
      "3 4\n"
     ]
    }
   ],
   "source": [
    "w=int(input())\n",
    "x,y=1,1\n",
    "move=input().split()\n",
    "d={'L':-1,'R':1,'U':-1,'D':1}\n",
    "for mov in move:\n",
    "    if mov in ['U', 'D']:\n",
    "        t_x=x+d[mov]\n",
    "        if 0<t_x<=w: x=t_x\n",
    "    else:\n",
    "        t_y=y+d[mov]\n",
    "        if 0<t_y<=w: y=t_y\n",
    "print(x,y)"
   ]
  },
  {
   "cell_type": "markdown",
   "metadata": {},
   "source": [
    "## 시각"
   ]
  },
  {
   "cell_type": "code",
   "execution_count": 16,
   "metadata": {},
   "outputs": [
    {
     "name": "stdout",
     "output_type": "stream",
     "text": [
      "5\n",
      "11475\n"
     ]
    }
   ],
   "source": [
    "count=0\n",
    "for h in range(int(input())+1):\n",
    "    for m in range(60):\n",
    "        for s in range(60):\n",
    "            if '3' in str(h)+str(m)+str(s): count+=1\n",
    "print(count)"
   ]
  },
  {
   "cell_type": "markdown",
   "metadata": {},
   "source": [
    "## 왕실의 나이트"
   ]
  },
  {
   "cell_type": "code",
   "execution_count": 19,
   "metadata": {},
   "outputs": [
    {
     "name": "stdout",
     "output_type": "stream",
     "text": [
      "c2\n",
      "6\n"
     ]
    }
   ],
   "source": [
    "cur=input()\n",
    "mov=[[1,-2],[2,-1],[2,1],[1,2],[-1,2],[-2,1],[-2,1],[-1,-2]]\n",
    "x_=['a','b','c','d','e','f','g','h']\n",
    "x=x_.index(cur[0])+1\n",
    "y=int(cur[1])\n",
    "count=0\n",
    "for i in mov:\n",
    "    if 0<x+i[0]<=8 and 0<y+i[1]<=8: count+=1\n",
    "print(count)"
   ]
  },
  {
   "cell_type": "markdown",
   "metadata": {},
   "source": [
    "## 게임개발"
   ]
  },
  {
   "cell_type": "code",
   "execution_count": 24,
   "metadata": {},
   "outputs": [
    {
     "name": "stdout",
     "output_type": "stream",
     "text": [
      "4 4\n",
      "1 1 0\n",
      "1 1 1 1\n",
      "1 0 0 1\n",
      "1 1 0 1\n",
      "1 1 1 1\n",
      "3\n"
     ]
    }
   ],
   "source": [
    "w,h=map(int,input().split())\n",
    "x,y,d=map(int,input().split())\n",
    "m=[list(map(int,input().split())) for _ in range(w)]\n",
    "\n",
    "v=[[0]*h for _ in range(w)]\n",
    "v[x][y]=1\n",
    "\n",
    "dx,dy=[-1,0,1,0],[0,1,0,-1]\n",
    "\n",
    "count=1\n",
    "turn=0\n",
    "\n",
    "def turnLeft():\n",
    "    global d\n",
    "    d -= 1\n",
    "    if d == -1: d=3\n",
    "\n",
    "while 1:\n",
    "    turnLeft()\n",
    "    nx,ny=x+dx[d],y+dy[d]\n",
    "    if v[nx][ny]==0 and m[nx][ny]==0:\n",
    "        v[nx][ny]=1\n",
    "        x,y=nx,ny\n",
    "        count+=1\n",
    "        turn=0\n",
    "        continue\n",
    "    else: turn+=1\n",
    "    if turn==4:\n",
    "        nx,ny=x-dx[d],y-dy[d]\n",
    "        if m[nx][ny]==0:x,y=nx,ny\n",
    "        else: break\n",
    "        turn=0\n",
    "\n",
    "print(count)"
   ]
  },
  {
   "cell_type": "markdown",
   "metadata": {},
   "source": [
    "## 럭키 스트레이트"
   ]
  },
  {
   "cell_type": "code",
   "execution_count": 28,
   "metadata": {},
   "outputs": [
    {
     "name": "stdout",
     "output_type": "stream",
     "text": [
      "7755\n",
      "READY\n"
     ]
    }
   ],
   "source": [
    "n=input()\n",
    "a=list(map(int,list(n[:len(n)//2])))\n",
    "b=list(map(int,list(n[len(n)//2:])))\n",
    "if sum(a)==sum(b): print('LUCKY')\n",
    "else: print('READY')"
   ]
  },
  {
   "cell_type": "markdown",
   "metadata": {},
   "source": [
    "## 문자열 재정렬"
   ]
  },
  {
   "cell_type": "code",
   "execution_count": 36,
   "metadata": {},
   "outputs": [
    {
     "name": "stdout",
     "output_type": "stream",
     "text": [
      "K1KA5CB7\n",
      "ABCKK13\n"
     ]
    }
   ],
   "source": [
    "s=list(input())\n",
    "alpha=''.join(sorted(list(filter(lambda x:x.isalpha(), s))))\n",
    "num=sum(map(int,list(filter(lambda x:x.isnumeric(), s))))\n",
    "print(f'{alpha}{num}')"
   ]
  },
  {
   "cell_type": "markdown",
   "metadata": {},
   "source": [
    "## 문자열 압축"
   ]
  },
  {
   "cell_type": "code",
   "execution_count": 37,
   "metadata": {},
   "outputs": [],
   "source": [
    "def solution(s):\n",
    "    length = []\n",
    "    result = \"\"\n",
    "    \n",
    "    if len(s) == 1:\n",
    "        return 1\n",
    "    \n",
    "    for cut in range(1, len(s) // 2 + 1): \n",
    "        count = 1\n",
    "        tempStr = s[:cut] \n",
    "        for i in range(cut, len(s), cut):\n",
    "            if s[i:i+cut] == tempStr:\n",
    "                count += 1\n",
    "            else:\n",
    "                if count == 1:\n",
    "                    count = \"\"\n",
    "                result += str(count) + tempStr\n",
    "                tempStr = s[i:i+cut]\n",
    "                count = 1\n",
    "\n",
    "        if count == 1:\n",
    "            count = \"\"\n",
    "        result += str(count) + tempStr\n",
    "        length.append(len(result))\n",
    "        result = \"\"\n",
    "    \n",
    "    return min(length)"
   ]
  },
  {
   "cell_type": "markdown",
   "metadata": {},
   "source": [
    "## 자물쇠와 열쇠"
   ]
  },
  {
   "cell_type": "code",
   "execution_count": null,
   "metadata": {},
   "outputs": [],
   "source": [
    "# def check(lock):\n",
    "    l_=len(lock)//3\n",
    "    for i in range(l_, l_*2):\n",
    "        for j in range(l_, l_*2):\n",
    "            if lock[i][j] != 1: return False\n",
    "    return True\n",
    "\n",
    "def rotate_90(m):\n",
    "    N = len(m)\n",
    "    ret = [[0] * N for _ in range(N)]\n",
    "    for r in range(N):\n",
    "        for c in range(N):\n",
    "            ret[c][N-1-r] = m[r][c]\n",
    "    return ret\n",
    "\n",
    "def solution(key, lock):\n",
    "    m=len(key)\n",
    "    n=len(lock)\n",
    "    \n",
    "    big_lock=[[0]*n*3 for _ in range(n*3)]\n",
    "    for i in range(n):\n",
    "        for j in range(n):\n",
    "            big_lock[i+n][j+n]=lock[i][j]\n",
    "    for rotate in range(4):\n",
    "        key = rotate_90(key)\n",
    "        for x in range(n*2):\n",
    "            for y in range(n*2):\n",
    "                for i in range(m):\n",
    "                    for j in range(m):\n",
    "                        big_lock[x+i][y+j] += key[i][j]\n",
    "\n",
    "                if check(big_lock) == True: return True\n",
    "                for i in range(m):\n",
    "                    for j in range(m):\n",
    "                        big_lock[x+i][y+j] -= key[i][j]\n",
    "    \n",
    "    return False\n",
    "    \n",
    "print(solution([[0,0,0],[1,0,0],[0,1,1]],[[1,1,1],[1,1,0],[1,0,1]]))"
   ]
  },
  {
   "cell_type": "code",
   "execution_count": null,
   "metadata": {},
   "outputs": [],
   "source": []
  }
 ],
 "metadata": {
  "hide_input": false,
  "kernelspec": {
   "display_name": "Python 3",
   "language": "python",
   "name": "python3"
  },
  "language_info": {
   "codemirror_mode": {
    "name": "ipython",
    "version": 3
   },
   "file_extension": ".py",
   "mimetype": "text/x-python",
   "name": "python",
   "nbconvert_exporter": "python",
   "pygments_lexer": "ipython3",
   "version": "3.7.6"
  }
 },
 "nbformat": 4,
 "nbformat_minor": 4
}
