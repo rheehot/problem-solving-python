{
 "cells": [
  {
   "cell_type": "markdown",
   "metadata": {},
   "source": [
    "### 문제 51\n",
    "\n",
    "병합정렬(merge sort)은 대표적인 정렬 알고리즘 중 하나로 다음과 같이 동작합니다.\n",
    "\n",
    "1. 리스트의 길이가 0 또는 1이면 이미 정렬된 것으로 본다. 그렇지 않은 경우에는\n",
    "\n",
    "2. 정렬되지 않은 리스트를 절반으로 잘라 비슷한 크기의 두 부분 리스트로 나눈다.\n",
    "\n",
    "3. 각 부분 리스트를 재귀적으로 합병 정렬을 이용해 정렬한다.\n",
    "\n",
    "4. 두 부분 리스트를 다시 하나의 정렬된 리스트로 합병한다.\n",
    "\n",
    "다음 코드의 빈칸을 채워 병합정렬을 완성해 봅시다.\n",
    "\n",
    "```python\n",
    "#병합 정렬\n",
    "def 병합정렬(입력리스트):\n",
    "    입력리스트길이 = len(입력리스트)\n",
    "    if 입력리스트길이 <= 1:\n",
    "        return 입력리스트\n",
    "    중간값 = 입력리스트길이 // 2\n",
    "    그룹_하나 = 병합정렬(입력리스트[:중간값])\n",
    "    그룹_둘 = 병합정렬(입력리스트[중간값:])\n",
    "    결과값 = []\n",
    "\n",
    "    while (#빈칸을 채워주세요) and (#빈칸을 채워주세요) :\n",
    "        if (#빈칸을 채워주세요):\n",
    "            결과값.append(그룹_하나.pop(0))\n",
    "        else:\n",
    "            결과값.append(그룹_둘.pop(0))\n",
    "\n",
    "    while 그룹_하나:\n",
    "        결과값.append(그룹_하나.pop(0))\n",
    "    while 그룹_둘:\n",
    "        결과값.append(그룹_둘.pop(0))\n",
    "    return 결과값\n",
    "\n",
    "주어진리스트 = [180, 145, 165, 45, 170, 175, 173, 171]\n",
    "#빈칸을 채워주세요\n",
    "\n",
    "print(병합정렬(주어진리스트))\n",
    "```"
   ]
  },
  {
   "cell_type": "code",
   "execution_count": 3,
   "metadata": {},
   "outputs": [
    {
     "name": "stdout",
     "output_type": "stream",
     "text": [
      "[45, 145, 165, 170, 171, 173, 175, 180]\n"
     ]
    }
   ],
   "source": [
    "#병합 정렬\n",
    "def 병합정렬(입력리스트):\n",
    "    입력리스트길이 = len(입력리스트)\n",
    "    if 입력리스트길이 <= 1:\n",
    "        return 입력리스트\n",
    "    중간값 = 입력리스트길이 // 2\n",
    "    그룹_하나 = 병합정렬(입력리스트[:중간값])\n",
    "    그룹_둘 = 병합정렬(입력리스트[중간값:])\n",
    "    결과값 = []\n",
    "\n",
    "    while 그룹_하나 and 그룹_둘:\n",
    "        if 그룹_하나[0] < 그룹_둘[0]:\n",
    "            결과값.append(그룹_하나.pop(0))\n",
    "        else:\n",
    "            결과값.append(그룹_둘.pop(0))\n",
    "\n",
    "    while 그룹_하나:\n",
    "        결과값.append(그룹_하나.pop(0))\n",
    "    while 그룹_둘:\n",
    "        결과값.append(그룹_둘.pop(0))\n",
    "    return 결과값\n",
    "\n",
    "주어진리스트 = [180, 145, 165, 45, 170, 175, 173, 171]\n",
    "#빈칸을 채워주세요\n",
    "\n",
    "print(병합정렬(주어진리스트))"
   ]
  },
  {
   "cell_type": "markdown",
   "metadata": {},
   "source": [
    "### 문제 52: Quick Sort\n",
    "다음 빈 칸을 채워 퀵 정렬을 완성해주세요.\n",
    "\n",
    "```python\n",
    "def 퀵정렬(입력리스트):\n",
    "    입력리스트의길이 = len(입력리스트)\n",
    "    if 입력리스트의길이 <= 1:\n",
    "        return 입력리스트\n",
    "    기준값 = 입력리스트.pop(입력리스트의길이//2)\n",
    "    그룹_하나 = []\n",
    "    그룹_둘 = []\n",
    "    \n",
    "    for i in range(입력리스트의길이-1):\n",
    "        if #내용을 채워주세요:\n",
    "            그룹_하나.append(입력리스트[i])\n",
    "        else:\n",
    "            그룹_둘.append(입력리스트[i])\n",
    "    return #내용을 채워주세요\n",
    "\n",
    "주어진리스트 = input().split(' ')\n",
    "#내용을 채워주세요.\n",
    "\n",
    "print(퀵정렬(주어진리스트))\n",
    "```"
   ]
  },
  {
   "cell_type": "code",
   "execution_count": 5,
   "metadata": {},
   "outputs": [
    {
     "name": "stdout",
     "output_type": "stream",
     "text": [
      "10 8 2 3 4 6 1\n",
      "[1, 2, 3, 4, 6, 8, 10]\n"
     ]
    }
   ],
   "source": [
    "def 퀵정렬(입력리스트):\n",
    "    입력리스트의길이 = len(입력리스트)\n",
    "    if 입력리스트의길이 <= 1:\n",
    "        return 입력리스트\n",
    "    기준값 = 입력리스트.pop(입력리스트의길이//2)\n",
    "    그룹_하나 = []\n",
    "    그룹_둘 = []\n",
    "    \n",
    "    for i in range(입력리스트의길이-1):\n",
    "        if 입력리스트[i] < 기준값:\n",
    "            그룹_하나.append(입력리스트[i])\n",
    "        else:\n",
    "            그룹_둘.append(입력리스트[i])\n",
    "    return 퀵정렬(그룹_하나) + [기준값] + 퀵정렬(그룹_둘)\n",
    "\n",
    "주어진리스트 = input().split(' ')\n",
    "주어진리스트 = list(map(int, 주어진리스트))\n",
    "\n",
    "print(퀵정렬(주어진리스트))"
   ]
  },
  {
   "cell_type": "markdown",
   "metadata": {},
   "source": [
    "### 문제 53: 괄호 문자열\n",
    "괄호 문자열이란 괄호 기호인 '{', '}', '[', ']', '(', ')' 와 같은 것을 말한다. 그 중 괄호의 모양이 바르게 구성 된 문자열을 **바른 문자열**, 그렇지 않은 문자열을 **바르지 않은 문자열**이라 부르도록 하자. \n",
    "\n",
    "(())와 같은 문자열은 바른 문자열이지만 ()()) 와 같은 문자열은 바르지 않은 문자열이다.(해당 문제에서는 소괄호만 판별하지만, 실력이 되시는 분들은 중괄호와 대괄호까지 판별해보세요.)\n",
    "\n",
    "**입력으로 주어진 괄호 문자열이 바른 문자열인지 바르지 않은 문자열인지 \"YES\"와 \"NO\"로 구분된 문자열을 출력해보자.**"
   ]
  },
  {
   "cell_type": "code",
   "execution_count": 9,
   "metadata": {},
   "outputs": [
    {
     "name": "stdout",
     "output_type": "stream",
     "text": [
      "((())()(())\n",
      "NO\n"
     ]
    }
   ],
   "source": [
    "s = input()\n",
    "if s.count('(') == s.count(')'):\n",
    "    print('YES')\n",
    "else:\n",
    "    print('NO')"
   ]
  },
  {
   "cell_type": "markdown",
   "metadata": {},
   "source": [
    "### 문제 54: 연속되는 수\n",
    "은주는 놀이공원 아르바이트를 하고 있습니다. 은주가 일하는 놀이공원에서는 현재 놀이공원 곳곳에 숨겨진 숫자 스탬프를 모아 오면 선물을 주는 이벤트를 하고 있습니다. 숫자 스탬프는 매일 그 수와 스탬프에 적힌 숫자가 바뀌지만 그 숫자는 항상 연속됩니다. \n",
    "그런데 요즘 다른 날에 찍은 스탬프를 가지고 와 선물을 달라고 하는 손님이 늘었습니다.\n",
    "\n",
    "스탬프에 적힌 숫자가 공백으로 구분되어 주어지면 이 숫자가 연속수인지 아닌지 \"YES\"와 \"NO\"로 판별하는 프로그램을 작성하세요.\n",
    "\n",
    "```python\n",
    "**입력1**\n",
    "1 2 4 3 5\n",
    "\n",
    "**출력1**\n",
    "YES\n",
    "\n",
    "**입력2**\n",
    "1 4 2 6 3\n",
    "\n",
    "**출력2**\n",
    "NO\n",
    "```"
   ]
  },
  {
   "cell_type": "code",
   "execution_count": 16,
   "metadata": {},
   "outputs": [
    {
     "name": "stdout",
     "output_type": "stream",
     "text": [
      "1 2 4 3 5\n",
      "YES\n"
     ]
    }
   ],
   "source": [
    "def check(n):\n",
    "    for i in range(len(n)-1):\n",
    "        if n[i+1] - n[i] != 1:\n",
    "            return False\n",
    "    return True\n",
    "\n",
    "n = list(map(int, input().split()))\n",
    "n.sort()\n",
    "if check(n):\n",
    "    print('YES')\n",
    "else:\n",
    "    print('NO')"
   ]
  },
  {
   "cell_type": "markdown",
   "metadata": {},
   "source": [
    "### 문제 55: 하노이의 탑\n",
    "하노이의 탑은 프랑스 수학자 에두아르드가 처음으로 발표한 게임입니다. 하노이의 탑은 A, B, C 3개의 기둥과 기둥에 꽂을 수 있는 N개의 원판으로 이루어져 있습니다. 이 게임에서 다음의 규칙을 만족해야 합니다.\n",
    "\n",
    "> 1. 처음에 모든 원판은 A기둥에 꽂혀 있다.\n",
    "2. 모든 원판의 지름은 다르다.\n",
    "3. 이 원반은 세 개의 기둥 중 하나에 반드시 꽂혀야 한다.\n",
    "4. 작은 원반 위에 큰 원반을 놓을 수 없다.\n",
    "5. 한 번에 하나의 원판(가장 위에 있는 원판) 만을 옮길 수 있다.\n",
    "\n",
    "이 규칙을 만족하며 A기둥에 있는 원반 N개를 모두 C 원반으로 옮기고 싶습니다.\n",
    "모든 원반을 옮기기 위해 실행되어야 할 최소 원반 이동 횟수를 계산하는 프로그램을 완성해주세요.\n",
    "\n",
    "```python\n",
    "원판의이동경로 = []\n",
    "def 하노이(원반의수, 시작기둥, 목표기둥, 보조기둥):\n",
    "    #원판이 한개일 때에는 옮기면 됩니다.\n",
    "    if 원반의수 == 1:\n",
    "        원판의이동경로.append([시작기둥, 목표기둥]) \n",
    "        return None\n",
    "    #원반의 n-1개를 경유기둥으로 옮기고\n",
    "    하노이(#내용을 채워주세요.)\n",
    "    #가장 큰 원반은 목표기둥으로\n",
    "    원판의이동경로.append(#내용을 채워주세요.) \n",
    "    #경유기둥과 시작기둥을 바꿉니다!\n",
    "    하노이(#내용을 채워주세요.)\n",
    "\n",
    "user_input = int(input())\n",
    "하노이(user_input,'A','C','B')\n",
    "\n",
    "print(len(원판의이동경로))\n",
    "```"
   ]
  },
  {
   "cell_type": "code",
   "execution_count": null,
   "metadata": {},
   "outputs": [],
   "source": []
  }
 ],
 "metadata": {
  "hide_input": false,
  "kernelspec": {
   "display_name": "Python 3",
   "language": "python",
   "name": "python3"
  },
  "language_info": {
   "codemirror_mode": {
    "name": "ipython",
    "version": 3
   },
   "file_extension": ".py",
   "mimetype": "text/x-python",
   "name": "python",
   "nbconvert_exporter": "python",
   "pygments_lexer": "ipython3",
   "version": "3.7.6"
  }
 },
 "nbformat": 4,
 "nbformat_minor": 4
}
