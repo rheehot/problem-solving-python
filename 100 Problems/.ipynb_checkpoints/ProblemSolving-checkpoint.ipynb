{
 "cells": [
  {
   "cell_type": "markdown",
   "metadata": {},
   "source": [
    "## 파이썬 코딩테스트 100제\n",
    "<hr>"
   ]
  },
  {
   "cell_type": "markdown",
   "metadata": {},
   "source": [
    "### 문제1\n",
    "다음 리스트에서 400, 500를 삭제하는 code를 입력하세요.\n",
    "\n",
    "```python\n",
    "nums = [100, 200, 300, 400, 500]\n",
    "```"
   ]
  },
  {
   "cell_type": "code",
   "execution_count": 5,
   "metadata": {},
   "outputs": [
    {
     "data": {
      "text/plain": [
       "[100, 200, 300]"
      ]
     },
     "execution_count": 5,
     "metadata": {},
     "output_type": "execute_result"
    }
   ],
   "source": [
    "nums = [100, 200, 300, 400, 500]\n",
    "del nums[nums.index(400)]\n",
    "del nums[nums.index(500)]\n",
    "nums"
   ]
  },
  {
   "cell_type": "markdown",
   "metadata": {},
   "source": [
    "### 문제2 : 리스트의 내장함수\n",
    "```python\n",
    "l = [200, 100, 300]\n",
    "<pass>\n",
    "print(l)\n",
    "```\n",
    "\n",
    "<pass>부분에 리스트 내장함수를 insert를 이용하여 코드를 입력하고 다음과 같이 출력되게 하세요.\n",
    "\n",
    "> 출력\n",
    "\n",
    "```python\n",
    "[200, 100, 10000, 300]\n",
    "```"
   ]
  },
  {
   "cell_type": "code",
   "execution_count": 7,
   "metadata": {},
   "outputs": [
    {
     "name": "stdout",
     "output_type": "stream",
     "text": [
      "[200, 100, 10000, 300]\n"
     ]
    }
   ],
   "source": [
    "l = [200, 100, 300]\n",
    "l.insert(2, 10000)\n",
    "print(l)"
   ]
  },
  {
   "cell_type": "markdown",
   "metadata": {},
   "source": [
    "### 문제 3 : 변수의 타입\n",
    "- 다음 출력 값으로 올바른 것은?\n",
    "\n",
    "```python\n",
    "l = [100, 200, 300]\n",
    "print(type(l))\n",
    "```\n",
    "\n",
    "-> 답: class 'list'"
   ]
  },
  {
   "cell_type": "markdown",
   "metadata": {},
   "source": [
    "### 문제 4: 변수의 타입2\n",
    "다음 변수 a를 print(type(a))로 넣었을 때 출력될 값과의 연결이 알맞지 않은 것은?\n",
    "\n",
    "1)  입력 : a =1,   출력 : class 'int'\n",
    "\n",
    "2)  입력 : a = 2.22,   출력 : class 'float'\n",
    "\n",
    "3)  입력 : a = 'p',   출력 : class 'char'\n",
    "\n",
    "4)  입력 : a = [1, 2, 3],   출력 : class 'list'\n",
    "\n",
    "-> 답: 3 'str'"
   ]
  },
  {
   "cell_type": "markdown",
   "metadata": {},
   "source": [
    "### 문제 5: for문 계산\n",
    "- 다음 코드의 출력 값으로 알맞은 것은?\n",
    "\n",
    "```python\n",
    "a = 10\n",
    "b = 2\n",
    "for i in range(1, 5, 2):\n",
    "    a += i\n",
    "\n",
    "print(a+b)\n",
    "```\n",
    "\n",
    "답: a = 10 -> 12 -> 14 + 2 = 16"
   ]
  },
  {
   "cell_type": "markdown",
   "metadata": {},
   "source": [
    "### 문제 8: 딕셔너리 키 이름 중복\n",
    "딕셔너리를 다음과 같이 만들었다. \n",
    "출력값을 입력하시오. (출력값은 공백을 넣지 않습니다. )\n",
    "\n",
    "```python\n",
    "d = {'height':180,'weight':78,'weight':84,'temparture':36,'eyesight':1}\n",
    "print(d['weight'])\n",
    "```"
   ]
  },
  {
   "cell_type": "code",
   "execution_count": 8,
   "metadata": {},
   "outputs": [
    {
     "name": "stdout",
     "output_type": "stream",
     "text": [
      "84\n"
     ]
    }
   ],
   "source": [
    "d = {'height':180,'weight':78,'weight':84,'temparture':36,'eyesight':1}\n",
    "print(d['weight'])"
   ]
  },
  {
   "cell_type": "markdown",
   "metadata": {},
   "source": [
    "### 문제 9: sep, end를 활용한 출력\n",
    "다음 소스 코드를 완성하여 날짜와 시간을 출력하시오.\n",
    "\n",
    "```python\n",
    "year = '2019'\n",
    "month = '04'\n",
    "day = '26'\n",
    "hour = '11'\n",
    "minute = '34'\n",
    "second = '27'\n",
    "\n",
    "print(year, month, day, )\n",
    "print(hour, minute, second, )\n",
    "```"
   ]
  },
  {
   "cell_type": "code",
   "execution_count": 10,
   "metadata": {},
   "outputs": [
    {
     "name": "stdout",
     "output_type": "stream",
     "text": [
      "2019/04/26 11:34:27\n"
     ]
    }
   ],
   "source": [
    "year = '2019'\n",
    "month = '04'\n",
    "day = '26'\n",
    "hour = '11'\n",
    "minute = '34'\n",
    "second = '27'\n",
    "\n",
    "print(year, month, day, sep='/', end=' ')\n",
    "print(hour, minute, second, sep=':')"
   ]
  },
  {
   "cell_type": "markdown",
   "metadata": {},
   "source": [
    "### 문제 10: 별 찍기\n",
    "### 입출력 예시\n",
    "\n",
    "> 입력\n",
    "\n",
    "```python\n",
    "5\n",
    "```\n",
    "\n",
    "> 출력\n",
    "\n",
    "```python\n",
    "    *\n",
    "   ***\n",
    "  *****\n",
    " *******\n",
    "*********\n",
    "```"
   ]
  },
  {
   "cell_type": "code",
   "execution_count": 18,
   "metadata": {},
   "outputs": [
    {
     "name": "stdout",
     "output_type": "stream",
     "text": [
      "10\n",
      "           \n",
      "          *\n",
      "         ***\n",
      "        *****\n",
      "       *******\n",
      "      *********\n",
      "     ***********\n",
      "    *************\n",
      "   ***************\n",
      "  *****************\n",
      " *******************\n"
     ]
    }
   ],
   "source": [
    "starline = int(input())\n",
    "for i in range(starline+1): print(' ' * (starline-i),'*' * (2*i - 1))"
   ]
  },
  {
   "cell_type": "markdown",
   "metadata": {},
   "source": [
    "### 문제 11: for를 이용한 기본 활용\n",
    "\n",
    "1부터 100까지 모두 더하는 Code를 <pass> 부분에 완성하세요. for를 사용해야 합니다.\n",
    "\n",
    "```python\n",
    "s = 0\n",
    "\n",
    "<pass>\n",
    "\n",
    "print(s)\n",
    "```"
   ]
  },
  {
   "cell_type": "code",
   "execution_count": 20,
   "metadata": {},
   "outputs": [
    {
     "name": "stdout",
     "output_type": "stream",
     "text": [
      "5050\n"
     ]
    }
   ],
   "source": [
    "s = 0\n",
    "for i in range(1, 101): s += i\n",
    "print(s)"
   ]
  },
  {
   "cell_type": "markdown",
   "metadata": {},
   "source": [
    "### 문제 12: 게임 캐릭터 클래스 만들기"
   ]
  },
  {
   "cell_type": "markdown",
   "metadata": {},
   "source": [
    "다음 소스코드에서 클래스를 작성하여 게임 캐릭터의 능력치와 '파이어볼'이 출력되게 만드시오.\n",
    "\n",
    "**주어진 소스 코드를 수정해선 안됩니다.**\n",
    "\n",
    "```python\n",
    "<여기에 class를 작성하세요.>\n",
    "\n",
    "x = Wizard(health = 545, mana = 210, armor = 10)\n",
    "print(x.health, x.mana, x.armor)\n",
    "x.attack()\n",
    "```\n",
    "\n",
    "출력예시\n",
    "\n",
    "```python\n",
    "545 210 10\n",
    "파이어볼\n",
    "```"
   ]
  },
  {
   "cell_type": "code",
   "execution_count": 26,
   "metadata": {},
   "outputs": [
    {
     "name": "stdout",
     "output_type": "stream",
     "text": [
      "545 210 10\n",
      "파이어볼\n"
     ]
    }
   ],
   "source": [
    "class Wizard:\n",
    "    def __init__(self, health, mana, armor):\n",
    "        self.health = health\n",
    "        self.mana = mana\n",
    "        self.armor = armor\n",
    "    def attack(self):\n",
    "        print('파이어볼')\n",
    "\n",
    "x = Wizard(health = 545, mana = 210, armor = 10)\n",
    "print(x.health, x.mana, x.armor)\n",
    "x.attack()"
   ]
  },
  {
   "cell_type": "markdown",
   "metadata": {},
   "source": [
    "### 문제 13: 몇 번째 행성인가요?\n",
    "우리 태양계를 이루고 있는 행성은 수성, 금성, 지구, 화성, 목성, 토성, 천왕성, 해왕성으로 총 8개 입니다. 저희는 우리 태양계의 n번째 행성이 무엇인지 알고 싶습니다.\n",
    "\n",
    "입력으로 행성의 순서를 나타내는 숫자 n이 입력됩니다. 예를들어 수성은 첫번째 행성입니다.\n",
    "\n",
    "```python\n",
    "1\n",
    "```\n",
    "\n",
    "출력으로 그 순서에 해당하는 행성의 이름을 출력해 주세요.\n",
    "\n",
    "```python\n",
    "수성\n",
    "```"
   ]
  },
  {
   "cell_type": "code",
   "execution_count": 29,
   "metadata": {},
   "outputs": [
    {
     "name": "stdout",
     "output_type": "stream",
     "text": [
      "1\n",
      "수성\n"
     ]
    }
   ],
   "source": [
    "planets = ['수성', '금성', '지구', '화성', '목성', '토성', '천왕성', '해왕성']\n",
    "print(planets[int(input())-1])"
   ]
  },
  {
   "cell_type": "markdown",
   "metadata": {},
   "source": [
    "### 문제14: 3의 배수인가요?\n",
    "영희는 친구와 게임을 하고 있습니다. 서로 돌아가며 랜덤으로 숫자를 하나 말하고 그게 3의 배수이면 박수를 치고 아니면 그 숫자를 그대로 말하는 게임입니다.\n",
    "\n",
    "입력으로 랜덤한 숫자 n이 주어집니다.\n",
    "\n",
    "만약 그 수가 3의 배수라면 '짝'이라는 글자를, 3의 배수가 아니라면 n을 그대로 출력해 주세요.\n"
   ]
  },
  {
   "cell_type": "code",
   "execution_count": 32,
   "metadata": {},
   "outputs": [
    {
     "name": "stdout",
     "output_type": "stream",
     "text": [
      "3\n",
      "짝\n"
     ]
    }
   ],
   "source": [
    "n=int(input())\n",
    "if n%3==0: print('짝')\n",
    "else: print(n)"
   ]
  },
  {
   "cell_type": "markdown",
   "metadata": {},
   "source": [
    "### 문제 15: 자기소개\n",
    "신학기가 시작되고, 아이들이 돌아가면서 자기소개를 하기로 했습니다.\n",
    "\n",
    "만약 입력으로 `김다정`이라는 이름이 주어지면\n",
    "\n",
    "```python\n",
    "안녕하세요. 저는 김다정입니다.\n",
    "```\n",
    "\n",
    "라고 출력하게 해주세요."
   ]
  },
  {
   "cell_type": "code",
   "execution_count": 40,
   "metadata": {},
   "outputs": [
    {
     "name": "stdout",
     "output_type": "stream",
     "text": [
      "김다정\n",
      "안녕하세요. 저는 김다정입니다.\n"
     ]
    }
   ],
   "source": [
    "print(f'안녕하세요. 저는 {input()}입니다.')"
   ]
  },
  {
   "cell_type": "markdown",
   "metadata": {},
   "source": [
    "### 문제 16: 거꾸로"
   ]
  },
  {
   "cell_type": "code",
   "execution_count": 39,
   "metadata": {},
   "outputs": [
    {
     "name": "stdout",
     "output_type": "stream",
     "text": [
      "거꾸로\n",
      "로꾸거\n"
     ]
    }
   ],
   "source": [
    "print(f'{input()[::-1]}')"
   ]
  },
  {
   "cell_type": "markdown",
   "metadata": {},
   "source": [
    "### 문제 17: 놀이기구 키 제한"
   ]
  },
  {
   "cell_type": "markdown",
   "metadata": {},
   "source": [
    "유주는 놀이공원 아르바이트 중입니다. 그런데 놀이기구마다 키 제한이 있습니다.\n",
    "유주가 담당하는 놀이기구는 키가 150 이상만 탈 수 있습니다.\n",
    "\n",
    "입력으로 키가 주어지면\n",
    "키가 150이 넘으면 **YES**를 틀리면 **NO**를 출력하는 프로그램을 작성하세요."
   ]
  },
  {
   "cell_type": "code",
   "execution_count": 41,
   "metadata": {},
   "outputs": [
    {
     "name": "stdout",
     "output_type": "stream",
     "text": [
      "151\n",
      "YES\n"
     ]
    }
   ],
   "source": [
    "height = int(input())\n",
    "if height >= 150: print('YES')\n",
    "else: print('NO')"
   ]
  },
  {
   "cell_type": "markdown",
   "metadata": {},
   "source": [
    "### 문제 18: 평균 점수\n",
    "영하네 반은 국어, 수학, 영어 시험을 보았습니다. 영하는 친구들의 평균 점수를 구해주기로 했습니다.\n",
    "\n",
    "공백으로 구분하여 세 과목의 점수가 주어지면\n",
    "전체 평균 점수를 구하는 프로그램을 작성하세요. 단, 소숫점 자리는 모두 버립니다."
   ]
  },
  {
   "cell_type": "code",
   "execution_count": 53,
   "metadata": {},
   "outputs": [
    {
     "name": "stdout",
     "output_type": "stream",
     "text": [
      "20 30 40\n",
      "30\n"
     ]
    }
   ],
   "source": [
    "score = list(map(int, input().split()))\n",
    "print(int(sum(score)/3))"
   ]
  },
  {
   "cell_type": "markdown",
   "metadata": {},
   "source": [
    "### 문제 19: 제곱을 구하자\n",
    "공백으로 구분하여 두 숫자 a와 b가 주어지면, a의 b승을 구하는 프로그램을 작성하세요."
   ]
  },
  {
   "cell_type": "code",
   "execution_count": 56,
   "metadata": {},
   "outputs": [
    {
     "name": "stdout",
     "output_type": "stream",
     "text": [
      "2 4\n",
      "16\n"
     ]
    }
   ],
   "source": [
    "n = list(map(int, input().split()))\n",
    "print(n[0]**n[1])"
   ]
  },
  {
   "cell_type": "markdown",
   "metadata": {},
   "source": [
    "### 문제 20: 몫과 나머지\n",
    "공백으로 구분하여 두 숫자가 주어집니다.\n",
    "첫번째 숫자로 두번째 숫자를 나누었을 때 **그 몫과 나머지를 공백으로 구분하여 출력하세요.**\n",
    "\n",
    "> 입력\n",
    "\n",
    "```python\n",
    "10 2\n",
    "```\n",
    "\n",
    "> 출력\n",
    "\n",
    "```python\n",
    "5 0\n",
    "```"
   ]
  },
  {
   "cell_type": "code",
   "execution_count": 57,
   "metadata": {},
   "outputs": [
    {
     "name": "stdout",
     "output_type": "stream",
     "text": [
      "10 2\n",
      "5 0\n"
     ]
    }
   ],
   "source": [
    "n = list(map(int, input().split()))\n",
    "print(n[0]//n[1], n[0]%n[1])"
   ]
  },
  {
   "cell_type": "markdown",
   "metadata": {},
   "source": [
    "### 문제 24: 대문자로 바꿔주세요!\n",
    "민지는 국제 포럼에서 아르바이트를 하게 되었습니다. 민지는 각 국에서 온 참가자들의 명단을 엑셀로 정리하고 있는데 참가자들 이름이 어떤 이는 전부 소문자, 어떤 이는 전부 대문자로 써져 있는 등 형식이 제각각이었습니다.\n",
    "\n",
    "민지를 위해 이름이 입력되면 전부 대문자로 출력되는 프로그램을 만들어주세요."
   ]
  },
  {
   "cell_type": "code",
   "execution_count": 58,
   "metadata": {},
   "outputs": [
    {
     "name": "stdout",
     "output_type": "stream",
     "text": [
      "mary\n",
      "MARY\n"
     ]
    }
   ],
   "source": [
    "print(f'{input().upper()}')"
   ]
  },
  {
   "cell_type": "markdown",
   "metadata": {},
   "source": [
    "### 문제 25: 원의 넓이를 구하세요\n",
    "원의 넓이는 `반지름의 길이 x 반지름의 길이 x 3.14`로 구할 수 있습니다.\n",
    "함수를 사용하여 원의 넓이를 구하는 코드를 작성해봅시다.\n",
    "\n",
    "**입력을 반지름의 길이로 정수 n이 주어지면 원의 넓이를 반환하는 함수**를 만들어 주세요.\n",
    "(입력을 해야하기 때문에 input을 반드시 사용해야합니다)"
   ]
  },
  {
   "cell_type": "code",
   "execution_count": 60,
   "metadata": {},
   "outputs": [
    {
     "name": "stdout",
     "output_type": "stream",
     "text": [
      "5\n"
     ]
    },
    {
     "data": {
      "text/plain": [
       "78.5"
      ]
     },
     "execution_count": 60,
     "metadata": {},
     "output_type": "execute_result"
    }
   ],
   "source": [
    "def f(n):\n",
    "    return n*n*3.14\n",
    "f(int(input()))"
   ]
  },
  {
   "cell_type": "markdown",
   "metadata": {},
   "source": [
    "### 문제 26: 행성 문제 2\n",
    "우리 태양계를 이루는 행성은 수성, 금성, 지구, 화성, 목성, 토성, 천왕성, 해왕성이 있습니다.\n",
    "이 행성들의 영어 이름은 Mercury, Venus, Earth, Mars, Jupiter, Saturn, Uranus, Neptune입니다.\n",
    "\n",
    "**행성의 한글 이름을 입력하면 영어 이름을 반환하는 프로그램**을 만들어 주세요."
   ]
  },
  {
   "cell_type": "code",
   "execution_count": 62,
   "metadata": {},
   "outputs": [
    {
     "name": "stdout",
     "output_type": "stream",
     "text": [
      "수성\n",
      "Mercury\n"
     ]
    }
   ],
   "source": [
    "d = {'수성':'Mercury', '금성':'Venus', '지구':'Earth'}\n",
    "print(d[input()])"
   ]
  },
  {
   "cell_type": "markdown",
   "metadata": {},
   "source": [
    "### 문제 27: 딕셔너리 만들기\n",
    "첫 줄에는 학생의 이름이 공백으로 구분되어 입력되고, 두번째 줄에는 그 학생의 수학 점수가 공백으로 구분되어 주어집니다.\n",
    "\n",
    "두 개를 합쳐 **학생의 이름이 key**이고 **value가 수학 점수**인 딕셔너리를 출력해주세요.\n",
    "\n",
    "> 입력\n",
    "\n",
    "```python\n",
    "Yujin Hyewon\n",
    "70 100\n",
    "```\n",
    "\n",
    "> 출력\n",
    "\n",
    "```python\n",
    "{'Yujin': 70, 'Hyewon': 100}\n",
    "```"
   ]
  },
  {
   "cell_type": "code",
   "execution_count": 65,
   "metadata": {},
   "outputs": [
    {
     "name": "stdout",
     "output_type": "stream",
     "text": [
      "Y H\n",
      "70 100\n",
      "{'Y': '70', 'H': '100'}\n"
     ]
    }
   ],
   "source": [
    "k, v = input().split(), input().split()\n",
    "d = {k[0]:v[0], k[1]:v[1]}\n",
    "print(d)"
   ]
  },
  {
   "cell_type": "code",
   "execution_count": 67,
   "metadata": {},
   "outputs": [
    {
     "name": "stdout",
     "output_type": "stream",
     "text": [
      "Y H\n",
      "70 100\n",
      "{'Y': 70, 'H': 100}\n"
     ]
    }
   ],
   "source": [
    "# 모범답안\n",
    "keys = input().split()\n",
    "values = map(int, input().split())\n",
    "d = dict(zip(keys, values))\n",
    "print(d)"
   ]
  },
  {
   "cell_type": "markdown",
   "metadata": {},
   "source": [
    "### 문제 28: 2-gram\n",
    "**2-gram**이란 문자열에서 2개의 연속된 요소를 출력하는 방법입니다. \n",
    "예를 들어 '**Python**'을 2-gram으로 반복해 본다면 다음과 같은 결과가 나옵니다.\n",
    "\n",
    "```python\n",
    "Py\n",
    "yt\n",
    "th\n",
    "ho\n",
    "on\n",
    "```\n",
    "\n",
    "입력으로 문자열이 주어지면 **2-gram**으로 출력하는 프로그램을 작성해 주세요."
   ]
  },
  {
   "cell_type": "code",
   "execution_count": 69,
   "metadata": {},
   "outputs": [
    {
     "name": "stdout",
     "output_type": "stream",
     "text": [
      "Python\n",
      "Py\n",
      "yt\n",
      "th\n",
      "ho\n",
      "on\n"
     ]
    }
   ],
   "source": [
    "s = input().replace(' ','')\n",
    "for i in range(len(s)-1): print(s[i]+s[i+1])"
   ]
  },
  {
   "cell_type": "markdown",
   "metadata": {},
   "source": [
    "### 문제 29: 대문자만 지나가세요\n",
    "진구는 영어 학원 아르바이트를 하고 있습니다. 반 아이들은 알파벳을 공부하는 학생들인데 오늘은 대문자 쓰기 시험을 봤습니다.\n",
    "\n",
    "**알파벳 하나만을 입력하고 그 알파벳이 대문자이면 YES를 아니면 NO를 출력하는 프로그램**을 만들어 주세요.\n",
    "\n",
    "→ 알파벳 여러개를 입력하고 여러개 입력한 것 중 대문자만 출력해주는 프로그램도 만들어보세요."
   ]
  },
  {
   "cell_type": "code",
   "execution_count": 71,
   "metadata": {},
   "outputs": [
    {
     "name": "stdout",
     "output_type": "stream",
     "text": [
      "A\n",
      "YES\n"
     ]
    }
   ],
   "source": [
    "c = input()[:1]\n",
    "if c.isupper(): print('YES')\n",
    "else: print('NO')"
   ]
  },
  {
   "cell_type": "code",
   "execution_count": 76,
   "metadata": {},
   "outputs": [
    {
     "name": "stdout",
     "output_type": "stream",
     "text": [
      "AbCdEfG\n",
      "ACEG\n"
     ]
    }
   ],
   "source": [
    "capital = list(filter(lambda x:x.isupper(), input()))\n",
    "print(''.join(capital))"
   ]
  },
  {
   "cell_type": "markdown",
   "metadata": {},
   "source": [
    "### 문제 30: 문자열 속 문자 찾기\n",
    "문자 pineapple에는 apple이라는 문자가 숨어 있습니다. 원범이는 이렇듯 문자열 속에 숨어있는 문자를 찾아보려고 합니다.\n",
    "\n",
    "입력으로 첫 줄에 문자열이 주어지고 둘째 줄에 찾을 문자가 주어지면 \n",
    "**그 문자가 시작하는 index를 반환하는 프로그램**을 만들어 주세요\n",
    "\n",
    "```python\n",
    "**입력**\n",
    "\n",
    "pineapple is yummy\n",
    "apple\n",
    "\n",
    "**출력**\n",
    "4\n",
    "```"
   ]
  },
  {
   "cell_type": "code",
   "execution_count": 77,
   "metadata": {},
   "outputs": [
    {
     "name": "stdout",
     "output_type": "stream",
     "text": [
      "pineapple is\n",
      "apple\n",
      "4\n"
     ]
    }
   ],
   "source": [
    "sentence, key = input(), input()\n",
    "print(sentence.index(key))"
   ]
  },
  {
   "cell_type": "markdown",
   "metadata": {},
   "source": [
    "#### find와 index\n",
    "둘 다 문자열에서 문자/문자열의 인덱스를 반환<br>\n",
    "차이점은 해당 문자/문자열 없을 경우 find: -1 리턴, index: 오류 발생"
   ]
  },
  {
   "cell_type": "markdown",
   "metadata": {},
   "source": [
    "### 문제 32: 문자열 만들기\n",
    "취업 준비생인 혜림이는 자기소개서를 쓰고 있습니다. 열심히 자기소개서를 작성하던 도중 혜림이는 자기가 지금까지 단어를 얼마나 적었는지 궁금하게 됩니다. \n",
    "\n",
    "혜림이를 위해 **문자열을 입력받으면 단어의 갯수를 출력하는 프로그램**을 작성해 주세요.\n",
    "\n",
    "```python\n",
    "**입출력**\n",
    "\n",
    "입력 : 안녕하세요. 저는 제주대학교 컴퓨터공학전공 혜림입니다.\n",
    "출력 : 5\n",
    "```"
   ]
  },
  {
   "cell_type": "code",
   "execution_count": 80,
   "metadata": {},
   "outputs": [
    {
     "name": "stdout",
     "output_type": "stream",
     "text": [
      "안녕하세요. 저는 제주대학교 컴공 혜림입니다.\n",
      "5\n"
     ]
    }
   ],
   "source": [
    "print(len(input().split()))"
   ]
  },
  {
   "cell_type": "markdown",
   "metadata": {},
   "source": [
    "### 문제 33: 거꾸로 출력\n",
    "한 줄에 여러개의 숫자가 입력되면, 역순으로 그 숫자들을 하나씩 출력하는 프로그램을 작성하시오.\n",
    "\n",
    "```python\n",
    "**입출력**\n",
    "\n",
    "입력 : 1 2 3 4 5\n",
    "출력 : 5 4 3 2 1\n",
    "\n",
    "입력 : 2 4 6 7 8\n",
    "출력 : 8 7 6 4 2\n",
    "```"
   ]
  },
  {
   "cell_type": "code",
   "execution_count": 87,
   "metadata": {},
   "outputs": [
    {
     "name": "stdout",
     "output_type": "stream",
     "text": [
      "1 2 3 4 5\n",
      "5 4 3 2 1 "
     ]
    }
   ],
   "source": [
    "n = list(map(int,input().split()))\n",
    "for i in n:\n",
    "    print(n[len(n)-i], end=' ')"
   ]
  },
  {
   "cell_type": "markdown",
   "metadata": {},
   "source": [
    "### 문제 34: sort 구현\n",
    "민주는 체육부장으로 체육시간이 되면 반 친구들이 제대로 키 순서대로 모였는지를 확인해야 한다. 그런데 요즘 민주는 그것이 너무 번거롭게 느껴져 한 번에 확인하고 싶어한다. \n",
    "\n",
    "민주를 위해 **키가 주어지면 순서대로 제대로 섰는지 확인하는 프로그램**을 작성해보자.\n",
    "\n",
    "**입출력 예시**\n",
    "\n",
    "```\n",
    "입력 : 176 156 155 165 166 169\n",
    "출력 : NO\n",
    "```"
   ]
  },
  {
   "cell_type": "code",
   "execution_count": 91,
   "metadata": {},
   "outputs": [
    {
     "name": "stdout",
     "output_type": "stream",
     "text": [
      "176 156 155 165 166 169\n",
      "NO\n"
     ]
    }
   ],
   "source": [
    "f = True\n",
    "h = list(map(int, input().split()))\n",
    "for i in range(len(h)-1):\n",
    "    if h[i]<h[i+1]:\n",
    "        f = False\n",
    "        print('NO')\n",
    "        break\n",
    "if f: print('YES')"
   ]
  },
  {
   "cell_type": "code",
   "execution_count": 97,
   "metadata": {},
   "outputs": [
    {
     "name": "stdout",
     "output_type": "stream",
     "text": [
      "4 2 3 1\n",
      "NO\n"
     ]
    }
   ],
   "source": [
    "h = list(map(int, input().split()))\n",
    "if h != sorted(h):\n",
    "    print('NO')\n",
    "else:\n",
    "    print('YES')"
   ]
  },
  {
   "cell_type": "markdown",
   "metadata": {},
   "source": [
    "### 문제 35: Factory 함수 사용하기\n",
    "2제곱, 3제곱, 4제곱을 할 수 있는 Factory 함수를 만들려고 합니다. \n",
    "\n",
    "- pass에 코드를 작성하여 two함수를 완성하세요.\n",
    "\n",
    "```python\n",
    "def one(n):\n",
    "    def two():\n",
    "        <pass>\n",
    "    return two\n",
    "\n",
    "a = one(2)\n",
    "b = one(3)\n",
    "c = one(4)\n",
    "print(a(10))\n",
    "print(b(10))\n",
    "print(c(10))\n",
    "```"
   ]
  },
  {
   "cell_type": "code",
   "execution_count": 98,
   "metadata": {},
   "outputs": [
    {
     "name": "stdout",
     "output_type": "stream",
     "text": [
      "100\n",
      "1000\n",
      "10000\n"
     ]
    }
   ],
   "source": [
    "def one(n):\n",
    "    def two(value):\n",
    "        sq = value ** n\n",
    "        return sq\n",
    "    return two\n",
    "\n",
    "a = one(2)\n",
    "b = one(3)\n",
    "c = one(4)\n",
    "print(a(10))\n",
    "print(b(10))\n",
    "print(c(10))"
   ]
  },
  {
   "cell_type": "markdown",
   "metadata": {},
   "source": [
    "### 문제 36: 구구단 출력\n",
    "1~9까지의 숫자 중 하나를 입력하면 그 단의 구구단 결과를 한 줄에 출력하는 프로그램을 작성하세요.\n",
    "\n",
    "> 입력\n",
    "\n",
    "```python\n",
    "2\n",
    "```\n",
    "\n",
    "> 출력\n",
    "\n",
    "```python\n",
    "2 4 6 8 10 12 14 16 18\n",
    "```"
   ]
  },
  {
   "cell_type": "code",
   "execution_count": 103,
   "metadata": {},
   "outputs": [
    {
     "name": "stdout",
     "output_type": "stream",
     "text": [
      "2\n",
      "2 4 6 8 10 12 14 16 18 "
     ]
    }
   ],
   "source": [
    "n = int(input())\n",
    "for i in range(1, 10):\n",
    "    print(n*i, end=' ')"
   ]
  },
  {
   "cell_type": "markdown",
   "metadata": {},
   "source": [
    "### 문제 37: count 사용하기\n",
    "새 학기를 맞아 호준이네 반은 반장 선거를 하기로 했습니다.  그런데 표를 하나씩 개표하는 과정이 너무 번거롭게 느껴진 당신은 **학생들이 뽑은 후보들을 입력받으면 뽑힌 학생의 이름과 받은 표 수를 출력하는 프로그램**을 작성하기로 하였습니다.\n",
    "\n",
    "```python\n",
    "**입력**\n",
    "원범 원범 혜원 혜원 혜원 혜원 유진 유진\n",
    "\n",
    "**출력**\n",
    "혜원(이)가 총 4표로 반장이 되었습니다.\n",
    "```"
   ]
  },
  {
   "cell_type": "code",
   "execution_count": 119,
   "metadata": {},
   "outputs": [
    {
     "name": "stdout",
     "output_type": "stream",
     "text": [
      "원범 원범 혜원 혜원 혜원 혜원 유진 유진\n",
      "혜원(이)가 총 4표로 반장이 되었습니다.\n"
     ]
    }
   ],
   "source": [
    "c = input().split()\n",
    "cnt = 0\n",
    "for i in range(len(c)):\n",
    "    if c.count(c[i-1]) < c.count(c[i]):\n",
    "        cnt = i\n",
    "\n",
    "print('{}(이)가 총 {}표로 반장이 되었습니다.'.format(c[cnt], c.count(c[cnt])))"
   ]
  },
  {
   "cell_type": "markdown",
   "metadata": {},
   "source": [
    "### 문제 39: 오타 수정하기\n",
    "혜원이는 평소 영타가 빠르고 정확한 것을 친구들에게 자랑하고 다녔습니다. 반 친구들이 혜원이의 타자 속도가 빠르다는 것을 모두 알게 되자 혜원이는 모두의 앞에서 타자 실력을 보여주게 됩니다. \n",
    "\n",
    "그런데 막상 보여주려니 긴장이 되서 문장의 모든 e를 q로 잘못 친 것을 발견했습니다. \n",
    "혜원이는 프로그램을 돌려 재빠르게 모든 q를 e로 바꾸는 프로그램을 작성하려고 합니다.\n",
    "\n",
    "**문장이 입력되면 모든 q를 e로 바꾸는 프로그램을 작성해 주세요.**\n",
    "\n",
    "```python\n",
    "**입출력**\n",
    "\n",
    "입력 : querty\n",
    "출력 : euerty\n",
    "\n",
    "입력 : hqllo my namq is hyqwon\n",
    "출력 : hello my name is hyewon\n",
    "```"
   ]
  },
  {
   "cell_type": "code",
   "execution_count": 122,
   "metadata": {},
   "outputs": [
    {
     "name": "stdout",
     "output_type": "stream",
     "text": [
      "hqllo my namq is hyqwon\n",
      "hello my name is hyewon\n"
     ]
    }
   ],
   "source": [
    "s = input()\n",
    "print(''.join(list(map(lambda x: x.replace('q','e'), s))))"
   ]
  },
  {
   "cell_type": "markdown",
   "metadata": {},
   "source": [
    "### 문제 40: 놀이동산에 가자\n",
    "테마파크에 온 원범이와 친구들은 놀이기구를 타려고 합니다. 모든 놀이기구는 한번에 타는 인원수에는 제한이 없지만 제한 무게를 넘으면 무조건 다음 기구를 타야 합니다. \n",
    "\n",
    "**원범이와 친구들이 총 몇 명 탈 수 있는지 알 수 있는 프로그램을 작성해 주세요.**\n",
    "\n",
    "첫번째 줄에서 제한 무게가 주어지고 두번째 줄에서는 함께한 친구들의 수 n이 주어집니다. \n",
    "그 다음 차례대로 탑승할 친구들의 몸무게가 주어집니다. 몸무게는 무작위로 주어집니다.\n",
    "\n",
    "```python\n",
    "**입력**\n",
    "\n",
    "50\n",
    "5\n",
    "20\n",
    "20\n",
    "20\n",
    "20\n",
    "20\n",
    "\n",
    "**출력**\n",
    "2\n",
    "```"
   ]
  },
  {
   "cell_type": "code",
   "execution_count": 133,
   "metadata": {},
   "outputs": [
    {
     "name": "stdout",
     "output_type": "stream",
     "text": [
      "50\n",
      "5\n",
      "20\n",
      "20\n",
      "20\n",
      "20\n",
      "20\n",
      "[20, 20] 2\n"
     ]
    }
   ],
   "source": [
    "limit = int(input())\n",
    "n = int(input())\n",
    "w = []\n",
    "for _ in range(n):\n",
    "    w.append(int(input()))\n",
    "a = []\n",
    "for i in range(len(w)):\n",
    "    if sum(a, w[i]) > limit:\n",
    "        break\n",
    "    a.append(w[i])\n",
    "print(len(a))"
   ]
  },
  {
   "cell_type": "markdown",
   "metadata": {},
   "source": [
    "### 문제 41: 소수판별\n",
    "숫자가 주어지면 **소수인지 아닌지 판별하는 프로그램**을 작성해주세요.\n",
    "소수이면 YES로, 소수가 아니면 NO로 출력해주세요.\n",
    "(소수 : 1과 자기 자신만으로 나누어떨어지는 1보다 큰 양의 정수)"
   ]
  },
  {
   "cell_type": "code",
   "execution_count": 137,
   "metadata": {},
   "outputs": [
    {
     "name": "stdout",
     "output_type": "stream",
     "text": [
      "7\n",
      "YES\n"
     ]
    }
   ],
   "source": [
    "n = int(input())\n",
    "cnt = 0\n",
    "for i in range(1, n+1):\n",
    "    if n % i == 0:\n",
    "        cnt += 1\n",
    "if cnt == 2:\n",
    "    print('YES')\n",
    "else:\n",
    "    print('NO')"
   ]
  },
  {
   "cell_type": "markdown",
   "metadata": {},
   "source": [
    "### 문제 42: 2020년 (datetime 모듈)\n",
    "2020년 1월 1일은 수요일입니다. 2020년 a월 b일은 무슨 요일일까요?\n",
    "두 수 a, b를 입력받아 2020년 a월 b일이 무슨 요일인지 리턴하는 함수, solution을 완성하세요.\n",
    "요일의 이름은 일요일부터 토요일까지 각각 SUN, MON, TUE, WED, THU, FRI, SAT 입니다.\n",
    "\n",
    "예를 들어 a = 5, b = 24라면 5월 24일은 일요일이므로 문자열 \"SUN\"를 반환하세요.\n",
    "\n",
    "**제한 조건**\n",
    "2020년은 윤년입니다.\n",
    "2020년 a월 b일은 실제로 있는 날입니다. \n",
    "(13월 26일이나 2월 45일 같은 날짜는 주어지지 않습니다.)\n",
    "datetime 모듈을 사용하세요."
   ]
  },
  {
   "cell_type": "code",
   "execution_count": 138,
   "metadata": {},
   "outputs": [
    {
     "name": "stdout",
     "output_type": "stream",
     "text": [
      "5 24\n",
      "SUN\n"
     ]
    }
   ],
   "source": [
    "import datetime\n",
    "m,d = map(int, input().split())\n",
    "print(f'{datetime.date(2020,m,d):%A}'[:3].upper())"
   ]
  },
  {
   "cell_type": "markdown",
   "metadata": {},
   "source": [
    "### 문제 43: 10진수를 2진수로\n",
    "우리가 흔히 사용하는 숫자 1, 8, 19, 28893 등등...은 10진수 체계입니다.\n",
    "이를 컴퓨터가 알아 들을 수 있는 2진수로 바꾸려고 합니다. 어떻게 해야할까요?\n",
    "\n",
    "예를들어 13은 2^3 + 2^2 + 2^0 = 13 이기때문에 1101으로 표현합니다\n",
    "\n",
    "**사용자에게 숫자를 입력받고 이를 2진수를 바꾸고 그 값을 출력해주세요.**\n",
    "(bin 함수를 사용하지 않고 풀어주세요.)"
   ]
  },
  {
   "cell_type": "code",
   "execution_count": 146,
   "metadata": {},
   "outputs": [
    {
     "name": "stdout",
     "output_type": "stream",
     "text": [
      "100\n",
      "1100100\n"
     ]
    }
   ],
   "source": [
    "n = int(input())\n",
    "a = []\n",
    "while n:\n",
    "    a.append(str(n % 2))\n",
    "    n = n // 2\n",
    "a.reverse()\n",
    "print(''.join(a))"
   ]
  },
  {
   "cell_type": "markdown",
   "metadata": {},
   "source": [
    "### 문제 44: 각 자리수의 합\n",
    "**사용자가 입력한 양의 정수의 각 자리수의 합을 구하는 프로그램**을 만들어주세요\n",
    "\n",
    "**예를들어**\n",
    "18234 = 1+8+2+3+4 이고 정답은 18 입니다.\n",
    "3849 = 3+8+4+9 이고 정답은 24입니다."
   ]
  },
  {
   "cell_type": "code",
   "execution_count": 152,
   "metadata": {},
   "outputs": [
    {
     "name": "stdout",
     "output_type": "stream",
     "text": [
      "18234\n"
     ]
    },
    {
     "data": {
      "text/plain": [
       "18"
      ]
     },
     "execution_count": 152,
     "metadata": {},
     "output_type": "execute_result"
    }
   ],
   "source": [
    "sum(list(map(int, (list(input())))))"
   ]
  },
  {
   "cell_type": "markdown",
   "metadata": {},
   "source": [
    "### 문제 45: time함수 사용하기\n",
    "python의 모듈 중 하나인 **time 모듈**은 1970년 1월 1일 0시 0분 0초 이후로부터 지금까지 흐른 시간을 초단위로 반환합니다\n",
    "\n",
    "이를 이용하여 **현재 연도(2019)를 출력해보세요**"
   ]
  },
  {
   "cell_type": "code",
   "execution_count": 158,
   "metadata": {},
   "outputs": [
    {
     "name": "stdout",
     "output_type": "stream",
     "text": [
      "2020\n"
     ]
    }
   ],
   "source": [
    "import time\n",
    "one_year = 60 * 60 * 24 * 365\n",
    "print(int(1970+time.time()//one_year))"
   ]
  },
  {
   "cell_type": "markdown",
   "metadata": {},
   "source": [
    "### 문제 46: str 자료형의 응용\n",
    "1부터 100까지의(100을 포함) 모든 숫자를 일렬로 놓고 모든 자릿수의 총 합을 구하세요. \n",
    "\n",
    "예를 들어 10부터 15까지의 모든 숫자를 일렬로 놓으면 101112131415이고 각 자리의 숫자를 더하면 25입니다."
   ]
  },
  {
   "cell_type": "code",
   "execution_count": 179,
   "metadata": {},
   "outputs": [
    {
     "data": {
      "text/plain": [
       "901"
      ]
     },
     "execution_count": 179,
     "metadata": {},
     "output_type": "execute_result"
    }
   ],
   "source": [
    "n = str(list(range(1, 101))).replace('[','').replace(', ','').replace(']','')\n",
    "s = 0\n",
    "for i in range(len(n)): s += int(n[i])\n",
    "s"
   ]
  },
  {
   "cell_type": "markdown",
   "metadata": {},
   "source": [
    "### 문제 47: set 자료형의 응용\n",
    "바울랩에서는 3월 29일 제주대학교에서 '제주 빅데이터 사회혁신 해커톤' 행사를 주최하게 되었습니다. 이에 구글 설문지를 배포하였으나 제주대학생들이 중복해서 n개씩 설문지를 제출하였습니다. **중복된 데이터들을 삭제하여 실제 접수 명단이 몇 명인지 알고 싶습니다.**\n",
    "\n",
    "아래 주어진 데이터들로부터 중복을 제거하여 실제 접수 인원을 출력해 주세요.\n",
    "\n",
    "```python\n",
    "people = [\n",
    "         ('이호준', '01050442903'),\n",
    "         ('이호상', '01051442904'),\n",
    "         ('이준호', '01050342904'),\n",
    "         ('이호준', '01050442903'),\n",
    "         ('이준', '01050412904'),\n",
    "         ('이호', '01050443904'),\n",
    "         ('이호준', '01050442903'),\n",
    "         ]\n",
    "```"
   ]
  },
  {
   "cell_type": "code",
   "execution_count": 181,
   "metadata": {},
   "outputs": [
    {
     "data": {
      "text/plain": [
       "5"
      ]
     },
     "execution_count": 181,
     "metadata": {},
     "output_type": "execute_result"
    }
   ],
   "source": [
    "people = [\n",
    "         ('이호준', '01050442903'),\n",
    "         ('이호상', '01051442904'),\n",
    "         ('이준호', '01050342904'),\n",
    "         ('이호준', '01050442903'),\n",
    "         ('이준', '01050412904'),\n",
    "         ('이호', '01050443904'),\n",
    "         ('이호준', '01050442903'),\n",
    "         ]\n",
    "\n",
    "len(set(people))"
   ]
  },
  {
   "cell_type": "markdown",
   "metadata": {},
   "source": [
    "### 문제 48: 대소문자 바꿔서 출력하기\n",
    "문자열이 주어지면 대문자와 소문자를 바꿔서 출력하는 프로그램을 작성하세요.\n",
    "\n",
    "입력\n",
    "\n",
    "```\n",
    "AAABBBcccddd\n",
    "```\n",
    "\n",
    "출력\n",
    "\n",
    "```\n",
    "aaabbbCCCDDD\n",
    "```"
   ]
  },
  {
   "cell_type": "code",
   "execution_count": 187,
   "metadata": {},
   "outputs": [
    {
     "name": "stdout",
     "output_type": "stream",
     "text": [
      "AAABBBcccddd\n",
      "aaabbbCCCDDD\n"
     ]
    }
   ],
   "source": [
    "s = input()\n",
    "ans = ''\n",
    "for i in s:\n",
    "    if i.isupper(): ans += i.lower()\n",
    "    elif i.islower(): ans += i.upper()\n",
    "print(ans)"
   ]
  },
  {
   "cell_type": "markdown",
   "metadata": {},
   "source": [
    "### 문제 49: 최댓값 구하기\n",
    "순서가 없는 10개의 숫자가 공백으로 구분되어 주어진다. 주어진 숫자들 중 최댓값을 반환하라.\n",
    "\n",
    "입력\n",
    "\n",
    "```\n",
    "10 9 8 7 6 5 4 3 2 1\n",
    "```\n",
    "\n",
    "출력\n",
    "\n",
    "```\n",
    "10\n",
    "```"
   ]
  },
  {
   "cell_type": "code",
   "execution_count": 188,
   "metadata": {},
   "outputs": [
    {
     "name": "stdout",
     "output_type": "stream",
     "text": [
      "10 9 8 7 5\n"
     ]
    },
    {
     "data": {
      "text/plain": [
       "10"
      ]
     },
     "execution_count": 188,
     "metadata": {},
     "output_type": "execute_result"
    }
   ],
   "source": [
    "s = list(map(int, input().split()))\n",
    "max(s)"
   ]
  },
  {
   "cell_type": "markdown",
   "metadata": {},
   "source": [
    "### 문제 50: 버블정렬 구현\n",
    "아래 코드의 빈 칸을 채워 버블 정렬을 완성해 봅시다.\n",
    "\n",
    "```python\n",
    "def bubble(n, data):\n",
    "\tfor i in range(n-1):\n",
    "\t\tfor j in range(빈칸을 채워주세요):\n",
    "\t\t\tif data[j] > data[j+1]:\n",
    "\t\t\t\t빈칸을 채워주세요\n",
    "\tfor i in range(n):\n",
    "\t\tprint(data[i], end = \" \")\n",
    "\n",
    "n = int(input())\n",
    "data = list(map(int, input().split()))\n",
    "\n",
    "bubble(n, data)\n",
    "```"
   ]
  },
  {
   "cell_type": "code",
   "execution_count": 192,
   "metadata": {},
   "outputs": [
    {
     "name": "stdout",
     "output_type": "stream",
     "text": [
      "5\n",
      "1 4 2 5 3\n",
      "1 2 3 4 5 "
     ]
    }
   ],
   "source": [
    "def bubble(n, data):\n",
    "    for i in range(n-1):\n",
    "        for j in range(n-i-1):\n",
    "            if data[j] > data[j+1]:\n",
    "                data[j], data[j+1] = data[j+1], data[j]\n",
    "    for i in range(n):\n",
    "        print(data[i], end = \" \")\n",
    "\n",
    "n = int(input())\n",
    "data = list(map(int, input().split()))\n",
    "\n",
    "bubble(n, data)"
   ]
  },
  {
   "cell_type": "code",
   "execution_count": null,
   "metadata": {},
   "outputs": [],
   "source": []
  }
 ],
 "metadata": {
  "hide_input": false,
  "kernelspec": {
   "display_name": "Python 3",
   "language": "python",
   "name": "python3"
  },
  "language_info": {
   "codemirror_mode": {
    "name": "ipython",
    "version": 3
   },
   "file_extension": ".py",
   "mimetype": "text/x-python",
   "name": "python",
   "nbconvert_exporter": "python",
   "pygments_lexer": "ipython3",
   "version": "3.7.6"
  }
 },
 "nbformat": 4,
 "nbformat_minor": 4
}
