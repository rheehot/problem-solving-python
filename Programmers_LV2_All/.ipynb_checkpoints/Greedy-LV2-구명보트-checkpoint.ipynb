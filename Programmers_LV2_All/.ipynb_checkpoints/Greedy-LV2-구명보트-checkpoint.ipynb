{
 "cells": [
  {
   "cell_type": "code",
   "execution_count": 40,
   "metadata": {},
   "outputs": [],
   "source": [
    "import heapq as hq\n",
    "def solution(people, limit):\n",
    "    l=[]\n",
    "    for i in people: hq.heappush(l, i)\n",
    "    boat=[]\n",
    "    while l:\n",
    "        k=hq.heappop(l)\n",
    "        p=-1; w=0\n",
    "        for idx,i in enumerate(l):\n",
    "            if k+i>limit: break\n",
    "            p, w=idx, i\n",
    "        if p>=0:\n",
    "            boat.append([k, w])\n",
    "            del l[p]\n",
    "        else:\n",
    "            boat.append([k])\n",
    "    print(boat)\n",
    "    return len(boat)"
   ]
  },
  {
   "cell_type": "code",
   "execution_count": 44,
   "metadata": {},
   "outputs": [
    {
     "name": "stdout",
     "output_type": "stream",
     "text": [
      "[[50, 50], [70], [80]]\n",
      "3\n",
      "[[20, 80], [50, 50]]\n",
      "2\n",
      "[[1, 2], [1, 1], [1, 1], [1, 2], [1, 2], [2], [3], [3], [3]]\n",
      "9\n",
      "[[10, 90], [20, 70], [30, 60], [40, 50], [80]]\n",
      "5\n"
     ]
    }
   ],
   "source": [
    "print(solution([70,50,80,50],100))\n",
    "print(solution([20,50,50,80],100))\n",
    "print(solution([1,1,1,1,2,2,2,2,3,3,1,1,1,3],3))\n",
    "print(solution([10,20,30,40,50,60,70,80,90],100))"
   ]
  },
  {
   "cell_type": "markdown",
   "metadata": {},
   "source": [
    "-> 효율성 틀림"
   ]
  },
  {
   "cell_type": "code",
   "execution_count": null,
   "metadata": {},
   "outputs": [],
   "source": [
    "def solution(people, limit):\n",
    "    answer = len(people)\n",
    "    p = sorted(people,reverse = True)\n",
    "    s,e = 0, len(p)-1\n",
    "    while s < e : \n",
    "        if p[s]+p[e] <= limit :\n",
    "            e-=1\n",
    "            answer-=1\n",
    "        s+=1\n",
    "    return answer"
   ]
  }
 ],
 "metadata": {
  "hide_input": false,
  "kernelspec": {
   "display_name": "Python 3",
   "language": "python",
   "name": "python3"
  },
  "language_info": {
   "codemirror_mode": {
    "name": "ipython",
    "version": 3
   },
   "file_extension": ".py",
   "mimetype": "text/x-python",
   "name": "python",
   "nbconvert_exporter": "python",
   "pygments_lexer": "ipython3",
   "version": "3.7.6"
  }
 },
 "nbformat": 4,
 "nbformat_minor": 4
}
