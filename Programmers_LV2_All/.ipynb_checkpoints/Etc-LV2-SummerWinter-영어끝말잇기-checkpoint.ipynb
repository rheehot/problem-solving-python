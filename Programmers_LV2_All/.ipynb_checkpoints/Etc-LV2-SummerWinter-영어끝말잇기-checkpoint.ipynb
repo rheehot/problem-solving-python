{
 "cells": [
  {
   "cell_type": "code",
   "execution_count": 28,
   "metadata": {},
   "outputs": [],
   "source": [
    "def solution(n, words):\n",
    "    u=[]\n",
    "    for i, w in enumerate(words):\n",
    "        if i>0 and (u[-1][-1] != w[0] or w in u):\n",
    "            return [i%n if i%n!=0 else n,int(i/n)]\n",
    "        u.append(w)\n",
    "    return [0,0]"
   ]
  },
  {
   "cell_type": "code",
   "execution_count": 29,
   "metadata": {},
   "outputs": [
    {
     "name": "stdout",
     "output_type": "stream",
     "text": [
      "8 ['tank', 'kick', 'know', 'wheel', 'land', 'dream', 'mother', 'robot'] tank t t\n",
      "[3, 3]\n"
     ]
    }
   ],
   "source": [
    "print(solution(3, ['tank', 'kick', 'know', 'wheel', 'land', 'dream', 'mother', 'robot', 'tank']))"
   ]
  }
 ],
 "metadata": {
  "hide_input": false,
  "kernelspec": {
   "display_name": "Python 3",
   "language": "python",
   "name": "python3"
  },
  "language_info": {
   "codemirror_mode": {
    "name": "ipython",
    "version": 3
   },
   "file_extension": ".py",
   "mimetype": "text/x-python",
   "name": "python",
   "nbconvert_exporter": "python",
   "pygments_lexer": "ipython3",
   "version": "3.7.6"
  }
 },
 "nbformat": 4,
 "nbformat_minor": 4
}
