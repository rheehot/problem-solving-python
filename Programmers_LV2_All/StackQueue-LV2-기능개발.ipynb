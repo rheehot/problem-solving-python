{
 "cells": [
  {
   "cell_type": "code",
   "execution_count": 16,
   "metadata": {},
   "outputs": [],
   "source": [
    "import math as m\n",
    "def solution(progresses, speeds):\n",
    "    deploy = [m.ceil((100-p)/s) for p,s in zip(progresses, speeds)]\n",
    "    a = []\n",
    "    cnt = 1\n",
    "    q = deploy.pop(0)\n",
    "    while(deploy):\n",
    "        if len(deploy)>0 and q>=deploy[0]:\n",
    "            deploy.pop(0)\n",
    "            cnt += 1\n",
    "            continue\n",
    "        else:\n",
    "            q = deploy.pop(0)\n",
    "            a.append(cnt)\n",
    "            cnt = 1\n",
    "    a.append(cnt)\n",
    "    return a"
   ]
  },
  {
   "cell_type": "code",
   "execution_count": 17,
   "metadata": {},
   "outputs": [
    {
     "name": "stdout",
     "output_type": "stream",
     "text": [
      "[2, 1]\n"
     ]
    }
   ],
   "source": [
    "print(solution([93,30,55],[1,30,5]))"
   ]
  }
 ],
 "metadata": {
  "hide_input": false,
  "kernelspec": {
   "display_name": "Python 3",
   "language": "python",
   "name": "python3"
  },
  "language_info": {
   "codemirror_mode": {
    "name": "ipython",
    "version": 3
   },
   "file_extension": ".py",
   "mimetype": "text/x-python",
   "name": "python",
   "nbconvert_exporter": "python",
   "pygments_lexer": "ipython3",
   "version": "3.7.6"
  }
 },
 "nbformat": 4,
 "nbformat_minor": 4
}
