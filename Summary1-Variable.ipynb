{
 "cells": [
  {
   "cell_type": "code",
   "execution_count": 17,
   "metadata": {},
   "outputs": [
    {
     "name": "stdout",
     "output_type": "stream",
     "text": [
      "<class 'str'>\n",
      "CEO Zini\n",
      "eH iniZ OE\n",
      "COZn \n",
      "COZn el ol\n",
      "dlroW olleH iniZ OEC\n",
      "d\n"
     ]
    }
   ],
   "source": [
    "s = 'CEO Zini Hello World'\n",
    "print(type(s))\n",
    "print(s[0:8])\n",
    "print(s[10:0:-1])\n",
    "print(s[:10:2])\n",
    "print(s[::2])\n",
    "print(s[::-1]) #처음부터 끝까지 역순출력\n",
    "print(s[-1]) #마지막 볼 때"
   ]
  },
  {
   "cell_type": "code",
   "execution_count": 24,
   "metadata": {},
   "outputs": [
    {
     "name": "stdout",
     "output_type": "stream",
     "text": [
      "<class 'str'>\n",
      "['__add__', '__class__', '__contains__', '__delattr__', '__dir__', '__doc__', '__eq__', '__format__', '__ge__', '__getattribute__', '__getitem__', '__getnewargs__', '__gt__', '__hash__', '__init__', '__init_subclass__', '__iter__', '__le__', '__len__', '__lt__', '__mod__', '__mul__', '__ne__', '__new__', '__reduce__', '__reduce_ex__', '__repr__', '__rmod__', '__rmul__', '__setattr__', '__sizeof__', '__str__', '__subclasshook__', 'capitalize', 'casefold', 'center', 'count', 'encode', 'endswith', 'expandtabs', 'find', 'format', 'format_map', 'index', 'isalnum', 'isalpha', 'isascii', 'isdecimal', 'isdigit', 'isidentifier', 'islower', 'isnumeric', 'isprintable', 'isspace', 'istitle', 'isupper', 'join', 'ljust', 'lower', 'lstrip', 'maketrans', 'partition', 'replace', 'rfind', 'rindex', 'rjust', 'rpartition', 'rsplit', 'rstrip', 'split', 'splitlines', 'startswith', 'strip', 'swapcase', 'title', 'translate', 'upper', 'zfill']\n",
      "CEO ZINI HELLO WORLD\n",
      "ceo zini hello world\n",
      "3\n",
      "hello world\n",
      "['CEO', 'Zini', 'Hello', 'World']\n",
      "CEO!Zini!Hello!World\n"
     ]
    }
   ],
   "source": [
    "s = 'CEO Zini Hello World'\n",
    "print(type(s))\n",
    "print(dir(s))\n",
    "print(s.upper())\n",
    "print(s.lower())\n",
    "print(s.count('l'))\n",
    "\n",
    "ss = '           hello world          '\n",
    "print(ss.strip()) #앞 뒤 공백 자르기\n",
    "\n",
    "a = s.split()\n",
    "print(a)\n",
    "print('!'.join(a))"
   ]
  },
  {
   "cell_type": "code",
   "execution_count": 28,
   "metadata": {},
   "outputs": [
    {
     "name": "stdout",
     "output_type": "stream",
     "text": [
      "2019 9 24 2019 9 24\n",
      "2019/9/24 2019 9 24\n"
     ]
    }
   ],
   "source": [
    "a = 2019\n",
    "b = 9\n",
    "c = 24\n",
    "# 2019/9/24\n",
    "print(a, b, c, end=' ') # end: 마지막에 엔터를 안넣고 end로 변경 가능\n",
    "print(a, b, c)\n",
    "\n",
    "print(a, b, c, end=' ', sep='/') # sep: 구분자 지정\n",
    "print(a, b, c)"
   ]
  },
  {
   "cell_type": "code",
   "execution_count": 29,
   "metadata": {},
   "outputs": [
    {
     "name": "stdout",
     "output_type": "stream",
     "text": [
      "<class 'bool'>\n"
     ]
    }
   ],
   "source": [
    "a = True\n",
    "b = False\n",
    "print(type(a))"
   ]
  },
  {
   "cell_type": "code",
   "execution_count": 32,
   "metadata": {},
   "outputs": [
    {
     "name": "stdout",
     "output_type": "stream",
     "text": [
      "True\n",
      "False\n",
      "False\n",
      "True\n",
      "True\n",
      "False\n"
     ]
    }
   ],
   "source": [
    "print(bool(' '))\n",
    "print(bool(''))\n",
    "print(bool(0)) #0 빼고 모두 true\n",
    "print(bool(1))\n",
    "print(bool(-1))\n",
    "print(bool(None))"
   ]
  },
  {
   "cell_type": "code",
   "execution_count": 37,
   "metadata": {},
   "outputs": [
    {
     "name": "stdout",
     "output_type": "stream",
     "text": [
      "8\n",
      "101000\n",
      "001110\n",
      "001000\n"
     ]
    }
   ],
   "source": [
    "#비트 연산\n",
    "\n",
    "a = 40\n",
    "b = 14\n",
    "print(a & b)\n",
    "\n",
    "print(bin(a)[2:].zfill(6)) #zfill: ~글자로 채움\n",
    "print(bin(b)[2:].zfill(6))\n",
    "print(bin(a&b)[2:].zfill(6)) # & 연산 후"
   ]
  },
  {
   "cell_type": "code",
   "execution_count": 39,
   "metadata": {},
   "outputs": [
    {
     "name": "stdout",
     "output_type": "stream",
     "text": [
      "20\n"
     ]
    }
   ],
   "source": [
    "a = 10\n",
    "def aplus():\n",
    "    global a #원칙적으로 함수에서 밖의 변수 건드릴수 었음 (global 사용은 신중해야함)\n",
    "    a += 10\n",
    "    return a\n",
    "print(aplus())"
   ]
  },
  {
   "cell_type": "code",
   "execution_count": null,
   "metadata": {},
   "outputs": [],
   "source": []
  }
 ],
 "metadata": {
  "hide_input": false,
  "kernelspec": {
   "display_name": "Python 3",
   "language": "python",
   "name": "python3"
  },
  "language_info": {
   "codemirror_mode": {
    "name": "ipython",
    "version": 3
   },
   "file_extension": ".py",
   "mimetype": "text/x-python",
   "name": "python",
   "nbconvert_exporter": "python",
   "pygments_lexer": "ipython3",
   "version": "3.7.6"
  }
 },
 "nbformat": 4,
 "nbformat_minor": 4
}
