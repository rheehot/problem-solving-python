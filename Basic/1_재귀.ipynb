{
 "cells": [
  {
   "cell_type": "markdown",
   "metadata": {},
   "source": [
    "## 재귀함수\n",
    "- 내가 나를 호출하는 방법\n",
    "- 반복문 <-> 재귀함수"
   ]
  },
  {
   "cell_type": "markdown",
   "metadata": {},
   "source": [
    "### 1부터 100까지 합"
   ]
  },
  {
   "cell_type": "code",
   "execution_count": 10,
   "metadata": {},
   "outputs": [
    {
     "name": "stdout",
     "output_type": "stream",
     "text": [
      "500000500000\n",
      "Wall time: 273 ms\n"
     ]
    }
   ],
   "source": [
    "%%time\n",
    "#시그마 공식 : n(n+1)/2\n",
    "\n",
    "x = 0\n",
    "for i in range(1, 1000001):\n",
    "    x += i\n",
    "print(x)"
   ]
  },
  {
   "cell_type": "code",
   "execution_count": 11,
   "metadata": {},
   "outputs": [
    {
     "name": "stdout",
     "output_type": "stream",
     "text": [
      "500001500001.0\n",
      "Wall time: 0 ns\n"
     ]
    }
   ],
   "source": [
    "%%time\n",
    "\n",
    "#시그마 공식 : n(n+1)/2\n",
    "\n",
    "x = 1000001*(1000002)/2\n",
    "print(x)"
   ]
  },
  {
   "cell_type": "code",
   "execution_count": 14,
   "metadata": {},
   "outputs": [
    {
     "name": "stdout",
     "output_type": "stream",
     "text": [
      "5050\n"
     ]
    }
   ],
   "source": [
    "def f(n):\n",
    "    if n <= 1:\n",
    "        return 1\n",
    "    else:\n",
    "        return n + f(n-1)\n",
    "\n",
    "n = 100\n",
    "print(f(n))"
   ]
  },
  {
   "cell_type": "code",
   "execution_count": 15,
   "metadata": {},
   "outputs": [
    {
     "name": "stdout",
     "output_type": "stream",
     "text": [
      "120\n"
     ]
    }
   ],
   "source": [
    "def f(n):\n",
    "    if n <= 1:\n",
    "        return 1\n",
    "    else:\n",
    "        return n * f(n-1)\n",
    "\n",
    "n = 5\n",
    "print(f(n))"
   ]
  },
  {
   "cell_type": "code",
   "execution_count": 17,
   "metadata": {},
   "outputs": [
    {
     "name": "stdout",
     "output_type": "stream",
     "text": [
      "55\n"
     ]
    }
   ],
   "source": [
    "x = 0\n",
    "for i in range(11):\n",
    "    x += i\n",
    "print(x)"
   ]
  },
  {
   "cell_type": "code",
   "execution_count": 21,
   "metadata": {},
   "outputs": [
    {
     "name": "stdout",
     "output_type": "stream",
     "text": [
      "55\n"
     ]
    }
   ],
   "source": [
    "def f(n):\n",
    "    if n<=1:\n",
    "        return 1\n",
    "    else:\n",
    "        return n + f(n-1)\n",
    "print(f(10))"
   ]
  },
  {
   "cell_type": "markdown",
   "metadata": {},
   "source": [
    "## 문제 접근 방법\n",
    "\n",
    "1. 반복문의 경우는 Bottom-up (작은 문제에서 출발)\n",
    "2. 재귀의 경우는 Top-down(큰 문제에서 출발)\n",
    "\n",
    "재귀의 경우에는 꼭 종료 조건이 있어야 함"
   ]
  },
  {
   "cell_type": "code",
   "execution_count": 22,
   "metadata": {},
   "outputs": [
    {
     "name": "stdout",
     "output_type": "stream",
     "text": [
      "##11\n",
      "##we\n",
      "##wefa\n",
      "##hi\n",
      "hello world\n",
      "##exit\n"
     ]
    }
   ],
   "source": [
    "def console():\n",
    "    if (input('##') == 'exit'):\n",
    "        return None\n",
    "    if (input('##') == 'hi'):\n",
    "        print('hello world')\n",
    "    console()\n",
    "console()"
   ]
  },
  {
   "cell_type": "code",
   "execution_count": 28,
   "metadata": {},
   "outputs": [
    {
     "name": "stdout",
     "output_type": "stream",
     "text": [
      "2진수로 바꿀 숫자를 입력하세요: 1024\n",
      "10000000000\n"
     ]
    }
   ],
   "source": [
    "# 2진수 구하기 - 반복문\n",
    "\n",
    "#print(bin(11)[2:])\n",
    "#print(oct(11))\n",
    "#print(hex(11))\n",
    "\n",
    "x = int(input('2진수로 바꿀 숫자를 입력하세요: '))\n",
    "result = '' # slicing 하기위해 string으로\n",
    "\n",
    "while True:\n",
    "    if x % 2 == 0:\n",
    "        result += '0'\n",
    "    else:\n",
    "        result += '1'\n",
    "    x = x // 2\n",
    "    if x == 1:\n",
    "        result += str(x)\n",
    "        print(result[::-1]) #역순 출력\n",
    "        break"
   ]
  },
  {
   "cell_type": "code",
   "execution_count": 30,
   "metadata": {},
   "outputs": [
    {
     "data": {
      "text/plain": [
       "'1011'"
      ]
     },
     "execution_count": 30,
     "metadata": {},
     "output_type": "execute_result"
    }
   ],
   "source": [
    "def 이진수구하기(입력값):\n",
    "    if 입력값 < 2:\n",
    "        return str(입력값)\n",
    "    else:\n",
    "        return str(이진수구하기(입력값//2)) + str(입력값%2)\n",
    "\n",
    "이진수구하기(11)"
   ]
  },
  {
   "cell_type": "code",
   "execution_count": 62,
   "metadata": {},
   "outputs": [
    {
     "name": "stdout",
     "output_type": "stream",
     "text": [
      "nijnoejoeh"
     ]
    }
   ],
   "source": [
    "def 문자열뒤집기(문자열):\n",
    "    if 문자열 == '':\n",
    "        return None\n",
    "    else:\n",
    "        문자열뒤집기(문자열[1:])\n",
    "        print(문자열[0],end='')\n",
    "\n",
    "문자열뒤집기('heojeonjin')"
   ]
  },
  {
   "cell_type": "code",
   "execution_count": 35,
   "metadata": {},
   "outputs": [
    {
     "name": "stdout",
     "output_type": "stream",
     "text": [
      "nijnoejoeh\n"
     ]
    }
   ],
   "source": [
    "result = ''\n",
    "for i in 'heojeonjin':\n",
    "    result = i + result\n",
    "print(result)"
   ]
  },
  {
   "cell_type": "code",
   "execution_count": 36,
   "metadata": {},
   "outputs": [
    {
     "name": "stdout",
     "output_type": "stream",
     "text": [
      "8\n"
     ]
    }
   ],
   "source": [
    "x=0\n",
    "for i in '2231':\n",
    "    x += int(i)\n",
    "print(x)"
   ]
  },
  {
   "cell_type": "code",
   "execution_count": 42,
   "metadata": {},
   "outputs": [
    {
     "data": {
      "text/plain": [
       "8"
      ]
     },
     "execution_count": 42,
     "metadata": {},
     "output_type": "execute_result"
    }
   ],
   "source": [
    "def sum_of_numstr(n):\n",
    "    if n == '':\n",
    "        return 0\n",
    "    else:\n",
    "        return int(n[0]) + int(sum_of_numstr(n[1:]))\n",
    "    \n",
    "sum_of_numstr('2231')"
   ]
  },
  {
   "cell_type": "code",
   "execution_count": null,
   "metadata": {},
   "outputs": [],
   "source": []
  }
 ],
 "metadata": {
  "hide_input": false,
  "kernelspec": {
   "display_name": "Python 3",
   "language": "python",
   "name": "python3"
  },
  "language_info": {
   "codemirror_mode": {
    "name": "ipython",
    "version": 3
   },
   "file_extension": ".py",
   "mimetype": "text/x-python",
   "name": "python",
   "nbconvert_exporter": "python",
   "pygments_lexer": "ipython3",
   "version": "3.7.6"
  }
 },
 "nbformat": 4,
 "nbformat_minor": 4
}
