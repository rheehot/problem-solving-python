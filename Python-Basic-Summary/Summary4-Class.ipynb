{
 "cells": [
  {
   "cell_type": "code",
   "execution_count": 1,
   "metadata": {},
   "outputs": [
    {
     "name": "stdout",
     "output_type": "stream",
     "text": [
      "5\n"
     ]
    }
   ],
   "source": [
    "class Car():\n",
    "    maxSpeed = 300\n",
    "    maxPeople = 5\n",
    "    def start(self):\n",
    "        print('출발')\n",
    "    def stop(self):\n",
    "        print('정지')\n",
    "\n",
    "k9 = Car()\n",
    "print(k9.maxPeople)"
   ]
  },
  {
   "cell_type": "markdown",
   "metadata": {},
   "source": [
    "## Class\n",
    "1. class name 첫 문자가 대문자\n",
    "2. class는 대부분 직접 만지지 않음 (class = 찍는 틀)\n",
    "3. class = 붕어빵 틀, instance = 붕어빵"
   ]
  },
  {
   "cell_type": "code",
   "execution_count": 6,
   "metadata": {},
   "outputs": [
    {
     "name": "stdout",
     "output_type": "stream",
     "text": [
      "인스턴스가 만들어졌습니다!\n",
      "5\n",
      "Hello World\n",
      "인스턴스가 만들어졌습니다!\n",
      "1000\n"
     ]
    }
   ],
   "source": [
    "class Car():\n",
    "    maxSpeed = 300\n",
    "    maxPeople = 5\n",
    "    def start(self):\n",
    "        print('출발')\n",
    "    def stop(self):\n",
    "        print('정지')\n",
    "    def __str__(self): # Magic method\n",
    "        return 'Hello World'\n",
    "    def __init__(self): #인스턴스 생성될때마다 호출\n",
    "        print('인스턴스가 만들어졌습니다!')\n",
    "        \n",
    "class Hybrid(Car): # 상속\n",
    "    battery = 1000\n",
    "    batteryKM = 300\n",
    "\n",
    "k9 = Car()\n",
    "print(k9.maxPeople)\n",
    "print(k9) # __str__ 호출\n",
    "\n",
    "k3 = Hybrid()\n",
    "print(k3.battery)"
   ]
  },
  {
   "cell_type": "code",
   "execution_count": null,
   "metadata": {},
   "outputs": [],
   "source": []
  }
 ],
 "metadata": {
  "hide_input": false,
  "kernelspec": {
   "display_name": "Python 3",
   "language": "python",
   "name": "python3"
  },
  "language_info": {
   "codemirror_mode": {
    "name": "ipython",
    "version": 3
   },
   "file_extension": ".py",
   "mimetype": "text/x-python",
   "name": "python",
   "nbconvert_exporter": "python",
   "pygments_lexer": "ipython3",
   "version": "3.7.6"
  }
 },
 "nbformat": 4,
 "nbformat_minor": 4
}
