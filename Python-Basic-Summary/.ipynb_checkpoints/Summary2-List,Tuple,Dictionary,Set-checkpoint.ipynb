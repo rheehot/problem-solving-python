{
 "cells": [
  {
   "cell_type": "code",
   "execution_count": 3,
   "metadata": {},
   "outputs": [
    {
     "name": "stdout",
     "output_type": "stream",
     "text": [
      "[100, 200, 300, 400]\n",
      "<class 'list'>\n",
      "200\n",
      "[100, 1000, 300, 400]\n"
     ]
    }
   ],
   "source": [
    "#리스트\n",
    "\n",
    "l = [100, 200, 300, 400]\n",
    "print(l)\n",
    "print(type(l))\n",
    "\n",
    "# 변경이 가능한 자료형\n",
    "# 순서가 있는 자료형\n",
    "\n",
    "print(l[1])\n",
    "l[1] = 1000\n",
    "print(l)"
   ]
  },
  {
   "cell_type": "code",
   "execution_count": 4,
   "metadata": {},
   "outputs": [
    {
     "name": "stdout",
     "output_type": "stream",
     "text": [
      "['__add__', '__class__', '__contains__', '__delattr__', '__delitem__', '__dir__', '__doc__', '__eq__', '__format__', '__ge__', '__getattribute__', '__getitem__', '__gt__', '__hash__', '__iadd__', '__imul__', '__init__', '__init_subclass__', '__iter__', '__le__', '__len__', '__lt__', '__mul__', '__ne__', '__new__', '__reduce__', '__reduce_ex__', '__repr__', '__reversed__', '__rmul__', '__setattr__', '__setitem__', '__sizeof__', '__str__', '__subclasshook__', 'append', 'clear', 'copy', 'count', 'extend', 'index', 'insert', 'pop', 'remove', 'reverse', 'sort']\n"
     ]
    }
   ],
   "source": [
    "print(dir(l))"
   ]
  },
  {
   "cell_type": "code",
   "execution_count": 18,
   "metadata": {},
   "outputs": [
    {
     "name": "stdout",
     "output_type": "stream",
     "text": [
      "[100, 200, 300, 400, 300]\n",
      "2\n",
      "[100, 200, 300, 400, 300, 100, 200, 300]\n",
      "3\n",
      "[100, 200, 300, 1000, 400, 300, 100, 200, 300]\n",
      "[100, 200, 300, 1000, 400, 300, 100, 200]\n",
      "[200, 300, 1000, 400, 300, 100, 200]\n",
      "[200, 100, 300, 400, 1000, 300, 200]\n",
      "[100, 200, 200, 300, 300, 400, 1000]\n"
     ]
    }
   ],
   "source": [
    "l = [100, 200, 300, 400]\n",
    "\n",
    "l.append(300) # 맨 뒤에 값을 넣음\n",
    "print(l)\n",
    "print(l.count(300)) # 300의 개수\n",
    "l.extend([100, 200, 300]) #리스트를 확장\n",
    "print(l)\n",
    "print(l.index(400)) #~의 위치(인덱스)\n",
    "l.insert(3, 1000) #3번째에 1000을 삽입\n",
    "print(l)\n",
    "l.pop() #마지막 삭제\n",
    "print(l)\n",
    "l.remove(100) #해당 값 삭제\n",
    "print(l)\n",
    "l.reverse()\n",
    "print(l)\n",
    "l.sort()\n",
    "print(l)\n",
    "#sorted, reversed: 리턴값만 다룸 (원본 안바뀜)"
   ]
  },
  {
   "cell_type": "code",
   "execution_count": 20,
   "metadata": {},
   "outputs": [
    {
     "name": "stdout",
     "output_type": "stream",
     "text": [
      "(100, 200, 300)\n",
      "<class 'tuple'>\n",
      "['__add__', '__class__', '__contains__', '__delattr__', '__dir__', '__doc__', '__eq__', '__format__', '__ge__', '__getattribute__', '__getitem__', '__getnewargs__', '__gt__', '__hash__', '__init__', '__init_subclass__', '__iter__', '__le__', '__len__', '__lt__', '__mul__', '__ne__', '__new__', '__reduce__', '__reduce_ex__', '__repr__', '__rmul__', '__setattr__', '__sizeof__', '__str__', '__subclasshook__', 'count', 'index']\n",
      "([10000, 20], 200, 300)\n"
     ]
    }
   ],
   "source": [
    "#튜플\n",
    "\n",
    "t = (100, 200, 300)\n",
    "print(t)\n",
    "print(type(t))\n",
    "print(dir(t))\n",
    "\n",
    "# 순서가 있고\n",
    "# 변경이 불가능한 자료형\n",
    "\n",
    "l = [10, 20]\n",
    "t = (l, 200, 300)\n",
    "l[0] = 10000 #참조 값은 바꿀 수 있음\n",
    "print(t)"
   ]
  },
  {
   "cell_type": "code",
   "execution_count": 26,
   "metadata": {},
   "outputs": [
    {
     "name": "stdout",
     "output_type": "stream",
     "text": [
      "{200, 100, 300}\n",
      "<class 'set'>\n",
      "['__and__', '__class__', '__contains__', '__delattr__', '__dir__', '__doc__', '__eq__', '__format__', '__ge__', '__getattribute__', '__gt__', '__hash__', '__iand__', '__init__', '__init_subclass__', '__ior__', '__isub__', '__iter__', '__ixor__', '__le__', '__len__', '__lt__', '__ne__', '__new__', '__or__', '__rand__', '__reduce__', '__reduce_ex__', '__repr__', '__ror__', '__rsub__', '__rxor__', '__setattr__', '__sizeof__', '__str__', '__sub__', '__subclasshook__', '__xor__', 'add', 'clear', 'copy', 'difference', 'difference_update', 'discard', 'intersection', 'intersection_update', 'isdisjoint', 'issubset', 'issuperset', 'pop', 'remove', 'symmetric_difference', 'symmetric_difference_update', 'union', 'update']\n",
      "{200, 100, 500, 300}\n",
      "{'f', 'e', 'b', 'c', 'a', 'd', 'g'}\n",
      "{1, 2, 3, 100, 500, 200, 300}\n"
     ]
    }
   ],
   "source": [
    "#셋\n",
    "\n",
    "s = {100, 200, 300, 300, 300}\n",
    "print(s)\n",
    "print(type(s))\n",
    "print(dir(s))\n",
    "\n",
    "#순서가 없고\n",
    "#값의 중복을 허락하지 않음 (중복 제거 용도로 많이 씀)\n",
    "\n",
    "s.add(500)\n",
    "print(s)\n",
    "print(set('aaabbbcccddefgggg'))\n",
    "\n",
    "ss = {1, 2, 3}\n",
    "print(s.union(ss)) #합집합"
   ]
  },
  {
   "cell_type": "code",
   "execution_count": 33,
   "metadata": {},
   "outputs": [
    {
     "name": "stdout",
     "output_type": "stream",
     "text": [
      "10\n",
      "dict_values([10, 20])\n",
      "dict_keys(['one', 'two'])\n",
      "dict_items([('one', 10), ('two', 20)])\n",
      "10\n"
     ]
    }
   ],
   "source": [
    "#딕셔너리\n",
    "#d = {key:value}\n",
    "\n",
    "d = {'one':10, 'two':20}\n",
    "\n",
    "#순서가 없고\n",
    "#키의 중복 허락하지 않음\n",
    "\n",
    "print(d['one']) #key를 받아 value를 출력\n",
    "print(d.values())\n",
    "print(d.keys())\n",
    "print(d.items())\n",
    "\n",
    "l = list(d.items())\n",
    "print(l[0][1])"
   ]
  },
  {
   "cell_type": "code",
   "execution_count": null,
   "metadata": {},
   "outputs": [],
   "source": []
  }
 ],
 "metadata": {
  "hide_input": false,
  "kernelspec": {
   "display_name": "Python 3",
   "language": "python",
   "name": "python3"
  },
  "language_info": {
   "codemirror_mode": {
    "name": "ipython",
    "version": 3
   },
   "file_extension": ".py",
   "mimetype": "text/x-python",
   "name": "python",
   "nbconvert_exporter": "python",
   "pygments_lexer": "ipython3",
   "version": "3.7.6"
  }
 },
 "nbformat": 4,
 "nbformat_minor": 4
}
