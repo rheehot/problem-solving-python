{
 "cells": [
  {
   "cell_type": "markdown",
   "metadata": {},
   "source": [
    "1018-체스판다시칠하기"
   ]
  },
  {
   "cell_type": "code",
   "execution_count": 5,
   "metadata": {},
   "outputs": [
    {
     "name": "stdout",
     "output_type": "stream",
     "text": [
      "10 13\n",
      "BBBBBBBBWBWBW BBBBBBBBBWBWB BBBBBBBBWBWBW BBBBBBBBBWBWB BBBBBBBBWBWBW BBBBBBBBBWBWB BBBBBBBBWBWBW BBBBBBBBBWBWB WWWWWWWWWWBWB WWWWWWWWWWBWB\n",
      "12\n"
     ]
    }
   ],
   "source": [
    "h,w=map(int,input().split())\n",
    "l=[input() for i in range(h)]\n",
    "m=h*w\n",
    "for i in range(0,h-7):\n",
    "    for j in range(0,w-7):\n",
    "        c=0\n",
    "        for a in range(i, i+8):\n",
    "            for b in range(j, j+8):\n",
    "                if a%2==0 and b%2==0 and l[a][b]=='W': c+=1\n",
    "                if a%2==0 and b%2==1 and l[a][b]=='B': c+=1\n",
    "                if a%2==1 and b%2==0 and l[a][b]=='B': c+=1\n",
    "                if a%2==1 and b%2==1 and l[a][b]=='W': c+=1\n",
    "        if min(c, 64-c) < m: m=min(c, 64-c)\n",
    "print(m)"
   ]
  },
  {
   "cell_type": "markdown",
   "metadata": {},
   "source": [
    "1085-직사각형에서 탈출"
   ]
  },
  {
   "cell_type": "code",
   "execution_count": 6,
   "metadata": {},
   "outputs": [
    {
     "name": "stdout",
     "output_type": "stream",
     "text": [
      "6 2 10 3\n",
      "1\n"
     ]
    }
   ],
   "source": [
    "x,y,w,h=map(int,input().split())\n",
    "print(min(w-x,x,h-y,y))"
   ]
  },
  {
   "cell_type": "markdown",
   "metadata": {},
   "source": [
    "1181-단어정렬"
   ]
  },
  {
   "cell_type": "code",
   "execution_count": 1,
   "metadata": {},
   "outputs": [
    {
     "name": "stdout",
     "output_type": "stream",
     "text": [
      "13\n",
      "but i wont hesitate no more no more it cannot wait im yours\n",
      "i\n",
      "im\n",
      "it\n",
      "no\n",
      "but\n",
      "more\n",
      "wait\n",
      "wont\n",
      "yours\n",
      "cannot\n",
      "hesitate\n"
     ]
    }
   ],
   "source": [
    "n=int(input())\n",
    "l=[input() for i in range(n)]\n",
    "print('\\n'.join(sorted(sorted(list(set(l))),key=len)))"
   ]
  },
  {
   "cell_type": "markdown",
   "metadata": {},
   "source": [
    "1259-팰린드롬수"
   ]
  },
  {
   "cell_type": "code",
   "execution_count": 1,
   "metadata": {},
   "outputs": [
    {
     "name": "stdout",
     "output_type": "stream",
     "text": [
      "121\n",
      "yes\n",
      "1231\n",
      "no\n",
      "12421\n",
      "yes\n",
      "0\n"
     ]
    }
   ],
   "source": [
    "while True:\n",
    "    k=input()\n",
    "    if k=='0': break\n",
    "    s,e=0,len(k)-1\n",
    "    while s-e<2:\n",
    "        if k[s]!=k[e]: print('no'); break\n",
    "        s,e=s+1,e-1\n",
    "    else: print('yes')"
   ]
  },
  {
   "cell_type": "markdown",
   "metadata": {},
   "source": [
    "1920-수 찾기"
   ]
  },
  {
   "cell_type": "code",
   "execution_count": 6,
   "metadata": {},
   "outputs": [
    {
     "name": "stdout",
     "output_type": "stream",
     "text": [
      "5\n",
      "4 1 5 2 3\n",
      "5\n",
      "1 3 7 9 5\n",
      "0\n",
      "0\n",
      "1\n",
      "1\n",
      "1\n"
     ]
    }
   ],
   "source": [
    "n_=int(input())\n",
    "n=sorted(input().split())\n",
    "m_=int(input())\n",
    "m=reversed(sorted(input().split()))\n",
    "print(*[1 if i in n else 0 for i in m],sep='\\n')"
   ]
  },
  {
   "cell_type": "markdown",
   "metadata": {},
   "source": [
    "--> 시간초과!!"
   ]
  },
  {
   "cell_type": "code",
   "execution_count": 14,
   "metadata": {},
   "outputs": [
    {
     "name": "stdout",
     "output_type": "stream",
     "text": [
      "5\n",
      "4 1 5 2 3\n",
      "5\n",
      "1 3 7 9 5\n",
      "1\n",
      "1\n",
      "0\n",
      "0\n",
      "1\n"
     ]
    }
   ],
   "source": [
    "def bin_search(target, data):\n",
    "    s,e=0,len(data)-1\n",
    "    while s<=e:\n",
    "        m=(s+e)//2\n",
    "        if data[m]==target: return True\n",
    "        elif data[m]<target: s=m+1\n",
    "        else: e=m-1\n",
    "    return False\n",
    "\n",
    "n_=int(input())\n",
    "n=sorted(list(map(int,input().split())))\n",
    "m_=int(input())\n",
    "m=map(int,input().split())\n",
    "print(*[1 if bin_search(i,n) else 0 for i in m],sep='\\n')"
   ]
  },
  {
   "cell_type": "code",
   "execution_count": null,
   "metadata": {},
   "outputs": [],
   "source": []
  }
 ],
 "metadata": {
  "hide_input": false,
  "kernelspec": {
   "display_name": "Python 3",
   "language": "python",
   "name": "python3"
  },
  "language_info": {
   "codemirror_mode": {
    "name": "ipython",
    "version": 3
   },
   "file_extension": ".py",
   "mimetype": "text/x-python",
   "name": "python",
   "nbconvert_exporter": "python",
   "pygments_lexer": "ipython3",
   "version": "3.7.6"
  }
 },
 "nbformat": 4,
 "nbformat_minor": 4
}
