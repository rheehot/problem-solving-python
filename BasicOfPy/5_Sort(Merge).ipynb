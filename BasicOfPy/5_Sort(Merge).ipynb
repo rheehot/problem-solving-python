{
 "cells": [
  {
   "cell_type": "code",
   "execution_count": 4,
   "metadata": {},
   "outputs": [
    {
     "name": "stdout",
     "output_type": "stream",
     "text": [
      "[5, 10, 66, 77]\n",
      "[54, 32, 11, 15]\n"
     ]
    }
   ],
   "source": [
    "#병합정렬 - O(nlogn) -> 빠름\n",
    "#분할, 정복\n",
    "입력값 = [5, 10, 66, 77, 54, 32, 11, 15]\n",
    "전체인덱스 = 7\n",
    "중간값 = 7 // 2 #3\n",
    "\n",
    "print(입력값[:중간값+1])\n",
    "print(입력값[중간값+1:])"
   ]
  },
  {
   "cell_type": "code",
   "execution_count": 11,
   "metadata": {},
   "outputs": [
    {
     "name": "stdout",
     "output_type": "stream",
     "text": [
      "[5, 10, 11, 15, 32, 54, 66, 77]\n"
     ]
    }
   ],
   "source": [
    "def 병합정렬(입력리스트):\n",
    "    입력리스트의길이 = len(입력리스트)\n",
    "    결과값 = []\n",
    "    if 입력리스트의길이 <= 1:\n",
    "        return 입력리스트\n",
    "    중간값 = 입력리스트의길이 // 2\n",
    "    그룹_하나 = 병합정렬(입력리스트[:중간값])\n",
    "    그룹_둘 = 병합정렬(입력리스트[중간값:])\n",
    "    while 그룹_하나 and 그룹_둘:\n",
    "        if 그룹_하나[0] < 그룹_둘[0]:\n",
    "            결과값.append(그룹_하나.pop(0))\n",
    "        else:\n",
    "            결과값.append(그룹_둘.pop(0))\n",
    "    #비교 대상이 없을 경우 (나머지 다 넣음)\n",
    "    while 그룹_하나:\n",
    "        결과값.append(그룹_하나.pop(0))\n",
    "    while 그룹_둘:\n",
    "        결과값.append(그룹_둘.pop(0))\n",
    "    return 결과값\n",
    "\n",
    "print(병합정렬(입력값))"
   ]
  },
  {
   "cell_type": "code",
   "execution_count": null,
   "metadata": {},
   "outputs": [],
   "source": []
  }
 ],
 "metadata": {
  "hide_input": false,
  "kernelspec": {
   "display_name": "Python 3",
   "language": "python",
   "name": "python3"
  },
  "language_info": {
   "codemirror_mode": {
    "name": "ipython",
    "version": 3
   },
   "file_extension": ".py",
   "mimetype": "text/x-python",
   "name": "python",
   "nbconvert_exporter": "python",
   "pygments_lexer": "ipython3",
   "version": "3.7.6"
  }
 },
 "nbformat": 4,
 "nbformat_minor": 4
}
