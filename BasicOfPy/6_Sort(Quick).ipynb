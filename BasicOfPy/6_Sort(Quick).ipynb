{
 "cells": [
  {
   "cell_type": "code",
   "execution_count": 1,
   "metadata": {},
   "outputs": [],
   "source": [
    "#퀵 정렬 - O(nlogn) 이지만 worst는 O(n^2)\n",
    "#분할, 정복\n",
    "#피봇 (기준 - 보통 처음, 마지막, 중간)\n",
    "입력값 = [66, 77, 54, 32, 10, 5, 11, 15]"
   ]
  },
  {
   "cell_type": "markdown",
   "metadata": {},
   "source": [
    "[66, 77, 54, 32, 10, 5, 11, 15]<br>\n",
    "[54, 32, 10, 5, 11, 15] + [66] + [77]<br>\n",
    "[32, 10, 5, 11, 15] + [54] + [66] + [77]<br>\n",
    "[10, 5, 11, 15] + [32] + [54] + [66] + [77]<br>\n",
    "[11, 15] + [5] + [10] + [32] + [54] + [66] + [77]<br>\n",
    "[5] + [10] + [11] + [15] + [32] + [54] + [66] + [77]"
   ]
  },
  {
   "cell_type": "code",
   "execution_count": 10,
   "metadata": {},
   "outputs": [
    {
     "data": {
      "text/plain": [
       "[5, 10, 11, 15, 32, 54, 66, 77]"
      ]
     },
     "execution_count": 10,
     "metadata": {},
     "output_type": "execute_result"
    }
   ],
   "source": [
    "입력값 = [66, 77, 54, 32, 10, 5, 11, 15]\n",
    "def 퀵정렬(입력리스트):\n",
    "    입력리스트의길이 = len(입력리스트)\n",
    "    if 입력리스트의길이 <= 1:\n",
    "        return 입력리스트\n",
    "    피봇값 = 입력리스트.pop(0) #일반적으로 잡는 기준(0번째)\n",
    "    그룹_하나 = []\n",
    "    그룹_둘 = []\n",
    "    for i in range(입력리스트의길이-1):\n",
    "        if 입력리스트[i] < 피봇값:\n",
    "            그룹_하나.append(입력리스트[i])\n",
    "        else:\n",
    "            그룹_둘.append(입력리스트[i])\n",
    "    return 퀵정렬(그룹_하나) + [피봇값] + 퀵정렬(그룹_둘)\n",
    "\n",
    "퀵정렬(입력값)"
   ]
  },
  {
   "cell_type": "code",
   "execution_count": 14,
   "metadata": {},
   "outputs": [
    {
     "name": "stdout",
     "output_type": "stream",
     "text": [
      "[5, 10, 11, 15, 32, 54, 66, 77]\n",
      "그룹_하나: [54, 32, 10, 5, 11, 15], 피봇: 66, 그룹_둘: [77]\n",
      "그룹_하나: [32, 10, 5, 11, 15], 피봇: 54, 그룹_둘: []\n",
      "그룹_하나: [10, 5, 11, 15], 피봇: 32, 그룹_둘: []\n",
      "그룹_하나: [5], 피봇: 10, 그룹_둘: [11, 15]\n",
      "그룹_하나: [], 피봇: 11, 그룹_둘: [15]\n"
     ]
    }
   ],
   "source": [
    "#피봇값을 함께 보기\n",
    "입력값 = [66, 77, 54, 32, 10, 5, 11, 15]\n",
    "\n",
    "g_list = []\n",
    "def 퀵정렬(입력리스트):\n",
    "    global g_list\n",
    "    입력리스트의길이 = len(입력리스트)\n",
    "    if 입력리스트의길이 <= 1:\n",
    "        return 입력리스트\n",
    "    피봇값 = 입력리스트.pop(0) #일반적으로 잡는 기준(0번째)\n",
    "    그룹_하나 = []\n",
    "    그룹_둘 = []\n",
    "    for i in range(입력리스트의길이-1):\n",
    "        if 입력리스트[i] < 피봇값:\n",
    "            그룹_하나.append(입력리스트[i])\n",
    "        else:\n",
    "            그룹_둘.append(입력리스트[i])\n",
    "    result = '그룹_하나: {}, 피봇: {}, 그룹_둘: {}'.format(그룹_하나, 피봇값, 그룹_둘)\n",
    "    g_list.append(result)\n",
    "    return 퀵정렬(그룹_하나) + [피봇값] + 퀵정렬(그룹_둘)\n",
    "\n",
    "print(퀵정렬(입력값))\n",
    "for i in g_list: print(i)"
   ]
  }
 ],
 "metadata": {
  "hide_input": false,
  "kernelspec": {
   "display_name": "Python 3",
   "language": "python",
   "name": "python3"
  },
  "language_info": {
   "codemirror_mode": {
    "name": "ipython",
    "version": 3
   },
   "file_extension": ".py",
   "mimetype": "text/x-python",
   "name": "python",
   "nbconvert_exporter": "python",
   "pygments_lexer": "ipython3",
   "version": "3.7.6"
  }
 },
 "nbformat": 4,
 "nbformat_minor": 4
}
