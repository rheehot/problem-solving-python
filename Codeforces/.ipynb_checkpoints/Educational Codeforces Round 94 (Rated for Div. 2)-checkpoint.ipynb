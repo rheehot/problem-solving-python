{
 "cells": [
  {
   "cell_type": "code",
   "execution_count": 14,
   "metadata": {},
   "outputs": [
    {
     "name": "stdout",
     "output_type": "stream",
     "text": [
      "1\n",
      "2\n",
      "101\n",
      "set()\n"
     ]
    }
   ],
   "source": [
    "import itertools\n",
    "\n",
    "t=int(input())\n",
    "for _ in range(t):\n",
    "    n=int(input())\n",
    "    s=input()\n",
    "    check_case=[]\n",
    "    for i in range(n):\n",
    "        check_case.append(s[i:i+n])\n",
    "    t=list(itertools.product([0, 1], repeat=n))\n",
    "    bin_case=[]\n",
    "    for i in t:\n",
    "        bin_case.append(''.join(map(str,i)))\n",
    "    each_similar_case=[]\n",
    "    for i in check_case:\n",
    "        t=bin_case.copy()\n",
    "        for j in bin_case:\n",
    "            a=int(i,base=2)\n",
    "            b=int(j,base=2)\n",
    "            if a^b:\n",
    "                t.remove(j)\n",
    "        each_similar_case.append(set(t))\n",
    "    similar_case=set.intersection(*each_similar_case)\n",
    "    print(similar_case)"
   ]
  },
  {
   "cell_type": "markdown",
   "metadata": {},
   "source": []
  }
 ],
 "metadata": {
  "hide_input": false,
  "kernelspec": {
   "display_name": "Python 3",
   "language": "python",
   "name": "python3"
  },
  "language_info": {
   "codemirror_mode": {
    "name": "ipython",
    "version": 3
   },
   "file_extension": ".py",
   "mimetype": "text/x-python",
   "name": "python",
   "nbconvert_exporter": "python",
   "pygments_lexer": "ipython3",
   "version": "3.7.6"
  }
 },
 "nbformat": 4,
 "nbformat_minor": 4
}
