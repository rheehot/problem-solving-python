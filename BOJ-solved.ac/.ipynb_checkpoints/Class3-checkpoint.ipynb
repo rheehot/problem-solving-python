{
 "cells": [
  {
   "cell_type": "markdown",
   "metadata": {},
   "source": [
    "## 1003-피보나치 함수"
   ]
  },
  {
   "cell_type": "code",
   "execution_count": 8,
   "metadata": {},
   "outputs": [
    {
     "name": "stdout",
     "output_type": "stream",
     "text": [
      "10\n",
      "[0, 1, 1, 2, 3, 5, 8, 13, 21, 34, 0, 0, 0, 0, 0, 0, 0, 0, 0, 0, 0, 0, 0, 0, 0, 0, 0, 0, 0, 0, 0, 0, 0, 0, 0, 0, 0, 0, 0, 0, 0, 0]\n"
     ]
    }
   ],
   "source": [
    "m=[0,1]+[0]*40\n",
    "for i in range(2,int(input())+1):\n",
    "    m[i]=m[i-1]+m[i-2]\n",
    "print(m)"
   ]
  },
  {
   "cell_type": "markdown",
   "metadata": {},
   "source": [
    "--> 효율적인 피보나치"
   ]
  },
  {
   "cell_type": "code",
   "execution_count": 1,
   "metadata": {},
   "outputs": [
    {
     "name": "stdout",
     "output_type": "stream",
     "text": [
      "1\n",
      "5\n",
      "[1, 1]\n",
      "[1, 2]\n",
      "[2, 3]\n",
      "[3, 5]\n",
      "3 5\n"
     ]
    }
   ],
   "source": [
    "for _ in range(int(input())):\n",
    "    m=[[1,0],[0,1]]+[[0,0]]*40\n",
    "    K=int(input())\n",
    "    for i in range(2,K+1): m[i]=[m[i-1][0]+m[i-2][0],m[i-1][1]+m[i-2][1]]\n",
    "    print(m[K][0],m[K][1])"
   ]
  },
  {
   "cell_type": "markdown",
   "metadata": {},
   "source": [
    "## 1012-유기농배추"
   ]
  },
  {
   "cell_type": "code",
   "execution_count": 1,
   "metadata": {},
   "outputs": [
    {
     "name": "stdout",
     "output_type": "stream",
     "text": [
      "5 3 6\n",
      "[[0, 0, 0, 0, 0], [0, 0, 0, 0, 0], [0, 0, 0, 0, 0]]\n",
      "0 2\n",
      "[[0, 0, 0, 0, 0], [0, 0, 0, 0, 0], [1, 0, 0, 0, 0]]\n",
      "1 2\n",
      "[[0, 0, 0, 0, 0], [0, 0, 0, 0, 0], [1, 1, 0, 0, 0]]\n",
      "2 2\n",
      "[[0, 0, 0, 0, 0], [0, 0, 0, 0, 0], [1, 1, 1, 0, 0]]\n",
      "3 2\n",
      "[[0, 0, 0, 0, 0], [0, 0, 0, 0, 0], [1, 1, 1, 1, 0]]\n",
      "4 2\n",
      "[[0, 0, 0, 0, 0], [0, 0, 0, 0, 0], [1, 1, 1, 1, 1]]\n",
      "4 0\n",
      "[[0, 0, 0, 0, 1], [0, 0, 0, 0, 0], [1, 1, 1, 1, 1]]\n",
      "[[0, 0, 0, 0, 1], [0, 0, 0, 0, 0], [1, 1, 1, 1, 1]]\n"
     ]
    }
   ],
   "source": [
    "M,N,K=map(int,input().split())\n",
    "b=[[0]*M for _ in range(N)]\n",
    "print(b)\n",
    "for _ in range(K):\n",
    "    x,y=map(int,input().split())\n",
    "    b[y][x]=1\n",
    "t=[]\n",
    "for i in enumerate(b):\n",
    "    "
   ]
  },
  {
   "cell_type": "markdown",
   "metadata": {},
   "source": [
    "--> DFS, BFS 개념 다시 보자"
   ]
  },
  {
   "cell_type": "markdown",
   "metadata": {},
   "source": [
    "## 1260-DFS,BFS"
   ]
  },
  {
   "cell_type": "code",
   "execution_count": 4,
   "metadata": {},
   "outputs": [
    {
     "name": "stdout",
     "output_type": "stream",
     "text": [
      "['A', 'B', 'C', 'H', 'D', 'I', 'J', 'M', 'E', 'G', 'K', 'F', 'L']\n",
      "['A', 'B', 'H', 'M', 'J', 'K', 'L', 'I', 'C', 'D', 'G', 'E', 'F']\n"
     ]
    }
   ],
   "source": [
    "def dfs(graph, start):\n",
    "    visit = []\n",
    "    stack = []\n",
    "    stack.append(start)\n",
    "    \n",
    "    while stack:\n",
    "        node = stack.pop()\n",
    "        if node not in visit:\n",
    "            visit.append(node)\n",
    "            stack.extend(graph[node])\n",
    "    return visit\n",
    "\n",
    "from collections import deque\n",
    "def bfs(graph, start):\n",
    "    visit = []\n",
    "    queue = deque()\n",
    "    queue.append(start)\n",
    "    \n",
    "    while queue:\n",
    "        node = queue.popleft()\n",
    "        if node not in visit:\n",
    "            visit.append(node)\n",
    "            queue.extend(graph[node])\n",
    "    return visit\n",
    "\n",
    "graph = {\n",
    "    'A': ['B'],\n",
    "    'B': ['A', 'C', 'H'],\n",
    "    'C': ['B', 'D'],\n",
    "    'D': ['C', 'E', 'G'],\n",
    "    'E': ['D', 'F'],\n",
    "    'F': ['E'],\n",
    "    'G': ['D'],\n",
    "    'H': ['B', 'I', 'J', 'M'],\n",
    "    'I': ['H'],\n",
    "    'J': ['H', 'K'],\n",
    "    'K': ['J', 'L'],\n",
    "    'L': ['K'],\n",
    "    'M': ['H']\n",
    "}\n",
    "\n",
    "print(bfs(graph, 'A'))\n",
    "print(dfs(graph, 'A'))"
   ]
  },
  {
   "cell_type": "code",
   "execution_count": 29,
   "metadata": {},
   "outputs": [
    {
     "name": "stdout",
     "output_type": "stream",
     "text": [
      "1000 1 9\n",
      "999 1000\n",
      "9\n",
      "9\n"
     ]
    }
   ],
   "source": [
    "def dfs(graph, start):\n",
    "    if start not in graph: return [start]\n",
    "    visit = []\n",
    "    stack = []\n",
    "    stack.append(start)\n",
    "    \n",
    "    while stack:\n",
    "        node = stack.pop()\n",
    "        if node not in visit:\n",
    "            visit.append(node)\n",
    "            stack.extend(sorted(graph[node])[::-1])\n",
    "    return visit\n",
    "\n",
    "from collections import deque\n",
    "def bfs(graph, start):\n",
    "    if start not in graph: return [start]\n",
    "    visit = []\n",
    "    queue = deque()\n",
    "    queue.append(start)\n",
    "    \n",
    "    while queue:\n",
    "        node = queue.popleft()\n",
    "        if node not in visit:\n",
    "            visit.append(node)\n",
    "            queue.extend(sorted(graph[node]))\n",
    "    return visit\n",
    "\n",
    "N,M,V=map(int,input().split())\n",
    "graph={}\n",
    "for _ in range(M):\n",
    "    a,b=map(int,input().split())\n",
    "    if a not in graph:\n",
    "        graph[a]=[]\n",
    "    if b not in graph:\n",
    "        graph[b]=[]\n",
    "    graph[a].append(b)\n",
    "    graph[b].append(a)\n",
    "print(*dfs(graph,V))\n",
    "print(*bfs(graph,V))"
   ]
  },
  {
   "cell_type": "markdown",
   "metadata": {},
   "source": [
    "다른 코드 (dfs, bfs)"
   ]
  },
  {
   "cell_type": "code",
   "execution_count": 30,
   "metadata": {},
   "outputs": [
    {
     "name": "stdout",
     "output_type": "stream",
     "text": [
      "1000 1 9\n",
      "999 1000\n",
      "9 9 "
     ]
    }
   ],
   "source": [
    "N,M,V=map(int,input().split())\n",
    "matrix=[[0]*(N+1) for i in range(N+1)]\n",
    "for i in range(M):\n",
    "    a,b = map(int,input().split())\n",
    "    matrix[a][b]=matrix[b][a]=1\n",
    "visit_list=[0]*(N+1)\n",
    "\n",
    "def dfs(V):\n",
    "    visit_list[V]=1 #방문한 점 1로 표시\n",
    "    print(V, end=' ')\n",
    "    for i in range(1,N+1):\n",
    "        if(visit_list[i]==0 and matrix[V][i]==1):\n",
    "            dfs(i)\n",
    "\n",
    "def bfs(V):\n",
    "    queue=[V] #들려야 할 정점 저장\n",
    "    visit_list[V]=0 #방문한 점 0으로 표시\n",
    "    while queue:\n",
    "        V=queue.pop(0)\n",
    "        print(V, end=' ')\n",
    "        for i in range(1, N+1):\n",
    "            if(visit_list[i]==1 and matrix[V][i]==1):\n",
    "                queue.append(i)\n",
    "                visit_list[i]=0\n",
    "\n",
    "dfs(V)\n",
    "bfs(V)"
   ]
  },
  {
   "cell_type": "markdown",
   "metadata": {},
   "source": [
    "## 2178-미로 탐색"
   ]
  },
  {
   "cell_type": "code",
   "execution_count": 36,
   "metadata": {},
   "outputs": [
    {
     "name": "stdout",
     "output_type": "stream",
     "text": [
      "2 25\n",
      "1011101110111011101110111\n",
      "1110111011101110111011101\n",
      "{0: [0, 0, 2, 3, 4, 6, 7, 8, 10, 11, 12, 14, 15, 16, 18, 19, 20, 22, 23, 24, 1], 1: [0, 1, 1, 2, 4, 5, 6, 8, 9, 10, 12, 13, 14, 16, 17, 18, 20, 21, 22, 24], 2: [0, 1], 3: [0], 4: [0, 1], 5: [1], 6: [0, 1], 7: [0], 8: [0, 1], 9: [1], 10: [0, 1], 11: [0], 12: [0, 1], 13: [1], 14: [0, 1], 15: [0], 16: [0, 1], 17: [1], 18: [0, 1], 19: [0], 20: [0, 1], 21: [1], 22: [0, 1], 23: [0], 24: [0, 1]}\n",
      "77\n"
     ]
    }
   ],
   "source": [
    "from collections import deque\n",
    "def bfs(graph, start):\n",
    "    cnt=0\n",
    "    visit = []\n",
    "    queue = deque()\n",
    "    queue.append(start)\n",
    "    \n",
    "    while queue:\n",
    "        cnt+=1\n",
    "        node = queue.popleft()\n",
    "        if node not in visit:\n",
    "            visit.append(node)\n",
    "            queue.extend(graph[node])\n",
    "    return cnt\n",
    "\n",
    "N,M=map(int,input().split())\n",
    "graph={}\n",
    "for a in range(N):\n",
    "    d=list(map(int,list(input())))\n",
    "    for b, x in enumerate(d):\n",
    "        if a not in graph:\n",
    "            graph[a]=[]\n",
    "        if b not in graph:\n",
    "            graph[b]=[]\n",
    "        if x==1:\n",
    "            graph[a].append(b)\n",
    "            graph[b].append(a)\n",
    "print(graph)\n",
    "print(bfs(graph,0))"
   ]
  },
  {
   "cell_type": "markdown",
   "metadata": {},
   "source": [
    "--> 솔루션 보기.."
   ]
  },
  {
   "cell_type": "code",
   "execution_count": null,
   "metadata": {},
   "outputs": [],
   "source": [
    "import sys\n",
    "n, m = map(int, sys.stdin.readline().split())\n",
    "board = [list(map(int, sys.stdin.readline().rstrip())) for _ in range(n)]\n",
    "visited = [[False] * m for _ in range(n)]\n",
    "queue = []\n",
    "dx = [-1, 0, 1, 0]\n",
    "dy = [0, -1, 0, 1]\n",
    "\n",
    "def solve_bfs(x, y):\n",
    "    queue.append((x, y))\n",
    "    visited[x][y] = True\n",
    "    while queue:\n",
    "        x, y = queue.pop(0)\n",
    "        if x == n-1 and y == m-1:\n",
    "            return\n",
    "        for i in range(4):\n",
    "            nx, ny = x + dx[i], y + dy[i]\n",
    "            if 0 <= nx < n and 0 <= ny < m:\n",
    "                if board[nx][ny] and not visited[nx][ny]:\n",
    "                    visited[nx][ny] = True\n",
    "                    board[nx][ny] = board[x][y] + 1\n",
    "                    queue.append((nx, ny))\n",
    "solve_bfs(0,0)\n",
    "for i in range(n):\n",
    "    print(board[i])\n",
    "print(board[-1][-1])"
   ]
  },
  {
   "cell_type": "code",
   "execution_count": 37,
   "metadata": {},
   "outputs": [
    {
     "name": "stdout",
     "output_type": "stream",
     "text": [
      "4 6\n",
      "101111\n",
      "101010\n",
      "101011\n",
      "111011\n"
     ]
    },
    {
     "ename": "TypeError",
     "evalue": "list indices must be integers or slices, not tuple",
     "output_type": "error",
     "traceback": [
      "\u001b[1;31m----------------------------------------------------------------------\u001b[0m",
      "\u001b[1;31mTypeError\u001b[0m                            Traceback (most recent call last)",
      "\u001b[1;32m<ipython-input-37-df3bdc876bd6>\u001b[0m in \u001b[0;36m<module>\u001b[1;34m\u001b[0m\n\u001b[0;32m     19\u001b[0m                 \u001b[0mqueue\u001b[0m\u001b[1;33m.\u001b[0m\u001b[0mappend\u001b[0m\u001b[1;33m(\u001b[0m\u001b[1;33m(\u001b[0m\u001b[0mnx\u001b[0m\u001b[1;33m,\u001b[0m\u001b[0mny\u001b[0m\u001b[1;33m)\u001b[0m\u001b[1;33m)\u001b[0m\u001b[1;33m\u001b[0m\u001b[1;33m\u001b[0m\u001b[0m\n\u001b[0;32m     20\u001b[0m \u001b[1;33m\u001b[0m\u001b[0m\n\u001b[1;32m---> 21\u001b[1;33m \u001b[0mbfs\u001b[0m\u001b[1;33m(\u001b[0m\u001b[1;36m0\u001b[0m\u001b[1;33m,\u001b[0m\u001b[1;36m0\u001b[0m\u001b[1;33m)\u001b[0m\u001b[1;33m\u001b[0m\u001b[1;33m\u001b[0m\u001b[0m\n\u001b[0m\u001b[0;32m     22\u001b[0m \u001b[1;32mfor\u001b[0m \u001b[0mi\u001b[0m \u001b[1;32min\u001b[0m \u001b[0mrange\u001b[0m\u001b[1;33m(\u001b[0m\u001b[0mn\u001b[0m\u001b[1;33m)\u001b[0m\u001b[1;33m:\u001b[0m\u001b[1;33m\u001b[0m\u001b[1;33m\u001b[0m\u001b[0m\n\u001b[0;32m     23\u001b[0m     \u001b[0mprint\u001b[0m\u001b[1;33m(\u001b[0m\u001b[0mboard\u001b[0m\u001b[1;33m[\u001b[0m\u001b[0mi\u001b[0m\u001b[1;33m]\u001b[0m\u001b[1;33m)\u001b[0m\u001b[1;33m\u001b[0m\u001b[1;33m\u001b[0m\u001b[0m\n",
      "\u001b[1;32m<ipython-input-37-df3bdc876bd6>\u001b[0m in \u001b[0;36mbfs\u001b[1;34m(x, y)\u001b[0m\n\u001b[0;32m      8\u001b[0m \u001b[1;32mdef\u001b[0m \u001b[0mbfs\u001b[0m\u001b[1;33m(\u001b[0m\u001b[0mx\u001b[0m\u001b[1;33m,\u001b[0m\u001b[0my\u001b[0m\u001b[1;33m)\u001b[0m\u001b[1;33m:\u001b[0m\u001b[1;33m\u001b[0m\u001b[1;33m\u001b[0m\u001b[0m\n\u001b[0;32m      9\u001b[0m     \u001b[0mqueue\u001b[0m\u001b[1;33m.\u001b[0m\u001b[0mappend\u001b[0m\u001b[1;33m(\u001b[0m\u001b[1;33m(\u001b[0m\u001b[0mx\u001b[0m\u001b[1;33m,\u001b[0m\u001b[0my\u001b[0m\u001b[1;33m)\u001b[0m\u001b[1;33m)\u001b[0m\u001b[1;33m\u001b[0m\u001b[1;33m\u001b[0m\u001b[0m\n\u001b[1;32m---> 10\u001b[1;33m     \u001b[0mvisited\u001b[0m\u001b[1;33m[\u001b[0m\u001b[0mx\u001b[0m\u001b[1;33m,\u001b[0m\u001b[0my\u001b[0m\u001b[1;33m]\u001b[0m\u001b[1;33m=\u001b[0m\u001b[1;32mTrue\u001b[0m\u001b[1;33m\u001b[0m\u001b[1;33m\u001b[0m\u001b[0m\n\u001b[0m\u001b[0;32m     11\u001b[0m     \u001b[1;32mwhile\u001b[0m \u001b[0mqueue\u001b[0m\u001b[1;33m:\u001b[0m\u001b[1;33m\u001b[0m\u001b[1;33m\u001b[0m\u001b[0m\n\u001b[0;32m     12\u001b[0m         \u001b[0mx\u001b[0m\u001b[1;33m,\u001b[0m\u001b[0my\u001b[0m\u001b[1;33m=\u001b[0m\u001b[0mqueue\u001b[0m\u001b[1;33m.\u001b[0m\u001b[0mpop\u001b[0m\u001b[1;33m(\u001b[0m\u001b[1;36m0\u001b[0m\u001b[1;33m)\u001b[0m\u001b[1;33m\u001b[0m\u001b[1;33m\u001b[0m\u001b[0m\n",
      "\u001b[1;31mTypeError\u001b[0m: list indices must be integers or slices, not tuple"
     ]
    }
   ],
   "source": [
    "n,m=map(int,input().split())\n",
    "board=[list(map(int,input().split())) for _ in range(n)]\n",
    "visited=[[False]*m for _ in range(n)]\n",
    "queue=[]\n",
    "dx=[-1,0,1,0]\n",
    "dy=[0,-1,0,1]\n",
    "\n",
    "def bfs(x,y):\n",
    "    queue.append((x,y))\n",
    "    visited[x,y]=True\n",
    "    while queue:\n",
    "        x,y=queue.pop(0)\n",
    "        if x==n-1 and y==m-1: return\n",
    "        for i in range(4):\n",
    "            nx, ny = x+dx[i], y+dy[i]\n",
    "            if 0<=nx<n and 0<=ny<m and board[nx][ny] and not visited[nx][ny]:\n",
    "                visited[nx][ny]=True\n",
    "                board[nx][ny]=board[x][y]+1\n",
    "                queue.append((nx,ny))\n",
    "\n",
    "bfs(0,0)\n",
    "for i in range(n):\n",
    "    print(board[i])\n",
    "print(board[-1][-1])"
   ]
  },
  {
   "cell_type": "code",
   "execution_count": null,
   "metadata": {},
   "outputs": [],
   "source": []
  }
 ],
 "metadata": {
  "hide_input": false,
  "kernelspec": {
   "display_name": "Python 3",
   "language": "python",
   "name": "python3"
  },
  "language_info": {
   "codemirror_mode": {
    "name": "ipython",
    "version": 3
   },
   "file_extension": ".py",
   "mimetype": "text/x-python",
   "name": "python",
   "nbconvert_exporter": "python",
   "pygments_lexer": "ipython3",
   "version": "3.7.6"
  }
 },
 "nbformat": 4,
 "nbformat_minor": 4
}
