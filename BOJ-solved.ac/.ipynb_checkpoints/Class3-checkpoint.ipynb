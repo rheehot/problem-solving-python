{
 "cells": [
  {
   "cell_type": "markdown",
   "metadata": {},
   "source": [
    "## 1003-피보나치 함수"
   ]
  },
  {
   "cell_type": "code",
   "execution_count": 8,
   "metadata": {},
   "outputs": [
    {
     "name": "stdout",
     "output_type": "stream",
     "text": [
      "10\n",
      "[0, 1, 1, 2, 3, 5, 8, 13, 21, 34, 0, 0, 0, 0, 0, 0, 0, 0, 0, 0, 0, 0, 0, 0, 0, 0, 0, 0, 0, 0, 0, 0, 0, 0, 0, 0, 0, 0, 0, 0, 0, 0]\n"
     ]
    }
   ],
   "source": [
    "m=[0,1]+[0]*40\n",
    "for i in range(2,int(input())+1):\n",
    "    m[i]=m[i-1]+m[i-2]\n",
    "print(m)"
   ]
  },
  {
   "cell_type": "markdown",
   "metadata": {},
   "source": [
    "--> 효율적인 피보나치"
   ]
  },
  {
   "cell_type": "code",
   "execution_count": 1,
   "metadata": {},
   "outputs": [
    {
     "name": "stdout",
     "output_type": "stream",
     "text": [
      "1\n",
      "5\n",
      "[1, 1]\n",
      "[1, 2]\n",
      "[2, 3]\n",
      "[3, 5]\n",
      "3 5\n"
     ]
    }
   ],
   "source": [
    "for _ in range(int(input())):\n",
    "    m=[[1,0],[0,1]]+[[0,0]]*40\n",
    "    K=int(input())\n",
    "    for i in range(2,K+1): m[i]=[m[i-1][0]+m[i-2][0],m[i-1][1]+m[i-2][1]]\n",
    "    print(m[K][0],m[K][1])"
   ]
  },
  {
   "cell_type": "markdown",
   "metadata": {},
   "source": [
    "--> DFS, BFS 개념 다시 보자"
   ]
  },
  {
   "cell_type": "markdown",
   "metadata": {},
   "source": [
    "## 1260-DFS,BFS"
   ]
  },
  {
   "cell_type": "code",
   "execution_count": 4,
   "metadata": {},
   "outputs": [
    {
     "name": "stdout",
     "output_type": "stream",
     "text": [
      "['A', 'B', 'C', 'H', 'D', 'I', 'J', 'M', 'E', 'G', 'K', 'F', 'L']\n",
      "['A', 'B', 'H', 'M', 'J', 'K', 'L', 'I', 'C', 'D', 'G', 'E', 'F']\n"
     ]
    }
   ],
   "source": [
    "def dfs(graph, start):\n",
    "    visit = []\n",
    "    stack = []\n",
    "    stack.append(start)\n",
    "    \n",
    "    while stack:\n",
    "        node = stack.pop()\n",
    "        if node not in visit:\n",
    "            visit.append(node)\n",
    "            stack.extend(graph[node])\n",
    "    return visit\n",
    "\n",
    "from collections import deque\n",
    "def bfs(graph, start):\n",
    "    visit = []\n",
    "    queue = deque()\n",
    "    queue.append(start)\n",
    "    \n",
    "    while queue:\n",
    "        node = queue.popleft()\n",
    "        if node not in visit:\n",
    "            visit.append(node)\n",
    "            queue.extend(graph[node])\n",
    "    return visit\n",
    "\n",
    "graph = {\n",
    "    'A': ['B'],\n",
    "    'B': ['A', 'C', 'H'],\n",
    "    'C': ['B', 'D'],\n",
    "    'D': ['C', 'E', 'G'],\n",
    "    'E': ['D', 'F'],\n",
    "    'F': ['E'],\n",
    "    'G': ['D'],\n",
    "    'H': ['B', 'I', 'J', 'M'],\n",
    "    'I': ['H'],\n",
    "    'J': ['H', 'K'],\n",
    "    'K': ['J', 'L'],\n",
    "    'L': ['K'],\n",
    "    'M': ['H']\n",
    "}\n",
    "\n",
    "print(bfs(graph, 'A'))\n",
    "print(dfs(graph, 'A'))"
   ]
  },
  {
   "cell_type": "code",
   "execution_count": 29,
   "metadata": {},
   "outputs": [
    {
     "name": "stdout",
     "output_type": "stream",
     "text": [
      "1000 1 9\n",
      "999 1000\n",
      "9\n",
      "9\n"
     ]
    }
   ],
   "source": [
    "def dfs(graph, start):\n",
    "    if start not in graph: return [start]\n",
    "    visit = []\n",
    "    stack = []\n",
    "    stack.append(start)\n",
    "    \n",
    "    while stack:\n",
    "        node = stack.pop()\n",
    "        if node not in visit:\n",
    "            visit.append(node)\n",
    "            stack.extend(sorted(graph[node])[::-1])\n",
    "    return visit\n",
    "\n",
    "from collections import deque\n",
    "def bfs(graph, start):\n",
    "    if start not in graph: return [start]\n",
    "    visit = []\n",
    "    queue = deque()\n",
    "    queue.append(start)\n",
    "    \n",
    "    while queue:\n",
    "        node = queue.popleft()\n",
    "        if node not in visit:\n",
    "            visit.append(node)\n",
    "            queue.extend(sorted(graph[node]))\n",
    "    return visit\n",
    "\n",
    "N,M,V=map(int,input().split())\n",
    "graph={}\n",
    "for _ in range(M):\n",
    "    a,b=map(int,input().split())\n",
    "    if a not in graph:\n",
    "        graph[a]=[]\n",
    "    if b not in graph:\n",
    "        graph[b]=[]\n",
    "    graph[a].append(b)\n",
    "    graph[b].append(a)\n",
    "print(*dfs(graph,V))\n",
    "print(*bfs(graph,V))"
   ]
  },
  {
   "cell_type": "markdown",
   "metadata": {},
   "source": [
    "다른 코드 (dfs, bfs)"
   ]
  },
  {
   "cell_type": "code",
   "execution_count": 30,
   "metadata": {},
   "outputs": [
    {
     "name": "stdout",
     "output_type": "stream",
     "text": [
      "1000 1 9\n",
      "999 1000\n",
      "9 9 "
     ]
    }
   ],
   "source": [
    "N,M,V=map(int,input().split())\n",
    "matrix=[[0]*(N+1) for i in range(N+1)]\n",
    "for i in range(M):\n",
    "    a,b = map(int,input().split())\n",
    "    matrix[a][b]=matrix[b][a]=1\n",
    "visit_list=[0]*(N+1)\n",
    "\n",
    "def dfs(V):\n",
    "    visit_list[V]=1 #방문한 점 1로 표시\n",
    "    print(V, end=' ')\n",
    "    for i in range(1,N+1):\n",
    "        if(visit_list[i]==0 and matrix[V][i]==1):\n",
    "            dfs(i)\n",
    "\n",
    "def bfs(V):\n",
    "    queue=[V] #들려야 할 정점 저장\n",
    "    visit_list[V]=0 #방문한 점 0으로 표시\n",
    "    while queue:\n",
    "        V=queue.pop(0)\n",
    "        print(V, end=' ')\n",
    "        for i in range(1, N+1):\n",
    "            if(visit_list[i]==1 and matrix[V][i]==1):\n",
    "                queue.append(i)\n",
    "                visit_list[i]=0\n",
    "\n",
    "dfs(V)\n",
    "bfs(V)"
   ]
  },
  {
   "cell_type": "markdown",
   "metadata": {},
   "source": [
    "## 2178-미로 탐색"
   ]
  },
  {
   "cell_type": "code",
   "execution_count": 36,
   "metadata": {},
   "outputs": [
    {
     "name": "stdout",
     "output_type": "stream",
     "text": [
      "2 25\n",
      "1011101110111011101110111\n",
      "1110111011101110111011101\n",
      "{0: [0, 0, 2, 3, 4, 6, 7, 8, 10, 11, 12, 14, 15, 16, 18, 19, 20, 22, 23, 24, 1], 1: [0, 1, 1, 2, 4, 5, 6, 8, 9, 10, 12, 13, 14, 16, 17, 18, 20, 21, 22, 24], 2: [0, 1], 3: [0], 4: [0, 1], 5: [1], 6: [0, 1], 7: [0], 8: [0, 1], 9: [1], 10: [0, 1], 11: [0], 12: [0, 1], 13: [1], 14: [0, 1], 15: [0], 16: [0, 1], 17: [1], 18: [0, 1], 19: [0], 20: [0, 1], 21: [1], 22: [0, 1], 23: [0], 24: [0, 1]}\n",
      "77\n"
     ]
    }
   ],
   "source": [
    "from collections import deque\n",
    "def bfs(graph, start):\n",
    "    cnt=0\n",
    "    visit = []\n",
    "    queue = deque()\n",
    "    queue.append(start)\n",
    "    \n",
    "    while queue:\n",
    "        cnt+=1\n",
    "        node = queue.popleft()\n",
    "        if node not in visit:\n",
    "            visit.append(node)\n",
    "            queue.extend(graph[node])\n",
    "    return cnt\n",
    "\n",
    "N,M=map(int,input().split())\n",
    "graph={}\n",
    "for a in range(N):\n",
    "    d=list(map(int,list(input())))\n",
    "    for b, x in enumerate(d):\n",
    "        if a not in graph:\n",
    "            graph[a]=[]\n",
    "        if b not in graph:\n",
    "            graph[b]=[]\n",
    "        if x==1:\n",
    "            graph[a].append(b)\n",
    "            graph[b].append(a)\n",
    "print(graph)\n",
    "print(bfs(graph,0))"
   ]
  },
  {
   "cell_type": "markdown",
   "metadata": {},
   "source": [
    "--> 솔루션 보기.."
   ]
  },
  {
   "cell_type": "code",
   "execution_count": null,
   "metadata": {},
   "outputs": [],
   "source": [
    "import sys\n",
    "n, m = map(int, sys.stdin.readline().split())\n",
    "board = [list(map(int, sys.stdin.readline().rstrip())) for _ in range(n)]\n",
    "visited = [[False] * m for _ in range(n)]\n",
    "queue = []\n",
    "dx = [-1, 0, 1, 0]\n",
    "dy = [0, -1, 0, 1]\n",
    "\n",
    "def solve_bfs(x, y):\n",
    "    queue.append((x, y))\n",
    "    visited[x][y] = True\n",
    "    while queue:\n",
    "        x, y = queue.pop(0)\n",
    "        if x == n-1 and y == m-1:\n",
    "            return\n",
    "        for i in range(4):\n",
    "            nx, ny = x + dx[i], y + dy[i]\n",
    "            if 0 <= nx < n and 0 <= ny < m:\n",
    "                if board[nx][ny] and not visited[nx][ny]:\n",
    "                    visited[nx][ny] = True\n",
    "                    board[nx][ny] = board[x][y] + 1\n",
    "                    queue.append((nx, ny))\n",
    "solve_bfs(0,0)\n",
    "for i in range(n):\n",
    "    print(board[i])\n",
    "print(board[-1][-1])"
   ]
  },
  {
   "cell_type": "code",
   "execution_count": 42,
   "metadata": {},
   "outputs": [
    {
     "name": "stdout",
     "output_type": "stream",
     "text": [
      "4 6\n",
      "101111\n",
      "101010\n",
      "101011\n",
      "111011\n",
      "[1, 0, 9, 10, 11, 12]\n",
      "[2, 0, 8, 0, 12, 0]\n",
      "[3, 0, 7, 0, 13, 14]\n",
      "[4, 5, 6, 0, 14, 15]\n",
      "15\n"
     ]
    }
   ],
   "source": [
    "n,m=map(int,input().split())\n",
    "board=[list(map(int,input())) for _ in range(n)]\n",
    "visited=[[False]*m for _ in range(n)]\n",
    "queue=[]\n",
    "dx=[-1,0,1,0]\n",
    "dy=[0,-1,0,1]\n",
    "\n",
    "def bfs(x,y):\n",
    "    queue.append((x,y))\n",
    "    visited[x][y]=True\n",
    "    while queue:\n",
    "        x,y=queue.pop(0)\n",
    "        if x==n-1 and y==m-1: return\n",
    "        for i in range(4):\n",
    "            nx, ny = x+dx[i], y+dy[i]\n",
    "            if 0<=nx<n and 0<=ny<m:\n",
    "                if board[nx][ny] and not visited[nx][ny]:\n",
    "                    visited[nx][ny]=True\n",
    "                    board[nx][ny]=board[x][y]+1\n",
    "                    queue.append((nx,ny))\n",
    "\n",
    "bfs(0,0)\n",
    "print(board[-1][-1])"
   ]
  },
  {
   "cell_type": "markdown",
   "metadata": {},
   "source": [
    "## 1697-숨바꼭질"
   ]
  },
  {
   "cell_type": "code",
   "execution_count": 76,
   "metadata": {},
   "outputs": [
    {
     "name": "stdout",
     "output_type": "stream",
     "text": [
      "5 17\n",
      "4\n"
     ]
    }
   ],
   "source": [
    "subin,sister=map(int,input().split())\n",
    "board=[0]*100001\n",
    "visited=[False]*100001\n",
    "queue=[]\n",
    "dx=[-1,1]\n",
    "\n",
    "def bfs(x):\n",
    "    queue.append(x)\n",
    "    visited[x]=True\n",
    "    while queue:\n",
    "        x=queue.pop(0)\n",
    "        if x==sister: return\n",
    "        for i in range(3):\n",
    "            if i<2: nx=x+dx[i]\n",
    "            else: nx=x*2\n",
    "            if 0<=nx<100001 and not visited[nx]:\n",
    "                    visited[nx]=True\n",
    "                    board[nx]=board[x]+1\n",
    "                    queue.append(nx)\n",
    "\n",
    "bfs(subin)\n",
    "print(board[sister])"
   ]
  },
  {
   "cell_type": "markdown",
   "metadata": {},
   "source": [
    "## 1012-유기농 배추"
   ]
  },
  {
   "cell_type": "code",
   "execution_count": 80,
   "metadata": {},
   "outputs": [
    {
     "name": "stdout",
     "output_type": "stream",
     "text": [
      "5 3 6\n",
      "0 2\n",
      "1 2\n",
      "2 2\n",
      "3 2\n",
      "4 2\n",
      "4 0\n",
      "[[0, 0, 0, 0, 1], [0, 0, 0, 0, 0], [1, 1, 1, 1, 1]]\n",
      "None\n",
      "[[0, 1, 2, 3, 4], [1, 2, 3, 4, 5], [2, 3, 4, 5, 6]]\n",
      "6\n"
     ]
    }
   ],
   "source": [
    "m,n,k=map(int,input().split())\n",
    "board=[[0]*m for _ in range(n)]\n",
    "for i in range(k):\n",
    "    a,b=map(int,input().split())\n",
    "    board[b][a]=1\n",
    "visited=[[False]*m for _ in range(n)]\n",
    "queue=[]\n",
    "dx=[-1,0,1,0]\n",
    "dy=[0,-1,0,1]\n",
    "\n",
    "print(board)\n",
    "\n",
    "def bfs(x,y):\n",
    "    worm=0\n",
    "    queue.append((x,y))\n",
    "    visited[x][y]=True\n",
    "    while queue:\n",
    "        x,y=queue.pop(0)\n",
    "        if x==n-1 and y==m-1: return\n",
    "        for i in range(4):\n",
    "            nx, ny = x+dx[i], y+dy[i]\n",
    "            if 0<=nx<n and 0<=ny<m:\n",
    "                if not visited[nx][ny]:\n",
    "                    if board[nx][ny]:\n",
    "                        worm+=1\n",
    "                    visited[nx][ny]=True\n",
    "                    board[nx][ny]=board[x][y]+1\n",
    "                    queue.append((nx,ny))\n",
    "    return worm\n",
    "\n",
    "print(bfs(0,0))\n",
    "print(board)\n",
    "print(board[-1][-1])"
   ]
  },
  {
   "cell_type": "markdown",
   "metadata": {},
   "source": [
    "## 1074-Z"
   ]
  },
  {
   "cell_type": "code",
   "execution_count": null,
   "metadata": {},
   "outputs": [],
   "source": []
  }
 ],
 "metadata": {
  "hide_input": false,
  "kernelspec": {
   "display_name": "Python 3",
   "language": "python",
   "name": "python3"
  },
  "language_info": {
   "codemirror_mode": {
    "name": "ipython",
    "version": 3
   },
   "file_extension": ".py",
   "mimetype": "text/x-python",
   "name": "python",
   "nbconvert_exporter": "python",
   "pygments_lexer": "ipython3",
   "version": "3.7.6"
  }
 },
 "nbformat": 4,
 "nbformat_minor": 4
}
