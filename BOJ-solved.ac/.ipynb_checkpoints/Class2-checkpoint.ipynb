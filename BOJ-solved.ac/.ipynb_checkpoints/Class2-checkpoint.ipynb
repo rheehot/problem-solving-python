{
 "cells": [
  {
   "cell_type": "markdown",
   "metadata": {},
   "source": [
    "## 1018-체스판다시칠하기"
   ]
  },
  {
   "cell_type": "code",
   "execution_count": null,
   "metadata": {},
   "outputs": [],
   "source": [
    "h,w=map(int,input().split())\n",
    "l=[input() for i in range(h)]\n",
    "m=h*w\n",
    "for i in range(0,h-7):\n",
    "    for j in range(0,w-7):\n",
    "        c=0\n",
    "        for a in range(i, i+8):\n",
    "            for b in range(j, j+8):\n",
    "                if a%2==0 and b%2==0 and l[a][b]=='W': c+=1\n",
    "                if a%2==0 and b%2==1 and l[a][b]=='B': c+=1\n",
    "                if a%2==1 and b%2==0 and l[a][b]=='B': c+=1\n",
    "                if a%2==1 and b%2==1 and l[a][b]=='W': c+=1\n",
    "        if min(c, 64-c) < m: m=min(c, 64-c)\n",
    "print(m)"
   ]
  },
  {
   "cell_type": "markdown",
   "metadata": {},
   "source": [
    "## 1085-직사각형에서 탈출"
   ]
  },
  {
   "cell_type": "code",
   "execution_count": null,
   "metadata": {},
   "outputs": [],
   "source": [
    "x,y,w,h=map(int,input().split())\n",
    "print(min(w-x,x,h-y,y))"
   ]
  },
  {
   "cell_type": "markdown",
   "metadata": {},
   "source": [
    "## 1181-단어정렬"
   ]
  },
  {
   "cell_type": "code",
   "execution_count": null,
   "metadata": {},
   "outputs": [],
   "source": [
    "n=int(input())\n",
    "l=[input() for i in range(n)]\n",
    "print('\\n'.join(sorted(sorted(list(set(l))),key=len)))"
   ]
  },
  {
   "cell_type": "markdown",
   "metadata": {},
   "source": [
    "## 1259-팰린드롬수"
   ]
  },
  {
   "cell_type": "code",
   "execution_count": null,
   "metadata": {},
   "outputs": [],
   "source": [
    "while True:\n",
    "    k=input()\n",
    "    if k=='0': break\n",
    "    s,e=0,len(k)-1\n",
    "    while s-e<2:\n",
    "        if k[s]!=k[e]: print('no'); break\n",
    "        s,e=s+1,e-1\n",
    "    else: print('yes')"
   ]
  },
  {
   "cell_type": "markdown",
   "metadata": {},
   "source": [
    "## 1920-수 찾기"
   ]
  },
  {
   "cell_type": "code",
   "execution_count": null,
   "metadata": {},
   "outputs": [],
   "source": [
    "n_=int(input())\n",
    "n=sorted(input().split())\n",
    "m_=int(input())\n",
    "m=reversed(sorted(input().split()))\n",
    "print(*[1 if i in n else 0 for i in m],sep='\\n')"
   ]
  },
  {
   "cell_type": "markdown",
   "metadata": {},
   "source": [
    "#### --> 시간초과!!"
   ]
  },
  {
   "cell_type": "code",
   "execution_count": null,
   "metadata": {},
   "outputs": [],
   "source": [
    "def bin_search(target, data):\n",
    "    s,e=0,len(data)-1\n",
    "    while s<=e:\n",
    "        m=(s+e)//2\n",
    "        if data[m]==target: return True\n",
    "        elif data[m]<target: s=m+1\n",
    "        else: e=m-1\n",
    "    return False\n",
    "\n",
    "n_=int(input())\n",
    "n=sorted(list(map(int,input().split())))\n",
    "m_=int(input())\n",
    "m=map(int,input().split())\n",
    "print(*[1 if bin_search(i,n) else 0 for i in m],sep='\\n')"
   ]
  },
  {
   "cell_type": "markdown",
   "metadata": {},
   "source": [
    "## 2164-카드2"
   ]
  },
  {
   "cell_type": "code",
   "execution_count": null,
   "metadata": {},
   "outputs": [],
   "source": [
    "l=list(range(1,int(input())+1))\n",
    "while len(l)>1:\n",
    "    l=l[1:]\n",
    "    l=l[1:]+l[0:1]\n",
    "print(l[0])"
   ]
  },
  {
   "cell_type": "markdown",
   "metadata": {},
   "source": [
    "#### --> 시간초과!!\n"
   ]
  },
  {
   "cell_type": "code",
   "execution_count": null,
   "metadata": {},
   "outputs": [],
   "source": [
    "from collections import deque\n",
    "dq=deque(list(range(1,int(input())+1)))\n",
    "while len(dq)>1:\n",
    "    dq.popleft()\n",
    "    dq.append(dq.popleft())\n",
    "print(dq[0])"
   ]
  },
  {
   "cell_type": "markdown",
   "metadata": {},
   "source": [
    "## 2609-최대공약수와 최소공배수 "
   ]
  },
  {
   "cell_type": "code",
   "execution_count": null,
   "metadata": {},
   "outputs": [],
   "source": [
    "import math\n",
    "a,b=map(int,input().split())\n",
    "print(math.gcd(a,b),a*b//math.gcd(a,b),sep='\\n')"
   ]
  },
  {
   "cell_type": "markdown",
   "metadata": {},
   "source": [
    "## 2751-수 정렬하기2"
   ]
  },
  {
   "cell_type": "code",
   "execution_count": null,
   "metadata": {},
   "outputs": [],
   "source": [
    "print(*sorted([int(input()) for i in range(int(input()))]),sep='\\n')"
   ]
  },
  {
   "cell_type": "markdown",
   "metadata": {},
   "source": [
    "#### 시간초과.."
   ]
  },
  {
   "cell_type": "code",
   "execution_count": null,
   "metadata": {},
   "outputs": [],
   "source": [
    "import heapq\n",
    "q=[]\n",
    "for i in range(int(input())): heapq.heappush(q,int(input()))\n",
    "while q: print(heapq.heappop(q))"
   ]
  },
  {
   "cell_type": "markdown",
   "metadata": {},
   "source": [
    "#### 또초과.. PyPy3로 제출/readline 사용\n",
    "##### 밑에껀 숏코딩"
   ]
  },
  {
   "cell_type": "code",
   "execution_count": null,
   "metadata": {},
   "outputs": [],
   "source": [
    "print(*sorted(map(int,[*open(0)][1:])))"
   ]
  },
  {
   "cell_type": "markdown",
   "metadata": {},
   "source": [
    "## 2798-블랙잭"
   ]
  },
  {
   "cell_type": "code",
   "execution_count": null,
   "metadata": {},
   "outputs": [],
   "source": [
    "from itertools import combinations\n",
    "a,b=map(int,input().split())\n",
    "n=list(combinations(list(map(int, input().split())),3))\n",
    "print(max(map(sum,(list(filter(lambda x:sum(x)<=b,n))))))"
   ]
  },
  {
   "cell_type": "markdown",
   "metadata": {},
   "source": [
    "## 9012-괄호"
   ]
  },
  {
   "cell_type": "code",
   "execution_count": null,
   "metadata": {},
   "outputs": [],
   "source": [
    "def f(s):\n",
    "    p = []\n",
    "    for i in s:\n",
    "        if i == '(':\n",
    "            p.append('(')\n",
    "        else:\n",
    "            if len(p) > 0: p.pop()\n",
    "            else: return 'NO'\n",
    "    return 'YES' if len(p) == 0 else 'NO'\n",
    "for i in range(int(input())): print(f(input()))"
   ]
  },
  {
   "cell_type": "markdown",
   "metadata": {},
   "source": [
    "## 10814-나이 순 정렬"
   ]
  },
  {
   "cell_type": "code",
   "execution_count": null,
   "metadata": {},
   "outputs": [],
   "source": [
    "s=sorted([(str(i)+' '+input()).split() for i in range(int(input()))],key=lambda x:(int(x[1]),int(x[0])))\n",
    "for i in s: print(i[1],i[2])"
   ]
  },
  {
   "cell_type": "markdown",
   "metadata": {},
   "source": [
    "## 10816 숫자카드2"
   ]
  },
  {
   "cell_type": "code",
   "execution_count": null,
   "metadata": {},
   "outputs": [],
   "source": [
    "input();c=input().split();input();\n",
    "print(*list(map(lambda x:c.count(x),input().split())),sep=' ')"
   ]
  },
  {
   "cell_type": "markdown",
   "metadata": {},
   "source": [
    "--> 시간초과!!"
   ]
  },
  {
   "cell_type": "code",
   "execution_count": null,
   "metadata": {},
   "outputs": [],
   "source": [
    "import bisect as b\n",
    "c_=int(input())\n",
    "c=sorted(map(int,input().split()))\n",
    "m_=int(input())\n",
    "m=map(int,input().split())\n",
    "for i in m:\n",
    "    k=b.bisect_right(c,i)-b.bisect_left(c,i)\n",
    "    if k: print(k, end=' ')\n",
    "    else: print(0, end=' ')"
   ]
  },
  {
   "cell_type": "markdown",
   "metadata": {},
   "source": [
    "## 10828 스택"
   ]
  },
  {
   "cell_type": "code",
   "execution_count": null,
   "metadata": {},
   "outputs": [],
   "source": [
    "stack=[]\n",
    "for i in range(int(input())):\n",
    "    cmd=input().split()\n",
    "    if cmd[0]=='push': stack.append(int(cmd[1]))\n",
    "    if cmd[0]=='pop':\n",
    "        if stack: print(stack.pop())\n",
    "        else: print(-1)\n",
    "    if cmd[0]=='size': print(len(stack))\n",
    "    if cmd[0]=='empty':\n",
    "        if stack: print(1)\n",
    "        else: print(0)\n",
    "    if cmd[0]=='top':\n",
    "        if stack: print(stack[-1])\n",
    "        else: print(-1)"
   ]
  },
  {
   "cell_type": "code",
   "execution_count": null,
   "metadata": {},
   "outputs": [],
   "source": [
    "import sys\n",
    "stack=[]\n",
    "stack_size = 0\n",
    "for i in range(int(sys.stdin.readline()):\n",
    "    cmd=sys.stdin.readline().split()\n",
    "    if cmd[0]=='push': \n",
    "        stack.append(int(cmd[1]))\n",
    "        stack_size+=1\n",
    "    if cmd[0]=='pop':\n",
    "        if stack: \n",
    "            print(stack.pop())\n",
    "            stack_size-=1\n",
    "        else: print(-1)\n",
    "    if cmd[0]=='size': print(stack_size)\n",
    "    if cmd[0]=='empty':\n",
    "        if stack: print(0)\n",
    "        else: print(1)\n",
    "    if cmd[0]=='top':\n",
    "        if stack: print(stack[-1])\n",
    "        else: print(-1)"
   ]
  },
  {
   "cell_type": "markdown",
   "metadata": {},
   "source": [
    "## 10845-큐"
   ]
  },
  {
   "cell_type": "code",
   "execution_count": null,
   "metadata": {},
   "outputs": [],
   "source": [
    "import sys\n",
    "from collections import deque\n",
    "q=deque()\n",
    "q_size=0\n",
    "for i in range(int(sys.stdin.readline())):\n",
    "    cmd=sys.stdin.readline().split()\n",
    "    if cmd[0]=='push': \n",
    "        q.append(int(cmd[1]))\n",
    "        q_size+=1\n",
    "    if cmd[0]=='pop':\n",
    "        if q: \n",
    "            print(q.popleft())\n",
    "            q_size-=1\n",
    "        else: print(-1)\n",
    "    if cmd[0]=='size': print(q_size)\n",
    "    if cmd[0]=='empty':\n",
    "        if q: print(0)\n",
    "        else: print(1)\n",
    "    if cmd[0]=='front':\n",
    "        if q: print(q[0])\n",
    "        else: print(-1)\n",
    "    if cmd[0]=='back':\n",
    "        if q: print(q[-1])\n",
    "        else: print(-1)"
   ]
  },
  {
   "cell_type": "markdown",
   "metadata": {},
   "source": [
    "##  10866-덱"
   ]
  },
  {
   "cell_type": "code",
   "execution_count": null,
   "metadata": {},
   "outputs": [],
   "source": [
    "import sys\n",
    "from collections import deque\n",
    "q=deque()\n",
    "q_size=0\n",
    "for i in range(int(sys.stdin.readline())):\n",
    "    cmd=sys.stdin.readline().split()\n",
    "    if cmd[0]=='push_front': \n",
    "        q.appendleft(int(cmd[1]))\n",
    "        q_size+=1\n",
    "    if cmd[0]=='push_back': \n",
    "        q.append(int(cmd[1]))\n",
    "        q_size+=1\n",
    "    if cmd[0]=='pop_front':\n",
    "        if q: \n",
    "            print(q.popleft())\n",
    "            q_size-=1\n",
    "        else: print(-1)\n",
    "    if cmd[0]=='pop_back':\n",
    "        if q: \n",
    "            print(q.pop())\n",
    "            q_size-=1\n",
    "        else: print(-1)\n",
    "    if cmd[0]=='size': print(q_size)\n",
    "    if cmd[0]=='empty':\n",
    "        if q: print(0)\n",
    "        else: print(1)\n",
    "    if cmd[0]=='front':\n",
    "        if q: print(q[0])\n",
    "        else: print(-1)\n",
    "    if cmd[0]=='back':\n",
    "        if q: print(q[-1])\n",
    "        else: print(-1)"
   ]
  },
  {
   "cell_type": "markdown",
   "metadata": {},
   "source": [
    "## 11050-이항계수"
   ]
  },
  {
   "cell_type": "code",
   "execution_count": null,
   "metadata": {},
   "outputs": [],
   "source": [
    "def fact(n):\n",
    "    if n==0: return 1\n",
    "    s=1\n",
    "    for i in range(1,n+1): s*=i\n",
    "    return s\n",
    "n,k=map(int,input().split())\n",
    "print(fact(n)//(fact(k)*fact(n-k)))"
   ]
  },
  {
   "cell_type": "code",
   "execution_count": null,
   "metadata": {},
   "outputs": [],
   "source": [
    "from math import factorial\n",
    "n, k = map(int, input().split())\n",
    "b = factorial(n) // (factorial(k) * factorial(n - k))\n",
    "print(b)"
   ]
  },
  {
   "cell_type": "markdown",
   "metadata": {},
   "source": [
    "## 11650-좌표 정렬하기"
   ]
  },
  {
   "cell_type": "code",
   "execution_count": null,
   "metadata": {},
   "outputs": [],
   "source": [
    "l=sorted([list(map(int,input().split())) for i in range(int(input()))],key=lambda x:(x[0], x[1]))\n",
    "for i in l: print(i[0],i[1])"
   ]
  },
  {
   "cell_type": "markdown",
   "metadata": {},
   "source": [
    "## 11866-요세푸스 문제 0"
   ]
  },
  {
   "cell_type": "code",
   "execution_count": null,
   "metadata": {},
   "outputs": [],
   "source": [
    "from collections import deque\n",
    "n, k = map(int, input().split())\n",
    "s = deque([])\n",
    "for i in range(1, n + 1):\n",
    "    s.append(i)\n",
    "print('<', end='')\n",
    "while s:\n",
    "    for i in range(k - 1):\n",
    "        s.append(s[0])\n",
    "        s.popleft()\n",
    "    print(s.popleft(), end='')\n",
    "    if s:\n",
    "        print(', ', end='')\n",
    "print('>')"
   ]
  },
  {
   "cell_type": "markdown",
   "metadata": {},
   "source": [
    "## 1436-영화감독 숌"
   ]
  },
  {
   "cell_type": "code",
   "execution_count": null,
   "metadata": {},
   "outputs": [],
   "source": [
    "n = int(input())\n",
    "cnt = 0\n",
    "six_n = 666\n",
    "while True:\n",
    "    if '666' in str(six_n):\n",
    "        cnt += 1\n",
    "    if cnt == n:\n",
    "        print(six_n)\n",
    "        break\n",
    "    six_n += 1"
   ]
  },
  {
   "cell_type": "markdown",
   "metadata": {},
   "source": [
    "## 1654-랜선 자르기"
   ]
  },
  {
   "cell_type": "code",
   "execution_count": null,
   "metadata": {},
   "outputs": [],
   "source": [
    "import sys\n",
    "K, N = map(int, input().split())\n",
    "lan = [int(sys.stdin.readline()) for _ in range(K)]\n",
    "start, end = 1, max(lan)\n",
    "\n",
    "while start <= end:\n",
    "    mid = (start + end) // 2\n",
    "    lines = 0\n",
    "    for i in lan:\n",
    "        lines += i // mid\n",
    "        \n",
    "    if lines >= N:\n",
    "        start = mid + 1\n",
    "    else:\n",
    "        end = mid - 1\n",
    "print(end)"
   ]
  },
  {
   "cell_type": "markdown",
   "metadata": {},
   "source": [
    "## 1874-스택 수열(KEEP)"
   ]
  },
  {
   "cell_type": "code",
   "execution_count": null,
   "metadata": {},
   "outputs": [],
   "source": [
    "s=[]\n",
    "n=[int(input()) for _ in range(int(input()))][::-1]\n",
    "log=[]\n",
    "while True:\n",
    "    if not n:\n",
    "        print('\\n'.join(log))\n",
    "        break\n",
    "    k=n.pop()\n",
    "    print(k,s,log)\n",
    "    if not s:\n",
    "        for i in range(1,k+1):\n",
    "            s.append(i)\n",
    "            log.append('+')\n",
    "    elif s and s[-1]<=k:\n",
    "        for i in range(s[-1]+1,k+1):\n",
    "            s.append(i)\n",
    "            log.append('+')\n",
    "    else:\n",
    "        print('NO')\n",
    "        break\n",
    "    while s:\n",
    "        s_=s.pop()\n",
    "        log.append('-')\n",
    "        if s_==k:\n",
    "            break\n",
    "    else:\n",
    "        print('NO')\n",
    "        break"
   ]
  },
  {
   "cell_type": "markdown",
   "metadata": {},
   "source": [
    "## 1929-소수 구하기"
   ]
  },
  {
   "cell_type": "code",
   "execution_count": null,
   "metadata": {},
   "outputs": [],
   "source": [
    "M,N=map(int,input().split())\n",
    "a = [False,False] + [True]*(N-1)\n",
    "for i in range(2,int(N**0.5)+1):\n",
    "    if a[i]:\n",
    "        for j in range(2*i, N+1, i):\n",
    "            a[j] = False\n",
    "print(*[i for i in range(M,N+1) if a[i]],sep='\\n')"
   ]
  },
  {
   "cell_type": "markdown",
   "metadata": {},
   "source": [
    "## 1966-프린터 큐"
   ]
  },
  {
   "cell_type": "code",
   "execution_count": null,
   "metadata": {},
   "outputs": [],
   "source": [
    "for i in range(int(input())):\n",
    "    N,M=map(int,input().split())\n",
    "    q=list(zip(range(N),list(map(int,input().split()))))\n",
    "    cnt=0\n",
    "    r=0\n",
    "    while q:\n",
    "        p_=max(list(map(lambda x:x[1],q)))\n",
    "        k=q.pop(0)\n",
    "        if k[1]==p_:\n",
    "            r+=1\n",
    "            if k[0]==M:\n",
    "                print(r)\n",
    "                break\n",
    "        else:\n",
    "            q.append(k)"
   ]
  },
  {
   "cell_type": "markdown",
   "metadata": {},
   "source": [
    "## 2108-통계학"
   ]
  },
  {
   "cell_type": "code",
   "execution_count": null,
   "metadata": {},
   "outputs": [],
   "source": [
    "import sys\n",
    "min_,max_=4000,-4000\n",
    "sum_=0\n",
    "n=[]\n",
    "f=[0]*8002\n",
    "for i in range(int(input())):\n",
    "    k=int(sys.stdin.readline())\n",
    "    sum_+=k\n",
    "    if k<min_: min_=k\n",
    "    if k>max_: max_=k\n",
    "    if k>=0: f[k]+=1\n",
    "    else: f[abs(k)+4001]+=1\n",
    "    n.append(k)\n",
    "print(round(sum_/len(n)))\n",
    "print(*sorted(n)[len(n)//2:len(n)//2+1])\n",
    "f_=[]\n",
    "M=max(f)\n",
    "for idx, i in enumerate(f):\n",
    "    if i==M:\n",
    "        if idx>4000: f_.append(4001-idx)\n",
    "        else: f_.append(idx)\n",
    "if len(f_)>1:\n",
    "    print(sorted(f_)[1])\n",
    "else:\n",
    "    print(f_[0])\n",
    "print(max_-min_)"
   ]
  },
  {
   "cell_type": "markdown",
   "metadata": {},
   "source": [
    "## 2231-분해합"
   ]
  },
  {
   "cell_type": "code",
   "execution_count": null,
   "metadata": {},
   "outputs": [],
   "source": [
    "n=int(input())\n",
    "for i in range(1,n):\n",
    "    if i+sum(list(map(int,str(i))))==n:\n",
    "        print(i)\n",
    "        break\n",
    "else:\n",
    "    print(0)"
   ]
  },
  {
   "cell_type": "markdown",
   "metadata": {},
   "source": [
    "## 18110-solved.ac"
   ]
  },
  {
   "cell_type": "code",
   "execution_count": null,
   "metadata": {},
   "outputs": [],
   "source": [
    "import sys\n",
    "def r_(n): return int(n)+1 if n-int(n)>=0.5 else int(n)\n",
    "o=sorted([int(sys.stdin.readline()) for i in range(int(input()))])\n",
    "r=r_(len(o)*0.15)\n",
    "if o: print(r_(sum(o[r:len(o)-r])/(len(o)-r*2)))\n",
    "else: print(0)"
   ]
  },
  {
   "cell_type": "markdown",
   "metadata": {},
   "source": [
    "4사5입 round vs 내장round 함수에 대한 애매함으로 백준 수정 요청"
   ]
  },
  {
   "cell_type": "code",
   "execution_count": null,
   "metadata": {},
   "outputs": [],
   "source": [
    "def r_(n): return int(n)+1 if n-int(n)>=0.5 else int(n)\n",
    "for i in range(1,300000):\n",
    "    if round(i*0.15)!=r_(i*0.15):\n",
    "        print(i, round(i*0.15), r_(i*0.15))"
   ]
  },
  {
   "cell_type": "markdown",
   "metadata": {},
   "source": [
    "## 2292-벌집"
   ]
  },
  {
   "cell_type": "code",
   "execution_count": 28,
   "metadata": {},
   "outputs": [
    {
     "name": "stdout",
     "output_type": "stream",
     "text": [
      "1\n",
      "1\n"
     ]
    }
   ],
   "source": [
    "n=int(input())\n",
    "s=1\n",
    "if n==1: print(1)\n",
    "else:\n",
    "    for i in range(1,n+1):\n",
    "        if s<=n<=s+6*i:\n",
    "            print(i+1)\n",
    "            break\n",
    "        s+=(6*i)"
   ]
  },
  {
   "cell_type": "markdown",
   "metadata": {},
   "source": [
    "## 2805-나무 자르기"
   ]
  },
  {
   "cell_type": "code",
   "execution_count": 5,
   "metadata": {},
   "outputs": [
    {
     "name": "stdout",
     "output_type": "stream",
     "text": [
      "4 7\n",
      "20 15 10 17\n",
      "15\n"
     ]
    }
   ],
   "source": [
    "import sys\n",
    "n, need = map(int,input().split())\n",
    "trees = sorted(list(map(int, sys.stdin.readline().split())))\n",
    "start, end = 0, trees[-1]\n",
    "while True:\n",
    "    mid = (start+end)//2\n",
    "    cut = 0\n",
    "    for i in trees[::-1]:\n",
    "        if i<=mid: break\n",
    "        cut += (i-mid)\n",
    "    if cut == need:\n",
    "        print(mid)\n",
    "        break\n",
    "    elif cut < need:\n",
    "        end = mid\n",
    "    else:\n",
    "        start = mid+1"
   ]
  },
  {
   "cell_type": "markdown",
   "metadata": {},
   "source": [
    "--> 시간초과,, sort가 문제인가??"
   ]
  },
  {
   "cell_type": "code",
   "execution_count": 7,
   "metadata": {},
   "outputs": [
    {
     "name": "stdout",
     "output_type": "stream",
     "text": [
      "4 7\n",
      "20 15 10 17\n",
      "15\n"
     ]
    }
   ],
   "source": [
    "n, need = map(int,input().split())\n",
    "trees = list(map(int, input().split()))\n",
    "start, end = 0, max(trees)\n",
    "while start<=end:\n",
    "    mid = (start+end)//2\n",
    "    cut = 0\n",
    "    for i in trees:\n",
    "        if i>mid: cut += (i-mid)\n",
    "    if cut >= need:\n",
    "        start = mid+1\n",
    "    else:\n",
    "        end = mid-1\n",
    "print(end)"
   ]
  },
  {
   "cell_type": "markdown",
   "metadata": {},
   "source": [
    "## 2839-설탕 배달"
   ]
  },
  {
   "cell_type": "code",
   "execution_count": 18,
   "metadata": {},
   "outputs": [
    {
     "name": "stdout",
     "output_type": "stream",
     "text": [
      "4\n",
      "-1\n",
      "2\n"
     ]
    }
   ],
   "source": [
    "N=int(input())\n",
    "if N in [4,7]: print(-1); exit()\n",
    "n=N//5\n",
    "N%=5\n",
    "if N in [1,3]: n+=1\n",
    "elif N in [2,4]: n+=2\n",
    "print(n)"
   ]
  },
  {
   "cell_type": "markdown",
   "metadata": {},
   "source": [
    "## 2869-달팽이는 올라가고 싶다"
   ]
  },
  {
   "cell_type": "code",
   "execution_count": 9,
   "metadata": {},
   "outputs": [
    {
     "name": "stdout",
     "output_type": "stream",
     "text": [
      "2 1 5\n",
      "4\n"
     ]
    }
   ],
   "source": [
    "A,B,V=map(int,input().split())\n",
    "if (V-B)%(A-B)==0:\n",
    "    print((V-B)//(A-B))\n",
    "else:\n",
    "    print((V-B)//(A-B)+1)"
   ]
  },
  {
   "cell_type": "markdown",
   "metadata": {},
   "source": [
    "## 4153-직각삼각형"
   ]
  },
  {
   "cell_type": "code",
   "execution_count": 11,
   "metadata": {},
   "outputs": [
    {
     "name": "stdout",
     "output_type": "stream",
     "text": [
      "6 8 10\n",
      "right\n",
      "25 52 60\n",
      "wrong\n",
      "5 12 13\n",
      "right\n",
      "0 0 0\n"
     ]
    }
   ],
   "source": [
    "while 1:\n",
    "    x=sorted(list(map(int,input().split())))\n",
    "    if x[2]==0: break\n",
    "    print(['wrong','right'][x[2]**2==x[0]**2+x[1]**2])"
   ]
  },
  {
   "cell_type": "markdown",
   "metadata": {},
   "source": [
    "## 4949-균형잡힌 세상"
   ]
  },
  {
   "cell_type": "markdown",
   "metadata": {},
   "source": [
    "옛날에 풀었던 괄호문제"
   ]
  },
  {
   "cell_type": "code",
   "execution_count": 13,
   "metadata": {},
   "outputs": [
    {
     "name": "stdout",
     "output_type": "stream",
     "text": [
      "1\n",
      "()()(())\n",
      "YES\n"
     ]
    }
   ],
   "source": [
    "def f(s):\n",
    "    p = []\n",
    "    for i in s:\n",
    "        if i == '(':\n",
    "            p.append('(')\n",
    "        else:\n",
    "            if len(p) > 0: p.pop()\n",
    "            else: return 'NO'\n",
    "    return 'YES' if len(p) == 0 else 'NO'\n",
    "for i in range(int(input())): print(f(input()))"
   ]
  },
  {
   "cell_type": "code",
   "execution_count": 2,
   "metadata": {},
   "outputs": [
    {
     "name": "stdout",
     "output_type": "stream",
     "text": [
      "[(])\n",
      "no\n",
      "[()]\n",
      "no\n",
      "()\n",
      "yes\n",
      "[]\n",
      "yes\n",
      "[][](([[]]))\n",
      "no\n",
      ".\n"
     ]
    }
   ],
   "source": [
    "while 1:\n",
    "    s=input()\n",
    "    if s=='.': break\n",
    "    p1,p2=[],[]\n",
    "    a=1\n",
    "    for i in s:\n",
    "        if i == '(':\n",
    "            p1.append('(')\n",
    "        elif i == '[':\n",
    "            p2.append('[')\n",
    "        elif i == ')':\n",
    "            if p1 and not p2: p1.pop()\n",
    "            else: a=0; break\n",
    "        elif i == ']':\n",
    "            if p2 and not p1: p2.pop()\n",
    "            else: a=0; break\n",
    "    if len(p1)!=0 or len(p2)!=0: a=0\n",
    "    print(['no','yes'][a])"
   ]
  },
  {
   "cell_type": "markdown",
   "metadata": {},
   "source": [
    "[(]) case를 못 해결 -> solution"
   ]
  },
  {
   "cell_type": "code",
   "execution_count": 3,
   "metadata": {},
   "outputs": [
    {
     "name": "stdout",
     "output_type": "stream",
     "text": [
      "1\n",
      "yes\n",
      "[(]\n",
      "no\n",
      ".\n"
     ]
    }
   ],
   "source": [
    "while True:\n",
    "    s = input()\n",
    "    if s == '.': break\n",
    "    stk = []\n",
    "    temp = True\n",
    "    for i in s:\n",
    "        if i == '(' or i == '[':\n",
    "            stk.append(i)\n",
    "        elif i == ')':\n",
    "            if not stk or stk[-1] == '[':\n",
    "                temp = False\n",
    "                break\n",
    "            elif stk[-1] == '(':\n",
    "                stk.pop()\n",
    "        elif i == ']':\n",
    "            if not stk or stk[-1] == '(':\n",
    "                temp = False\n",
    "                break\n",
    "            elif stk[-1] == '[':\n",
    "                stk.pop()\n",
    "    if temp == True and not stk:\n",
    "        print('yes')\n",
    "    else:\n",
    "        print('no')"
   ]
  },
  {
   "cell_type": "markdown",
   "metadata": {},
   "source": [
    "## 10773-제로"
   ]
  },
  {
   "cell_type": "code",
   "execution_count": 5,
   "metadata": {},
   "outputs": [
    {
     "name": "stdout",
     "output_type": "stream",
     "text": [
      "10\n",
      "1\n",
      "3\n",
      "5\n",
      "4\n",
      "0\n",
      "0\n",
      "7\n",
      "0\n",
      "0\n",
      "6\n",
      "7\n"
     ]
    }
   ],
   "source": [
    "n=[]\n",
    "for _ in range(int(input())):\n",
    "    k=int(input())\n",
    "    if k==0: n.pop()\n",
    "    else: n.append(k)\n",
    "print(sum(n))"
   ]
  },
  {
   "cell_type": "markdown",
   "metadata": {},
   "source": [
    "## 10989-수 정렬하기3"
   ]
  },
  {
   "cell_type": "code",
   "execution_count": 2,
   "metadata": {},
   "outputs": [
    {
     "name": "stdout",
     "output_type": "stream",
     "text": [
      "10\n",
      "5\n",
      "2\n",
      "3\n",
      "1\n",
      "4\n",
      "2\n",
      "3\n",
      "5\n",
      "1\n",
      "7\n",
      "1\n",
      "1\n",
      "2\n",
      "2\n",
      "4\n",
      "3\n",
      "3\n",
      "5\n",
      "5\n",
      "7\n"
     ]
    }
   ],
   "source": [
    "import sys\n",
    "import heapq as hq\n",
    "n=[]\n",
    "for _ in range(int(input())):\n",
    "    hq.heappush(n,int(sys.stdin.readline()))\n",
    "\n",
    "for i in n:\n",
    "    sys.stdout.write(i)"
   ]
  },
  {
   "cell_type": "markdown",
   "metadata": {},
   "source": [
    "--> 메모리 초과.. 다시\n",
    "- 문제를 잘 읽자! 자연수 개수 10000이다"
   ]
  },
  {
   "cell_type": "code",
   "execution_count": 8,
   "metadata": {},
   "outputs": [
    {
     "name": "stdout",
     "output_type": "stream",
     "text": [
      "10\n",
      "5\n",
      "2\n",
      "3\n",
      "1\n",
      "4\n",
      "2\n",
      "3\n",
      "5\n",
      "1\n",
      "7\n",
      "1\n",
      "1\n",
      "2\n",
      "2\n",
      "3\n",
      "3\n",
      "4\n",
      "5\n",
      "5\n",
      "7\n"
     ]
    }
   ],
   "source": [
    "import sys\n",
    "n=[0]*10001\n",
    "for _ in range(int(input())):\n",
    "    n[int(sys.stdin.readline())]+=1\n",
    "for n_,i in enumerate(n):\n",
    "    if i!=0:\n",
    "        print((str(n_)+'\\n')*i,end='')"
   ]
  },
  {
   "cell_type": "code",
   "execution_count": null,
   "metadata": {},
   "outputs": [],
   "source": []
  }
 ],
 "metadata": {
  "hide_input": false,
  "kernelspec": {
   "display_name": "Python 3",
   "language": "python",
   "name": "python3"
  }
 },
 "nbformat": 4,
 "nbformat_minor": 4
}
