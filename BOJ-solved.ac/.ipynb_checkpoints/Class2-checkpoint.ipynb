{
 "cells": [
  {
   "cell_type": "markdown",
   "metadata": {},
   "source": [
    "## 1018-체스판다시칠하기"
   ]
  },
  {
   "cell_type": "code",
   "execution_count": null,
   "metadata": {},
   "outputs": [],
   "source": [
    "h,w=map(int,input().split())\n",
    "l=[input() for i in range(h)]\n",
    "m=h*w\n",
    "for i in range(0,h-7):\n",
    "    for j in range(0,w-7):\n",
    "        c=0\n",
    "        for a in range(i, i+8):\n",
    "            for b in range(j, j+8):\n",
    "                if a%2==0 and b%2==0 and l[a][b]=='W': c+=1\n",
    "                if a%2==0 and b%2==1 and l[a][b]=='B': c+=1\n",
    "                if a%2==1 and b%2==0 and l[a][b]=='B': c+=1\n",
    "                if a%2==1 and b%2==1 and l[a][b]=='W': c+=1\n",
    "        if min(c, 64-c) < m: m=min(c, 64-c)\n",
    "print(m)"
   ]
  },
  {
   "cell_type": "markdown",
   "metadata": {},
   "source": [
    "## 1085-직사각형에서 탈출"
   ]
  },
  {
   "cell_type": "code",
   "execution_count": null,
   "metadata": {},
   "outputs": [],
   "source": [
    "x,y,w,h=map(int,input().split())\n",
    "print(min(w-x,x,h-y,y))"
   ]
  },
  {
   "cell_type": "markdown",
   "metadata": {},
   "source": [
    "## 1181-단어정렬"
   ]
  },
  {
   "cell_type": "code",
   "execution_count": null,
   "metadata": {},
   "outputs": [],
   "source": [
    "n=int(input())\n",
    "l=[input() for i in range(n)]\n",
    "print('\\n'.join(sorted(sorted(list(set(l))),key=len)))"
   ]
  },
  {
   "cell_type": "markdown",
   "metadata": {},
   "source": [
    "## 1259-팰린드롬수"
   ]
  },
  {
   "cell_type": "code",
   "execution_count": null,
   "metadata": {},
   "outputs": [],
   "source": [
    "while True:\n",
    "    k=input()\n",
    "    if k=='0': break\n",
    "    s,e=0,len(k)-1\n",
    "    while s-e<2:\n",
    "        if k[s]!=k[e]: print('no'); break\n",
    "        s,e=s+1,e-1\n",
    "    else: print('yes')"
   ]
  },
  {
   "cell_type": "markdown",
   "metadata": {},
   "source": [
    "## 1920-수 찾기"
   ]
  },
  {
   "cell_type": "code",
   "execution_count": null,
   "metadata": {},
   "outputs": [],
   "source": [
    "n_=int(input())\n",
    "n=sorted(input().split())\n",
    "m_=int(input())\n",
    "m=reversed(sorted(input().split()))\n",
    "print(*[1 if i in n else 0 for i in m],sep='\\n')"
   ]
  },
  {
   "cell_type": "markdown",
   "metadata": {},
   "source": [
    "#### --> 시간초과!!"
   ]
  },
  {
   "cell_type": "code",
   "execution_count": null,
   "metadata": {},
   "outputs": [],
   "source": [
    "def bin_search(target, data):\n",
    "    s,e=0,len(data)-1\n",
    "    while s<=e:\n",
    "        m=(s+e)//2\n",
    "        if data[m]==target: return True\n",
    "        elif data[m]<target: s=m+1\n",
    "        else: e=m-1\n",
    "    return False\n",
    "\n",
    "n_=int(input())\n",
    "n=sorted(list(map(int,input().split())))\n",
    "m_=int(input())\n",
    "m=map(int,input().split())\n",
    "print(*[1 if bin_search(i,n) else 0 for i in m],sep='\\n')"
   ]
  },
  {
   "cell_type": "markdown",
   "metadata": {},
   "source": [
    "## 2164-카드2"
   ]
  },
  {
   "cell_type": "code",
   "execution_count": null,
   "metadata": {},
   "outputs": [],
   "source": [
    "l=list(range(1,int(input())+1))\n",
    "while len(l)>1:\n",
    "    l=l[1:]\n",
    "    l=l[1:]+l[0:1]\n",
    "print(l[0])"
   ]
  },
  {
   "cell_type": "markdown",
   "metadata": {},
   "source": [
    "#### --> 시간초과!!\n"
   ]
  },
  {
   "cell_type": "code",
   "execution_count": null,
   "metadata": {},
   "outputs": [],
   "source": [
    "from collections import deque\n",
    "dq=deque(list(range(1,int(input())+1)))\n",
    "while len(dq)>1:\n",
    "    dq.popleft()\n",
    "    dq.append(dq.popleft())\n",
    "print(dq[0])"
   ]
  },
  {
   "cell_type": "markdown",
   "metadata": {},
   "source": [
    "## 2609-최대공약수와 최소공배수 "
   ]
  },
  {
   "cell_type": "code",
   "execution_count": null,
   "metadata": {},
   "outputs": [],
   "source": [
    "import math\n",
    "a,b=map(int,input().split())\n",
    "print(math.gcd(a,b),a*b//math.gcd(a,b),sep='\\n')"
   ]
  },
  {
   "cell_type": "markdown",
   "metadata": {},
   "source": [
    "## 2751-수 정렬하기2"
   ]
  },
  {
   "cell_type": "code",
   "execution_count": null,
   "metadata": {},
   "outputs": [],
   "source": [
    "print(*sorted([int(input()) for i in range(int(input()))]),sep='\\n')"
   ]
  },
  {
   "cell_type": "markdown",
   "metadata": {},
   "source": [
    "#### 시간초과.."
   ]
  },
  {
   "cell_type": "code",
   "execution_count": null,
   "metadata": {},
   "outputs": [],
   "source": [
    "import heapq\n",
    "q=[]\n",
    "for i in range(int(input())): heapq.heappush(q,int(input()))\n",
    "while q: print(heapq.heappop(q))"
   ]
  },
  {
   "cell_type": "markdown",
   "metadata": {},
   "source": [
    "#### 또초과.. PyPy3로 제출/readline 사용\n",
    "##### 밑에껀 숏코딩"
   ]
  },
  {
   "cell_type": "code",
   "execution_count": null,
   "metadata": {},
   "outputs": [],
   "source": [
    "print(*sorted(map(int,[*open(0)][1:])))"
   ]
  },
  {
   "cell_type": "markdown",
   "metadata": {},
   "source": [
    "## 2798-블랙잭"
   ]
  },
  {
   "cell_type": "code",
   "execution_count": null,
   "metadata": {},
   "outputs": [],
   "source": [
    "from itertools import combinations\n",
    "a,b=map(int,input().split())\n",
    "n=list(combinations(list(map(int, input().split())),3))\n",
    "print(max(map(sum,(list(filter(lambda x:sum(x)<=b,n))))))"
   ]
  },
  {
   "cell_type": "markdown",
   "metadata": {},
   "source": [
    "## 9012-괄호"
   ]
  },
  {
   "cell_type": "code",
   "execution_count": null,
   "metadata": {},
   "outputs": [],
   "source": [
    "def f(s):\n",
    "    p = []\n",
    "    for i in s:\n",
    "        if i == '(':\n",
    "            p.append('(')\n",
    "        else:\n",
    "            if len(p) > 0: p.pop()\n",
    "            else: return 'NO'\n",
    "    return 'YES' if len(p) == 0 else 'NO'\n",
    "for i in range(int(input())): print(f(input()))"
   ]
  },
  {
   "cell_type": "markdown",
   "metadata": {},
   "source": [
    "## 10814-나이 순 정렬"
   ]
  },
  {
   "cell_type": "code",
   "execution_count": null,
   "metadata": {},
   "outputs": [],
   "source": [
    "s=sorted([(str(i)+' '+input()).split() for i in range(int(input()))],key=lambda x:(int(x[1]),int(x[0])))\n",
    "for i in s: print(i[1],i[2])"
   ]
  },
  {
   "cell_type": "markdown",
   "metadata": {},
   "source": [
    "## 10816 숫자카드2"
   ]
  },
  {
   "cell_type": "code",
   "execution_count": null,
   "metadata": {},
   "outputs": [],
   "source": [
    "input();c=input().split();input();\n",
    "print(*list(map(lambda x:c.count(x),input().split())),sep=' ')"
   ]
  },
  {
   "cell_type": "markdown",
   "metadata": {},
   "source": [
    "--> 시간초과!!"
   ]
  },
  {
   "cell_type": "code",
   "execution_count": null,
   "metadata": {},
   "outputs": [],
   "source": [
    "import bisect as b\n",
    "c_=int(input())\n",
    "c=sorted(map(int,input().split()))\n",
    "m_=int(input())\n",
    "m=map(int,input().split())\n",
    "for i in m:\n",
    "    k=b.bisect_right(c,i)-b.bisect_left(c,i)\n",
    "    if k: print(k, end=' ')\n",
    "    else: print(0, end=' ')"
   ]
  },
  {
   "cell_type": "markdown",
   "metadata": {},
   "source": [
    "## 10828 스택"
   ]
  },
  {
   "cell_type": "code",
   "execution_count": null,
   "metadata": {},
   "outputs": [],
   "source": [
    "stack=[]\n",
    "for i in range(int(input())):\n",
    "    cmd=input().split()\n",
    "    if cmd[0]=='push': stack.append(int(cmd[1]))\n",
    "    if cmd[0]=='pop':\n",
    "        if stack: print(stack.pop())\n",
    "        else: print(-1)\n",
    "    if cmd[0]=='size': print(len(stack))\n",
    "    if cmd[0]=='empty':\n",
    "        if stack: print(1)\n",
    "        else: print(0)\n",
    "    if cmd[0]=='top':\n",
    "        if stack: print(stack[-1])\n",
    "        else: print(-1)"
   ]
  },
  {
   "cell_type": "code",
   "execution_count": null,
   "metadata": {},
   "outputs": [],
   "source": [
    "import sys\n",
    "stack=[]\n",
    "stack_size = 0\n",
    "for i in range(int(sys.stdin.readline()):\n",
    "    cmd=sys.stdin.readline().split()\n",
    "    if cmd[0]=='push': \n",
    "        stack.append(int(cmd[1]))\n",
    "        stack_size+=1\n",
    "    if cmd[0]=='pop':\n",
    "        if stack: \n",
    "            print(stack.pop())\n",
    "            stack_size-=1\n",
    "        else: print(-1)\n",
    "    if cmd[0]=='size': print(stack_size)\n",
    "    if cmd[0]=='empty':\n",
    "        if stack: print(0)\n",
    "        else: print(1)\n",
    "    if cmd[0]=='top':\n",
    "        if stack: print(stack[-1])\n",
    "        else: print(-1)"
   ]
  },
  {
   "cell_type": "markdown",
   "metadata": {},
   "source": [
    "## 10845-큐"
   ]
  },
  {
   "cell_type": "code",
   "execution_count": null,
   "metadata": {},
   "outputs": [],
   "source": [
    "import sys\n",
    "from collections import deque\n",
    "q=deque()\n",
    "q_size=0\n",
    "for i in range(int(sys.stdin.readline())):\n",
    "    cmd=sys.stdin.readline().split()\n",
    "    if cmd[0]=='push': \n",
    "        q.append(int(cmd[1]))\n",
    "        q_size+=1\n",
    "    if cmd[0]=='pop':\n",
    "        if q: \n",
    "            print(q.popleft())\n",
    "            q_size-=1\n",
    "        else: print(-1)\n",
    "    if cmd[0]=='size': print(q_size)\n",
    "    if cmd[0]=='empty':\n",
    "        if q: print(0)\n",
    "        else: print(1)\n",
    "    if cmd[0]=='front':\n",
    "        if q: print(q[0])\n",
    "        else: print(-1)\n",
    "    if cmd[0]=='back':\n",
    "        if q: print(q[-1])\n",
    "        else: print(-1)"
   ]
  },
  {
   "cell_type": "markdown",
   "metadata": {},
   "source": [
    "##  10866-덱"
   ]
  },
  {
   "cell_type": "code",
   "execution_count": null,
   "metadata": {},
   "outputs": [],
   "source": [
    "import sys\n",
    "from collections import deque\n",
    "q=deque()\n",
    "q_size=0\n",
    "for i in range(int(sys.stdin.readline())):\n",
    "    cmd=sys.stdin.readline().split()\n",
    "    if cmd[0]=='push_front': \n",
    "        q.appendleft(int(cmd[1]))\n",
    "        q_size+=1\n",
    "    if cmd[0]=='push_back': \n",
    "        q.append(int(cmd[1]))\n",
    "        q_size+=1\n",
    "    if cmd[0]=='pop_front':\n",
    "        if q: \n",
    "            print(q.popleft())\n",
    "            q_size-=1\n",
    "        else: print(-1)\n",
    "    if cmd[0]=='pop_back':\n",
    "        if q: \n",
    "            print(q.pop())\n",
    "            q_size-=1\n",
    "        else: print(-1)\n",
    "    if cmd[0]=='size': print(q_size)\n",
    "    if cmd[0]=='empty':\n",
    "        if q: print(0)\n",
    "        else: print(1)\n",
    "    if cmd[0]=='front':\n",
    "        if q: print(q[0])\n",
    "        else: print(-1)\n",
    "    if cmd[0]=='back':\n",
    "        if q: print(q[-1])\n",
    "        else: print(-1)"
   ]
  },
  {
   "cell_type": "markdown",
   "metadata": {},
   "source": [
    "## 11050-이항계수"
   ]
  },
  {
   "cell_type": "code",
   "execution_count": 11,
   "metadata": {},
   "outputs": [
    {
     "name": "stdout",
     "output_type": "stream",
     "text": [
      "5 2\n",
      "10\n"
     ]
    }
   ],
   "source": [
    "def fact(n):\n",
    "    if n==0: return 1\n",
    "    s=1\n",
    "    for i in range(1,n+1): s*=i\n",
    "    return s\n",
    "n,k=map(int,input().split())\n",
    "print(fact(n)//(fact(k)*fact(n-k)))"
   ]
  },
  {
   "cell_type": "code",
   "execution_count": 8,
   "metadata": {},
   "outputs": [
    {
     "name": "stdout",
     "output_type": "stream",
     "text": [
      "5 2\n",
      "10\n"
     ]
    }
   ],
   "source": [
    "from math import factorial\n",
    "n, k = map(int, input().split())\n",
    "b = factorial(n) // (factorial(k) * factorial(n - k))\n",
    "print(b)"
   ]
  },
  {
   "cell_type": "markdown",
   "metadata": {},
   "source": [
    "## 11650-좌표 정렬하기"
   ]
  },
  {
   "cell_type": "code",
   "execution_count": 20,
   "metadata": {},
   "outputs": [
    {
     "name": "stdout",
     "output_type": "stream",
     "text": [
      "5\n",
      "3 4\n",
      "1 1\n",
      "1 -1\n",
      "2 2\n",
      "3 3\n",
      "1 -1\n",
      "1 1\n",
      "2 2\n",
      "3 3\n",
      "3 4\n"
     ]
    }
   ],
   "source": [
    "l=sorted([list(map(int,input().split())) for i in range(int(input()))],key=lambda x:(x[0], x[1]))\n",
    "for i in l: print(i[0],i[1])"
   ]
  },
  {
   "cell_type": "markdown",
   "metadata": {},
   "source": [
    "## 11866-요세푸스 문제 0"
   ]
  },
  {
   "cell_type": "code",
   "execution_count": 33,
   "metadata": {},
   "outputs": [
    {
     "name": "stdout",
     "output_type": "stream",
     "text": [
      "7 3\n",
      "<3, 6, 2, 7, 5, 1, 4>\n"
     ]
    }
   ],
   "source": [
    "from collections import deque\n",
    "n, k = map(int, input().split())\n",
    "s = deque([])\n",
    "for i in range(1, n + 1):\n",
    "    s.append(i)\n",
    "print('<', end='')\n",
    "while s:\n",
    "    for i in range(k - 1):\n",
    "        s.append(s[0])\n",
    "        s.popleft()\n",
    "    print(s.popleft(), end='')\n",
    "    if s:\n",
    "        print(', ', end='')\n",
    "print('>')"
   ]
  },
  {
   "cell_type": "markdown",
   "metadata": {},
   "source": [
    "## 1436-영화감독 숌"
   ]
  },
  {
   "cell_type": "code",
   "execution_count": 5,
   "metadata": {},
   "outputs": [
    {
     "name": "stdout",
     "output_type": "stream",
     "text": [
      "10\n",
      "6663\n"
     ]
    }
   ],
   "source": [
    "n = int(input())\n",
    "cnt = 0\n",
    "six_n = 666\n",
    "while True:\n",
    "    if '666' in str(six_n):\n",
    "        cnt += 1\n",
    "    if cnt == n:\n",
    "        print(six_n)\n",
    "        break\n",
    "    six_n += 1"
   ]
  },
  {
   "cell_type": "markdown",
   "metadata": {},
   "source": [
    "## 1654-랜선 자르기"
   ]
  },
  {
   "cell_type": "code",
   "execution_count": 12,
   "metadata": {},
   "outputs": [
    {
     "name": "stdout",
     "output_type": "stream",
     "text": [
      "4 11\n",
      "802\n",
      "743\n",
      "457\n",
      "539\n",
      "1 802 401 0\n",
      "1 400 200 0\n",
      "201 400 300 0\n",
      "201 299 250 0\n",
      "201 249 225 0\n",
      "201 224 212 0\n",
      "201 211 206 0\n",
      "201 205 203 0\n",
      "201 202 201 0\n",
      "200\n"
     ]
    }
   ],
   "source": [
    "import sys\n",
    "K, N = map(int, input().split())\n",
    "lan = [int(sys.stdin.readline()) for _ in range(K)]\n",
    "start, end = 1, max(lan)\n",
    "\n",
    "while start <= end:\n",
    "    mid = (start + end) // 2\n",
    "    lines = 0\n",
    "    for i in lan:\n",
    "        lines += i // mid\n",
    "        \n",
    "    if lines >= N:\n",
    "        start = mid + 1\n",
    "    else:\n",
    "        end = mid - 1\n",
    "print(end)"
   ]
  },
  {
   "cell_type": "markdown",
   "metadata": {},
   "source": [
    "## 1874-스택 수열(KEEP)"
   ]
  },
  {
   "cell_type": "code",
   "execution_count": 23,
   "metadata": {},
   "outputs": [
    {
     "name": "stdout",
     "output_type": "stream",
     "text": [
      "8\n",
      "4\n",
      "3\n",
      "6\n",
      "8\n",
      "7\n",
      "5\n",
      "2\n",
      "1\n",
      "4 [] []\n",
      "3 [1, 2, 3] ['+', '+', '+', '+', '-']\n",
      "6 [1, 2] ['+', '+', '+', '+', '-', '-']\n",
      "8 [1, 2, 3, 4, 5] ['+', '+', '+', '+', '-', '-', '+', '+', '+', '+', '-']\n",
      "7 [1, 2, 3, 4, 5, 6, 7] ['+', '+', '+', '+', '-', '-', '+', '+', '+', '+', '-', '+', '+', '+', '-']\n",
      "5 [1, 2, 3, 4, 5, 6] ['+', '+', '+', '+', '-', '-', '+', '+', '+', '+', '-', '+', '+', '+', '-', '-']\n",
      "NO\n"
     ]
    }
   ],
   "source": [
    "s=[]\n",
    "n=[int(input()) for _ in range(int(input()))][::-1]\n",
    "log=[]\n",
    "while True:\n",
    "    if not n:\n",
    "        print('\\n'.join(log))\n",
    "        break\n",
    "    k=n.pop()\n",
    "    print(k,s,log)\n",
    "    if not s:\n",
    "        for i in range(1,k+1):\n",
    "            s.append(i)\n",
    "            log.append('+')\n",
    "    elif s and s[-1]<=k:\n",
    "        for i in range(s[-1]+1,k+1):\n",
    "            s.append(i)\n",
    "            log.append('+')\n",
    "    else:\n",
    "        print('NO')\n",
    "        break\n",
    "    while s:\n",
    "        s_=s.pop()\n",
    "        log.append('-')\n",
    "        if s_==k:\n",
    "            break\n",
    "    else:\n",
    "        print('NO')\n",
    "        break"
   ]
  },
  {
   "cell_type": "markdown",
   "metadata": {},
   "source": [
    "## 1929-소수 구하기"
   ]
  },
  {
   "cell_type": "code",
   "execution_count": 66,
   "metadata": {},
   "outputs": [
    {
     "name": "stdout",
     "output_type": "stream",
     "text": [
      "0 100\n",
      "2\n",
      "3\n",
      "5\n",
      "7\n",
      "11\n",
      "13\n",
      "17\n",
      "19\n",
      "23\n",
      "29\n",
      "31\n",
      "37\n",
      "41\n",
      "43\n",
      "47\n",
      "53\n",
      "59\n",
      "61\n",
      "67\n",
      "71\n",
      "73\n",
      "79\n",
      "83\n",
      "89\n",
      "97\n"
     ]
    }
   ],
   "source": [
    "M,N=map(int,input().split())\n",
    "a = [False,False] + [True]*(N-1)\n",
    "for i in range(2,int(N**0.5)+1):\n",
    "    if a[i]:\n",
    "        for j in range(2*i, N+1, i):\n",
    "            a[j] = False\n",
    "print(*[i for i in range(M,N+1) if a[i]],sep='\\n')"
   ]
  },
  {
   "cell_type": "markdown",
   "metadata": {},
   "source": [
    "## 1966-프린터 큐"
   ]
  },
  {
   "cell_type": "code",
   "execution_count": 4,
   "metadata": {},
   "outputs": [
    {
     "name": "stdout",
     "output_type": "stream",
     "text": [
      "3\n",
      "1 0\n",
      "5\n",
      "1\n",
      "4 2\n",
      "1 2 3 4\n",
      "2\n",
      "6 0\n",
      "1 1 9 1 1 1\n",
      "5\n"
     ]
    }
   ],
   "source": [
    "for i in range(int(input())):\n",
    "    N,M=map(int,input().split())\n",
    "    q=list(zip(range(N),list(map(int,input().split()))))\n",
    "    cnt=0\n",
    "    r=0\n",
    "    while q:\n",
    "        p_=max(list(map(lambda x:x[1],q)))\n",
    "        k=q.pop(0)\n",
    "        if k[1]==p_:\n",
    "            r+=1\n",
    "            if k[0]==M:\n",
    "                print(r)\n",
    "                break\n",
    "        else:\n",
    "            q.append(k)"
   ]
  },
  {
   "cell_type": "markdown",
   "metadata": {},
   "source": [
    "## 2108-통계학"
   ]
  },
  {
   "cell_type": "code",
   "execution_count": 2,
   "metadata": {},
   "outputs": [
    {
     "name": "stdout",
     "output_type": "stream",
     "text": [
      "2\n",
      "4000\n",
      "-4000\n",
      "0\n",
      "4000\n",
      "4000\n",
      "8000\n"
     ]
    }
   ],
   "source": [
    "import sys\n",
    "min_,max_=4000,-4000\n",
    "sum_=0\n",
    "n=[]\n",
    "f=[0]*8002\n",
    "for i in range(int(input())):\n",
    "    k=int(sys.stdin.readline())\n",
    "    sum_+=k\n",
    "    if k<min_: min_=k\n",
    "    if k>max_: max_=k\n",
    "    if k>=0: f[k]+=1\n",
    "    else: f[abs(k)+4001]+=1\n",
    "    n.append(k)\n",
    "print(round(sum_/len(n)))\n",
    "print(*sorted(n)[len(n)//2:len(n)//2+1])\n",
    "f_=[]\n",
    "M=max(f)\n",
    "for idx, i in enumerate(f):\n",
    "    if i==M:\n",
    "        if idx>4000: f_.append(4001-idx)\n",
    "        else: f_.append(idx)\n",
    "if len(f_)>1:\n",
    "    print(sorted(f_)[1])\n",
    "else:\n",
    "    print(f_[0])\n",
    "print(max_-min_)"
   ]
  },
  {
   "cell_type": "markdown",
   "metadata": {},
   "source": [
    "## 2231-분해합"
   ]
  },
  {
   "cell_type": "code",
   "execution_count": 9,
   "metadata": {},
   "outputs": [
    {
     "name": "stdout",
     "output_type": "stream",
     "text": [
      "216\n",
      "198\n"
     ]
    }
   ],
   "source": [
    "n=int(input())\n",
    "for i in range(1,n):\n",
    "    if i+sum(list(map(int,str(i))))==n:\n",
    "        print(i)\n",
    "        break\n",
    "else:\n",
    "    print(0)"
   ]
  },
  {
   "cell_type": "markdown",
   "metadata": {},
   "source": [
    "## 18110-solved.ac"
   ]
  },
  {
   "cell_type": "code",
   "execution_count": 3,
   "metadata": {},
   "outputs": [
    {
     "name": "stdout",
     "output_type": "stream",
     "text": [
      "10\n"
     ]
    },
    {
     "ename": "ValueError",
     "evalue": "invalid literal for int() with base 10: ''",
     "output_type": "error",
     "traceback": [
      "\u001b[1;31m----------------------------------------------------------------------\u001b[0m",
      "\u001b[1;31mValueError\u001b[0m                           Traceback (most recent call last)",
      "\u001b[1;32m<ipython-input-3-80ce900b4bd4>\u001b[0m in \u001b[0;36m<module>\u001b[1;34m\u001b[0m\n\u001b[0;32m      1\u001b[0m \u001b[1;32mimport\u001b[0m \u001b[0msys\u001b[0m\u001b[1;33m\u001b[0m\u001b[1;33m\u001b[0m\u001b[0m\n\u001b[0;32m      2\u001b[0m \u001b[1;32mdef\u001b[0m \u001b[0mround_\u001b[0m\u001b[1;33m(\u001b[0m\u001b[0mn\u001b[0m\u001b[1;33m)\u001b[0m\u001b[1;33m:\u001b[0m \u001b[1;32mreturn\u001b[0m \u001b[0mint\u001b[0m\u001b[1;33m(\u001b[0m\u001b[0mn\u001b[0m\u001b[1;33m)\u001b[0m\u001b[1;33m+\u001b[0m\u001b[1;36m1\u001b[0m \u001b[1;32mif\u001b[0m \u001b[0mn\u001b[0m\u001b[1;33m-\u001b[0m\u001b[0mint\u001b[0m\u001b[1;33m(\u001b[0m\u001b[0mn\u001b[0m\u001b[1;33m)\u001b[0m\u001b[1;33m>=\u001b[0m\u001b[1;36m0.5\u001b[0m \u001b[1;32melse\u001b[0m \u001b[0mint\u001b[0m\u001b[1;33m(\u001b[0m\u001b[0mn\u001b[0m\u001b[1;33m)\u001b[0m\u001b[1;33m\u001b[0m\u001b[1;33m\u001b[0m\u001b[0m\n\u001b[1;32m----> 3\u001b[1;33m \u001b[0mo\u001b[0m\u001b[1;33m=\u001b[0m\u001b[0msorted\u001b[0m\u001b[1;33m(\u001b[0m\u001b[1;33m[\u001b[0m\u001b[0mint\u001b[0m\u001b[1;33m(\u001b[0m\u001b[0msys\u001b[0m\u001b[1;33m.\u001b[0m\u001b[0mstdin\u001b[0m\u001b[1;33m.\u001b[0m\u001b[0mreadline\u001b[0m\u001b[1;33m(\u001b[0m\u001b[1;33m)\u001b[0m\u001b[1;33m)\u001b[0m \u001b[1;32mfor\u001b[0m \u001b[0mi\u001b[0m \u001b[1;32min\u001b[0m \u001b[0mrange\u001b[0m\u001b[1;33m(\u001b[0m\u001b[0mint\u001b[0m\u001b[1;33m(\u001b[0m\u001b[0minput\u001b[0m\u001b[1;33m(\u001b[0m\u001b[1;33m)\u001b[0m\u001b[1;33m)\u001b[0m\u001b[1;33m)\u001b[0m\u001b[1;33m]\u001b[0m\u001b[1;33m)\u001b[0m\u001b[1;33m\u001b[0m\u001b[1;33m\u001b[0m\u001b[0m\n\u001b[0m\u001b[0;32m      4\u001b[0m \u001b[0mr\u001b[0m\u001b[1;33m=\u001b[0m\u001b[0mround_\u001b[0m\u001b[1;33m(\u001b[0m\u001b[0mlen\u001b[0m\u001b[1;33m(\u001b[0m\u001b[0mo\u001b[0m\u001b[1;33m)\u001b[0m\u001b[1;33m*\u001b[0m\u001b[1;36m0.15\u001b[0m\u001b[1;33m)\u001b[0m\u001b[1;33m\u001b[0m\u001b[1;33m\u001b[0m\u001b[0m\n\u001b[0;32m      5\u001b[0m \u001b[1;32mif\u001b[0m \u001b[0mo\u001b[0m\u001b[1;33m:\u001b[0m \u001b[0mprint\u001b[0m\u001b[1;33m(\u001b[0m\u001b[0mround_\u001b[0m\u001b[1;33m(\u001b[0m\u001b[0msum\u001b[0m\u001b[1;33m(\u001b[0m\u001b[0mo\u001b[0m\u001b[1;33m[\u001b[0m\u001b[0mr\u001b[0m\u001b[1;33m:\u001b[0m\u001b[0mlen\u001b[0m\u001b[1;33m(\u001b[0m\u001b[0mo\u001b[0m\u001b[1;33m)\u001b[0m\u001b[1;33m-\u001b[0m\u001b[0mr\u001b[0m\u001b[1;33m]\u001b[0m\u001b[1;33m)\u001b[0m\u001b[1;33m/\u001b[0m\u001b[1;33m(\u001b[0m\u001b[0mlen\u001b[0m\u001b[1;33m(\u001b[0m\u001b[0mo\u001b[0m\u001b[1;33m)\u001b[0m\u001b[1;33m-\u001b[0m\u001b[0mr\u001b[0m\u001b[1;33m*\u001b[0m\u001b[1;36m2\u001b[0m\u001b[1;33m)\u001b[0m\u001b[1;33m)\u001b[0m\u001b[1;33m)\u001b[0m\u001b[1;33m\u001b[0m\u001b[1;33m\u001b[0m\u001b[0m\n",
      "\u001b[1;32m<ipython-input-3-80ce900b4bd4>\u001b[0m in \u001b[0;36m<listcomp>\u001b[1;34m(.0)\u001b[0m\n\u001b[0;32m      1\u001b[0m \u001b[1;32mimport\u001b[0m \u001b[0msys\u001b[0m\u001b[1;33m\u001b[0m\u001b[1;33m\u001b[0m\u001b[0m\n\u001b[0;32m      2\u001b[0m \u001b[1;32mdef\u001b[0m \u001b[0mround_\u001b[0m\u001b[1;33m(\u001b[0m\u001b[0mn\u001b[0m\u001b[1;33m)\u001b[0m\u001b[1;33m:\u001b[0m \u001b[1;32mreturn\u001b[0m \u001b[0mint\u001b[0m\u001b[1;33m(\u001b[0m\u001b[0mn\u001b[0m\u001b[1;33m)\u001b[0m\u001b[1;33m+\u001b[0m\u001b[1;36m1\u001b[0m \u001b[1;32mif\u001b[0m \u001b[0mn\u001b[0m\u001b[1;33m-\u001b[0m\u001b[0mint\u001b[0m\u001b[1;33m(\u001b[0m\u001b[0mn\u001b[0m\u001b[1;33m)\u001b[0m\u001b[1;33m>=\u001b[0m\u001b[1;36m0.5\u001b[0m \u001b[1;32melse\u001b[0m \u001b[0mint\u001b[0m\u001b[1;33m(\u001b[0m\u001b[0mn\u001b[0m\u001b[1;33m)\u001b[0m\u001b[1;33m\u001b[0m\u001b[1;33m\u001b[0m\u001b[0m\n\u001b[1;32m----> 3\u001b[1;33m \u001b[0mo\u001b[0m\u001b[1;33m=\u001b[0m\u001b[0msorted\u001b[0m\u001b[1;33m(\u001b[0m\u001b[1;33m[\u001b[0m\u001b[0mint\u001b[0m\u001b[1;33m(\u001b[0m\u001b[0msys\u001b[0m\u001b[1;33m.\u001b[0m\u001b[0mstdin\u001b[0m\u001b[1;33m.\u001b[0m\u001b[0mreadline\u001b[0m\u001b[1;33m(\u001b[0m\u001b[1;33m)\u001b[0m\u001b[1;33m)\u001b[0m \u001b[1;32mfor\u001b[0m \u001b[0mi\u001b[0m \u001b[1;32min\u001b[0m \u001b[0mrange\u001b[0m\u001b[1;33m(\u001b[0m\u001b[0mint\u001b[0m\u001b[1;33m(\u001b[0m\u001b[0minput\u001b[0m\u001b[1;33m(\u001b[0m\u001b[1;33m)\u001b[0m\u001b[1;33m)\u001b[0m\u001b[1;33m)\u001b[0m\u001b[1;33m]\u001b[0m\u001b[1;33m)\u001b[0m\u001b[1;33m\u001b[0m\u001b[1;33m\u001b[0m\u001b[0m\n\u001b[0m\u001b[0;32m      4\u001b[0m \u001b[0mr\u001b[0m\u001b[1;33m=\u001b[0m\u001b[0mround_\u001b[0m\u001b[1;33m(\u001b[0m\u001b[0mlen\u001b[0m\u001b[1;33m(\u001b[0m\u001b[0mo\u001b[0m\u001b[1;33m)\u001b[0m\u001b[1;33m*\u001b[0m\u001b[1;36m0.15\u001b[0m\u001b[1;33m)\u001b[0m\u001b[1;33m\u001b[0m\u001b[1;33m\u001b[0m\u001b[0m\n\u001b[0;32m      5\u001b[0m \u001b[1;32mif\u001b[0m \u001b[0mo\u001b[0m\u001b[1;33m:\u001b[0m \u001b[0mprint\u001b[0m\u001b[1;33m(\u001b[0m\u001b[0mround_\u001b[0m\u001b[1;33m(\u001b[0m\u001b[0msum\u001b[0m\u001b[1;33m(\u001b[0m\u001b[0mo\u001b[0m\u001b[1;33m[\u001b[0m\u001b[0mr\u001b[0m\u001b[1;33m:\u001b[0m\u001b[0mlen\u001b[0m\u001b[1;33m(\u001b[0m\u001b[0mo\u001b[0m\u001b[1;33m)\u001b[0m\u001b[1;33m-\u001b[0m\u001b[0mr\u001b[0m\u001b[1;33m]\u001b[0m\u001b[1;33m)\u001b[0m\u001b[1;33m/\u001b[0m\u001b[1;33m(\u001b[0m\u001b[0mlen\u001b[0m\u001b[1;33m(\u001b[0m\u001b[0mo\u001b[0m\u001b[1;33m)\u001b[0m\u001b[1;33m-\u001b[0m\u001b[0mr\u001b[0m\u001b[1;33m*\u001b[0m\u001b[1;36m2\u001b[0m\u001b[1;33m)\u001b[0m\u001b[1;33m)\u001b[0m\u001b[1;33m)\u001b[0m\u001b[1;33m\u001b[0m\u001b[1;33m\u001b[0m\u001b[0m\n",
      "\u001b[1;31mValueError\u001b[0m: invalid literal for int() with base 10: ''"
     ]
    }
   ],
   "source": [
    "import sys\n",
    "def r_(n): return int(n)+1 if n-int(n)>=0.5 else int(n)\n",
    "o=sorted([int(sys.stdin.readline()) for i in range(int(input()))])\n",
    "r=r_(len(o)*0.15)\n",
    "if o: print(r_(sum(o[r:len(o)-r])/(len(o)-r*2)))\n",
    "else: print(0)"
   ]
  },
  {
   "cell_type": "code",
   "execution_count": 6,
   "metadata": {},
   "outputs": [
    {
     "ename": "TypeError",
     "evalue": "'float' object cannot be interpreted as an integer",
     "output_type": "error",
     "traceback": [
      "\u001b[1;31m----------------------------------------------------------------------\u001b[0m",
      "\u001b[1;31mTypeError\u001b[0m                            Traceback (most recent call last)",
      "\u001b[1;32m<ipython-input-6-bf9db5b89884>\u001b[0m in \u001b[0;36m<module>\u001b[1;34m\u001b[0m\n\u001b[0;32m      1\u001b[0m \u001b[1;32mdef\u001b[0m \u001b[0mr_\u001b[0m\u001b[1;33m(\u001b[0m\u001b[0mn\u001b[0m\u001b[1;33m)\u001b[0m\u001b[1;33m:\u001b[0m \u001b[1;32mreturn\u001b[0m \u001b[0mint\u001b[0m\u001b[1;33m(\u001b[0m\u001b[0mn\u001b[0m\u001b[1;33m)\u001b[0m\u001b[1;33m+\u001b[0m\u001b[1;36m1\u001b[0m \u001b[1;32mif\u001b[0m \u001b[0mn\u001b[0m\u001b[1;33m-\u001b[0m\u001b[0mint\u001b[0m\u001b[1;33m(\u001b[0m\u001b[0mn\u001b[0m\u001b[1;33m)\u001b[0m\u001b[1;33m>=\u001b[0m\u001b[1;36m0.5\u001b[0m \u001b[1;32melse\u001b[0m \u001b[0mint\u001b[0m\u001b[1;33m(\u001b[0m\u001b[0mn\u001b[0m\u001b[1;33m)\u001b[0m\u001b[1;33m\u001b[0m\u001b[1;33m\u001b[0m\u001b[0m\n\u001b[1;32m----> 2\u001b[1;33m \u001b[1;32mfor\u001b[0m \u001b[0mi\u001b[0m \u001b[1;32min\u001b[0m \u001b[0mrange\u001b[0m\u001b[1;33m(\u001b[0m\u001b[1;36m1\u001b[0m\u001b[1;33m,\u001b[0m\u001b[1;36m10000\u001b[0m\u001b[1;33m,\u001b[0m\u001b[1;36m0.01\u001b[0m\u001b[1;33m)\u001b[0m\u001b[1;33m:\u001b[0m\u001b[1;33m\u001b[0m\u001b[1;33m\u001b[0m\u001b[0m\n\u001b[0m\u001b[0;32m      3\u001b[0m     \u001b[1;32mif\u001b[0m \u001b[0mround\u001b[0m\u001b[1;33m(\u001b[0m\u001b[0mi\u001b[0m\u001b[1;33m)\u001b[0m\u001b[1;33m!=\u001b[0m\u001b[0mr_\u001b[0m\u001b[1;33m(\u001b[0m\u001b[0mi\u001b[0m\u001b[1;33m)\u001b[0m\u001b[1;33m:\u001b[0m\u001b[1;33m\u001b[0m\u001b[1;33m\u001b[0m\u001b[0m\n\u001b[0;32m      4\u001b[0m         \u001b[0mprint\u001b[0m\u001b[1;33m(\u001b[0m\u001b[0mi\u001b[0m\u001b[1;33m,\u001b[0m \u001b[0mround\u001b[0m\u001b[1;33m(\u001b[0m\u001b[0mi\u001b[0m\u001b[1;33m)\u001b[0m\u001b[1;33m,\u001b[0m \u001b[0mr_\u001b[0m\u001b[1;33m(\u001b[0m\u001b[0mi\u001b[0m\u001b[1;33m)\u001b[0m\u001b[1;33m)\u001b[0m\u001b[1;33m\u001b[0m\u001b[1;33m\u001b[0m\u001b[0m\n",
      "\u001b[1;31mTypeError\u001b[0m: 'float' object cannot be interpreted as an integer"
     ]
    }
   ],
   "source": [
    "def r_(n): return int(n)+1 if n-int(n)>=0.5 else int(n)\n",
    "for i in range(1,300000):\n",
    "    if round(i*0.15)!=r_(i*0.15):\n",
    "        print(i, round(i), r_(i))"
   ]
  },
  {
   "cell_type": "code",
   "execution_count": null,
   "metadata": {},
   "outputs": [],
   "source": []
  }
 ],
 "metadata": {
  "hide_input": false,
  "kernelspec": {
   "display_name": "Python 3",
   "language": "python",
   "name": "python3"
  },
  "language_info": {
   "codemirror_mode": {
    "name": "ipython",
    "version": 3
   },
   "file_extension": ".py",
   "mimetype": "text/x-python",
   "name": "python",
   "nbconvert_exporter": "python",
   "pygments_lexer": "ipython3",
   "version": "3.7.6"
  }
 },
 "nbformat": 4,
 "nbformat_minor": 4
}
